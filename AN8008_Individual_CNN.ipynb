{
  "nbformat": 4,
  "nbformat_minor": 0,
  "metadata": {
    "colab": {
      "name": "AN8008_Individual_CNN.ipynb",
      "provenance": [],
      "toc_visible": true
    },
    "kernelspec": {
      "display_name": "Python 3",
      "name": "python3"
    },
    "accelerator": "GPU"
  },
  "cells": [
    {
      "cell_type": "markdown",
      "metadata": {
        "id": "-KHCHf4GtaK7"
      },
      "source": [
        "# Step1: Load the Data\n",
        "- First, unpickle all the train and test files\n",
        "- Then convert the image format to (width x height x num_channel)"
      ]
    },
    {
      "cell_type": "code",
      "metadata": {
        "colab": {
          "base_uri": "https://localhost:8080/"
        },
        "id": "e6sVy_iIv9Va",
        "outputId": "64131ad3-aaa7-4d8c-98e2-27b778130eba"
      },
      "source": [
        "# Load the packages needed\n",
        "import numpy as np\n",
        "import pandas as pd\n",
        "\n",
        "import keras\n",
        "from keras.models import Sequential\n",
        "from keras.utils import np_utils\n",
        "from keras.layers import Dense, Dropout, Flatten, Activation, BatchNormalization\n",
        "from keras.layers import Conv2D, MaxPooling2D\n",
        "from keras import regularizers\n",
        "from keras.callbacks import LearningRateScheduler\n",
        "from keras.preprocessing.image import ImageDataGenerator\n",
        "\n",
        "from google.colab import drive\n",
        "drive.mount(\"/content/drive\")"
      ],
      "execution_count": null,
      "outputs": [
        {
          "output_type": "stream",
          "text": [
            "Mounted at /content/drive\n"
          ],
          "name": "stdout"
        }
      ]
    },
    {
      "cell_type": "code",
      "metadata": {
        "id": "l-MtmXyCpCw0"
      },
      "source": [
        "# Put file path as a string here\n",
        "CIFAR_DIR = \"/content/drive/MyDrive/cifar-10-batches-py/\"\n",
        "\n",
        "#The archive contains the files data_batch_1, data_batch_2, ..., data_batch_5, as well as test_batch. \n",
        "#Each of these files is a Python \"pickled\" object produced with cPickle.\n",
        "\n",
        "def unpickle(file):\n",
        "    import pickle\n",
        "    with open(file, 'rb') as fo:\n",
        "        cifar_dict = pickle.load(fo, encoding='bytes')\n",
        "    return cifar_dict"
      ],
      "execution_count": null,
      "outputs": []
    },
    {
      "cell_type": "code",
      "metadata": {
        "id": "xCRihB70pC5M"
      },
      "source": [
        "dirs = ['batches.meta','data_batch_1','data_batch_2','data_batch_3','data_batch_4','data_batch_5','test_batch']\n",
        "all_data = [0,1,2,3,4,5,6]\n",
        "\n",
        "for i, dir in zip(all_data, dirs):\n",
        "    all_data[i] = unpickle(CIFAR_DIR + dir)\n",
        "\n",
        "batch_meta = all_data[0]\n",
        "data_batch1 = all_data[1]\n",
        "data_batch2 = all_data[2]\n",
        "data_batch3 = all_data[3]\n",
        "data_batch4 = all_data[4]\n",
        "data_batch5 = all_data[5]\n",
        "test_batch = all_data[6]"
      ],
      "execution_count": null,
      "outputs": []
    },
    {
      "cell_type": "code",
      "metadata": {
        "colab": {
          "base_uri": "https://localhost:8080/"
        },
        "id": "vLXgVb4pzYlY",
        "outputId": "3cb60786-d135-4c92-eb0d-1ab19375d64d"
      },
      "source": [
        "batch_meta"
      ],
      "execution_count": null,
      "outputs": [
        {
          "output_type": "execute_result",
          "data": {
            "text/plain": [
              "{b'label_names': [b'airplane',\n",
              "  b'automobile',\n",
              "  b'bird',\n",
              "  b'cat',\n",
              "  b'deer',\n",
              "  b'dog',\n",
              "  b'frog',\n",
              "  b'horse',\n",
              "  b'ship',\n",
              "  b'truck'],\n",
              " b'num_cases_per_batch': 10000,\n",
              " b'num_vis': 3072}"
            ]
          },
          "metadata": {
            "tags": []
          },
          "execution_count": 4
        }
      ]
    },
    {
      "cell_type": "code",
      "metadata": {
        "colab": {
          "base_uri": "https://localhost:8080/"
        },
        "id": "2PHmfnsyumGZ",
        "outputId": "16b9764d-587f-4804-b04d-49c320997ac7"
      },
      "source": [
        "data_batch1.keys()"
      ],
      "execution_count": null,
      "outputs": [
        {
          "output_type": "execute_result",
          "data": {
            "text/plain": [
              "dict_keys([b'batch_label', b'labels', b'data', b'filenames'])"
            ]
          },
          "metadata": {
            "tags": []
          },
          "execution_count": 23
        }
      ]
    },
    {
      "cell_type": "markdown",
      "metadata": {
        "id": "rb0QuD1uxPBR"
      },
      "source": [
        "Loaded in this way, each of the batch files contains a dictionary with the following elements:\n",
        "\n",
        "- data -- a 10000x3072 numpy array of uint8s. Each row of the array stores a 32x32 colour image. The first 1024 entries contain the red channel values, the next 1024 the green, and the final 1024 the blue. The image is stored in row-major order, so that the first 32 entries of the array are the red channel values of the first row of the image.\n",
        "labels -- a list of 10000 numbers in the range 0-9. The number at index i indicates the label of the ith image in the array data.\n",
        "The dataset contains another file, called batches.meta. It too contains a Python dictionary object. It has the following entries:\n",
        "\n",
        "- label_names -- a 10-element list which gives meaningful names to the numeric labels in the labels array described above. For example, label_names[0] == \"airplane\", label_names[1] == \"automobile\", etc."
      ]
    },
    {
      "cell_type": "code",
      "metadata": {
        "colab": {
          "base_uri": "https://localhost:8080/"
        },
        "id": "iALAQ1tQxTHO",
        "outputId": "8fbea6e1-205a-4efa-e041-252cbea4f115"
      },
      "source": [
        "# Display a single image using matplotlib\n",
        "import matplotlib.pyplot as plt\n",
        "%matplotlib inline\n",
        "import numpy as np\n",
        "\n",
        "X = data_batch1[b\"data\"]\n",
        "X = X.reshape(10000, 3, 32, 32).transpose(0,2,3,1).astype(\"uint8\")\n",
        "X[0].max()"
      ],
      "execution_count": null,
      "outputs": [
        {
          "output_type": "execute_result",
          "data": {
            "text/plain": [
              "255"
            ]
          },
          "metadata": {
            "tags": []
          },
          "execution_count": 17
        }
      ]
    },
    {
      "cell_type": "code",
      "metadata": {
        "colab": {
          "base_uri": "https://localhost:8080/"
        },
        "id": "I2LAAzVBxxc-",
        "outputId": "b6ceffdc-5027-463c-aab1-bfe8c00474ba"
      },
      "source": [
        "(X[0]/255).max()"
      ],
      "execution_count": null,
      "outputs": [
        {
          "output_type": "execute_result",
          "data": {
            "text/plain": [
              "1.0"
            ]
          },
          "metadata": {
            "tags": []
          },
          "execution_count": 18
        }
      ]
    },
    {
      "cell_type": "code",
      "metadata": {
        "colab": {
          "base_uri": "https://localhost:8080/",
          "height": 283
        },
        "id": "bNlGfMOOxzds",
        "outputId": "d597151b-527e-43aa-a953-4e783104a2a7"
      },
      "source": [
        "plt.imshow(X[0])"
      ],
      "execution_count": null,
      "outputs": [
        {
          "output_type": "execute_result",
          "data": {
            "text/plain": [
              "<matplotlib.image.AxesImage at 0x7fc811b72160>"
            ]
          },
          "metadata": {
            "tags": []
          },
          "execution_count": 19
        },
        {
          "output_type": "display_data",
          "data": {
            "image/png": "[encoded data removed]",
            "text/plain": [
              "<Figure size 432x288 with 1 Axes>"
            ]
          },
          "metadata": {
            "tags": []
          }
        }
      ]
    },
    {
      "cell_type": "code",
      "metadata": {
        "colab": {
          "base_uri": "https://localhost:8080/",
          "height": 283
        },
        "id": "_dqCwAVKx1HZ",
        "outputId": "3641707d-7097-4a91-ea4b-25da49626922"
      },
      "source": [
        "plt.imshow(X[1])"
      ],
      "execution_count": null,
      "outputs": [
        {
          "output_type": "execute_result",
          "data": {
            "text/plain": [
              "<matplotlib.image.AxesImage at 0x7fc811b367b8>"
            ]
          },
          "metadata": {
            "tags": []
          },
          "execution_count": 20
        },
        {
          "output_type": "display_data",
          "data": {
            "image/png": "[encoded data removed]",
            "text/plain": [
              "<Figure size 432x288 with 1 Axes>"
            ]
          },
          "metadata": {
            "tags": []
          }
        }
      ]
    },
    {
      "cell_type": "code",
      "metadata": {
        "colab": {
          "base_uri": "https://localhost:8080/",
          "height": 283
        },
        "id": "hKaKqoKQx1Ks",
        "outputId": "2dd8dc47-a05b-4614-8bb4-f41b9d4b565a"
      },
      "source": [
        "plt.imshow(X[4])"
      ],
      "execution_count": null,
      "outputs": [
        {
          "output_type": "execute_result",
          "data": {
            "text/plain": [
              "<matplotlib.image.AxesImage at 0x7fc810c999e8>"
            ]
          },
          "metadata": {
            "tags": []
          },
          "execution_count": 21
        },
        {
          "output_type": "display_data",
          "data": {
            "image/png": "[encoded data removed]",
            "text/plain": [
              "<Figure size 432x288 with 1 Axes>"
            ]
          },
          "metadata": {
            "tags": []
          }
        }
      ]
    },
    {
      "cell_type": "markdown",
      "metadata": {
        "id": "Qq8boHtk1pLd"
      },
      "source": [
        "# Step2: Data Processing"
      ]
    },
    {
      "cell_type": "markdown",
      "metadata": {
        "id": "G-F4u4M11yEL"
      },
      "source": [
        "Train and test split"
      ]
    },
    {
      "cell_type": "code",
      "metadata": {
        "id": "Puthps1mx1am"
      },
      "source": [
        "train_x = np.concatenate((data_batch1[b'data'], data_batch2[b'data'], data_batch3[b'data'], data_batch4[b'data'], data_batch5[b'data']),axis=0)\n",
        "train_y = np.concatenate((data_batch1[b'labels'], data_batch2[b'labels'], data_batch3[b'labels'], data_batch4[b'labels'], data_batch5[b'labels']),axis=0)\n",
        "test_x = test_batch[b'data']\n",
        "test_y = test_batch[b'labels']\n",
        "\n",
        "# convert the image format to (width x height x num_channel)\n",
        "train_x = np.transpose(np.reshape(train_x, (50000,3,32,32)), (0,2,3,1))\n",
        "test_x = np.transpose(np.reshape(test_x, (10000,3,32,32)), (0,2,3,1))\n",
        " \n",
        "# Normalize the data between 0 and 1\n",
        "x_train = train_x.astype('float32')\n",
        "x_test = test_x.astype('float32')\n",
        "y_train = np.expand_dims(train_y,axis=-1)\n",
        "y_test = np.expand_dims(test_y,axis=-1)\n"
      ],
      "execution_count": null,
      "outputs": []
    },
    {
      "cell_type": "code",
      "metadata": {
        "id": "zjDrgCorl5yL"
      },
      "source": [
        ""
      ],
      "execution_count": null,
      "outputs": []
    },
    {
      "cell_type": "code",
      "metadata": {
        "id": "EuVZ4Lj82Fjm"
      },
      "source": [
        "#z-score normalization\n",
        "mean = np.mean(x_train,axis=(0,1,2,3))\n",
        "std = np.std(x_train,axis=(0,1,2,3))\n",
        "x_train = (x_train-mean)/(std+1e-7)\n",
        "x_test = (x_test-mean)/(std+1e-7)\n",
        " \n",
        "num_classes = 10\n",
        "y_train = np_utils.to_categorical(y_train,num_classes)\n",
        "y_test = np_utils.to_categorical(y_test,num_classes)"
      ],
      "execution_count": null,
      "outputs": []
    },
    {
      "cell_type": "markdown",
      "metadata": {
        "id": "asiQYw9i7MCx"
      },
      "source": [
        "# Step3: Model"
      ]
    },
    {
      "cell_type": "code",
      "metadata": {
        "id": "P5sBUNev7Hib",
        "colab": {
          "base_uri": "https://localhost:8080/"
        },
        "outputId": "accdaded-544f-4d06-f8b6-5d1b115f610e"
      },
      "source": [
        "def lr_schedule(epoch):\n",
        "    lrate = 0.001\n",
        "    if epoch > 75:\n",
        "        lrate = 0.0005\n",
        "    if epoch > 100:\n",
        "        lrate = 0.0003\n",
        "    return lrate\n",
        " \n",
        "weight_decay = 1e-4\n",
        "model = Sequential()\n",
        "model.add(Conv2D(32, (3,3), padding='same', kernel_regularizer=regularizers.l2(weight_decay), input_shape=x_train.shape[1:]))\n",
        "model.add(Activation('elu'))\n",
        "model.add(BatchNormalization())\n",
        "model.add(Conv2D(32, (3,3), padding='same', kernel_regularizer=regularizers.l2(weight_decay)))\n",
        "model.add(Activation('elu'))\n",
        "model.add(BatchNormalization())\n",
        "model.add(MaxPooling2D(pool_size=(2,2)))\n",
        "model.add(Dropout(0.2))\n",
        " \n",
        "model.add(Conv2D(64, (3,3), padding='same', kernel_regularizer=regularizers.l2(weight_decay)))\n",
        "model.add(Activation('elu'))\n",
        "model.add(BatchNormalization())\n",
        "model.add(Conv2D(64, (3,3), padding='same', kernel_regularizer=regularizers.l2(weight_decay)))\n",
        "model.add(Activation('elu'))\n",
        "model.add(BatchNormalization())\n",
        "model.add(MaxPooling2D(pool_size=(2,2)))\n",
        "model.add(Dropout(0.3))\n",
        " \n",
        "model.add(Conv2D(128, (3,3), padding='same', kernel_regularizer=regularizers.l2(weight_decay)))\n",
        "model.add(Activation('elu'))\n",
        "model.add(BatchNormalization())\n",
        "model.add(Conv2D(128, (3,3), padding='same', kernel_regularizer=regularizers.l2(weight_decay)))\n",
        "model.add(Activation('elu'))\n",
        "model.add(BatchNormalization())\n",
        "model.add(MaxPooling2D(pool_size=(2,2)))\n",
        "model.add(Dropout(0.4))\n",
        " \n",
        "model.add(Flatten())\n",
        "model.add(Dense(num_classes, activation='softmax'))\n",
        " \n",
        "model.summary()"
      ],
      "execution_count": null,
      "outputs": [
        {
          "output_type": "stream",
          "text": [
            "Model: \"sequential\"\n",
            "_________________________________________________________________\n",
            "Layer (type)                 Output Shape              Param #   \n",
            "=================================================================\n",
            "conv2d (Conv2D)              (None, 32, 32, 32)        896       \n",
            "_________________________________________________________________\n",
            "activation (Activation)      (None, 32, 32, 32)        0         \n",
            "_________________________________________________________________\n",
            "batch_normalization (BatchNo (None, 32, 32, 32)        128       \n",
            "_________________________________________________________________\n",
            "conv2d_1 (Conv2D)            (None, 32, 32, 32)        9248      \n",
            "_________________________________________________________________\n",
            "activation_1 (Activation)    (None, 32, 32, 32)        0         \n",
            "_________________________________________________________________\n",
            "batch_normalization_1 (Batch (None, 32, 32, 32)        128       \n",
            "_________________________________________________________________\n",
            "max_pooling2d (MaxPooling2D) (None, 16, 16, 32)        0         \n",
            "_________________________________________________________________\n",
            "dropout (Dropout)            (None, 16, 16, 32)        0         \n",
            "_________________________________________________________________\n",
            "conv2d_2 (Conv2D)            (None, 16, 16, 64)        18496     \n",
            "_________________________________________________________________\n",
            "activation_2 (Activation)    (None, 16, 16, 64)        0         \n",
            "_________________________________________________________________\n",
            "batch_normalization_2 (Batch (None, 16, 16, 64)        256       \n",
            "_________________________________________________________________\n",
            "conv2d_3 (Conv2D)            (None, 16, 16, 64)        36928     \n",
            "_________________________________________________________________\n",
            "activation_3 (Activation)    (None, 16, 16, 64)        0         \n",
            "_________________________________________________________________\n",
            "batch_normalization_3 (Batch (None, 16, 16, 64)        256       \n",
            "_________________________________________________________________\n",
            "max_pooling2d_1 (MaxPooling2 (None, 8, 8, 64)          0         \n",
            "_________________________________________________________________\n",
            "dropout_1 (Dropout)          (None, 8, 8, 64)          0         \n",
            "_________________________________________________________________\n",
            "conv2d_4 (Conv2D)            (None, 8, 8, 128)         73856     \n",
            "_________________________________________________________________\n",
            "activation_4 (Activation)    (None, 8, 8, 128)         0         \n",
            "_________________________________________________________________\n",
            "batch_normalization_4 (Batch (None, 8, 8, 128)         512       \n",
            "_________________________________________________________________\n",
            "conv2d_5 (Conv2D)            (None, 8, 8, 128)         147584    \n",
            "_________________________________________________________________\n",
            "activation_5 (Activation)    (None, 8, 8, 128)         0         \n",
            "_________________________________________________________________\n",
            "batch_normalization_5 (Batch (None, 8, 8, 128)         512       \n",
            "_________________________________________________________________\n",
            "max_pooling2d_2 (MaxPooling2 (None, 4, 4, 128)         0         \n",
            "_________________________________________________________________\n",
            "dropout_2 (Dropout)          (None, 4, 4, 128)         0         \n",
            "_________________________________________________________________\n",
            "flatten (Flatten)            (None, 2048)              0         \n",
            "_________________________________________________________________\n",
            "dense (Dense)                (None, 10)                20490     \n",
            "=================================================================\n",
            "Total params: 309,290\n",
            "Trainable params: 308,394\n",
            "Non-trainable params: 896\n",
            "_________________________________________________________________\n"
          ],
          "name": "stdout"
        }
      ]
    },
    {
      "cell_type": "code",
      "metadata": {
        "colab": {
          "base_uri": "https://localhost:8080/"
        },
        "id": "Sw_wLlhPxJob",
        "outputId": "3f98bc6f-483c-4632-e347-e289f145f767"
      },
      "source": [
        "#data augmentation\n",
        "datagen = ImageDataGenerator(\n",
        "    rotation_range=15,\n",
        "    width_shift_range=0.1,\n",
        "    height_shift_range=0.1,\n",
        "    horizontal_flip=True,\n",
        "    )\n",
        "datagen.fit(x_train)\n",
        "\n",
        "#training\n",
        "batch_size = 64\n",
        " \n",
        "opt_rms = keras.optimizers.RMSprop(lr=0.001,decay=1e-6)\n",
        "model.compile(loss='categorical_crossentropy', optimizer=opt_rms, metrics=['accuracy'])\n",
        "model.fit_generator(datagen.flow(x_train, y_train, batch_size=batch_size),\\\n",
        "                    steps_per_epoch=x_train.shape[0] // batch_size,epochs=125,\\\n",
        "                    verbose=1,validation_data=(x_test,y_test),callbacks=[LearningRateScheduler(lr_schedule)])\n"
      ],
      "execution_count": null,
      "outputs": [
        {
          "output_type": "stream",
          "text": [
            "/usr/local/lib/python3.6/dist-packages/tensorflow/python/keras/engine/training.py:1844: UserWarning: `Model.fit_generator` is deprecated and will be removed in a future version. Please use `Model.fit`, which supports generators.\n",
            "  warnings.warn('`Model.fit_generator` is deprecated and '\n"
          ],
          "name": "stderr"
        },
        {
          "output_type": "stream",
          "text": [
            "Epoch 1/125\n",
            "781/781 [==============================] - 32s 31ms/step - loss: 2.3500 - accuracy: 0.3476 - val_loss: 1.5788 - val_accuracy: 0.5228\n",
            "Epoch 2/125\n",
            "781/781 [==============================] - 24s 31ms/step - loss: 1.3262 - accuracy: 0.5629 - val_loss: 1.1477 - val_accuracy: 0.6590\n",
            "Epoch 3/125\n",
            "781/781 [==============================] - 24s 30ms/step - loss: 1.0952 - accuracy: 0.6442 - val_loss: 1.0237 - val_accuracy: 0.7001\n",
            "Epoch 4/125\n",
            "781/781 [==============================] - 24s 31ms/step - loss: 0.9921 - accuracy: 0.6873 - val_loss: 0.9191 - val_accuracy: 0.7200\n",
            "Epoch 5/125\n",
            "781/781 [==============================] - 24s 30ms/step - loss: 0.9232 - accuracy: 0.7115 - val_loss: 0.8701 - val_accuracy: 0.7476\n",
            "Epoch 6/125\n",
            "781/781 [==============================] - 24s 30ms/step - loss: 0.8668 - accuracy: 0.7310 - val_loss: 0.7726 - val_accuracy: 0.7695\n",
            "Epoch 7/125\n",
            "781/781 [==============================] - 24s 30ms/step - loss: 0.8299 - accuracy: 0.7465 - val_loss: 0.8465 - val_accuracy: 0.7591\n",
            "Epoch 8/125\n",
            "781/781 [==============================] - 24s 30ms/step - loss: 0.7972 - accuracy: 0.7565 - val_loss: 0.7535 - val_accuracy: 0.7861\n",
            "Epoch 9/125\n",
            "781/781 [==============================] - 23s 30ms/step - loss: 0.7769 - accuracy: 0.7661 - val_loss: 0.7729 - val_accuracy: 0.7842\n",
            "Epoch 10/125\n",
            "781/781 [==============================] - 24s 30ms/step - loss: 0.7642 - accuracy: 0.7764 - val_loss: 0.7181 - val_accuracy: 0.8032\n",
            "Epoch 11/125\n",
            "781/781 [==============================] - 24s 30ms/step - loss: 0.7436 - accuracy: 0.7842 - val_loss: 0.7212 - val_accuracy: 0.7997\n",
            "Epoch 12/125\n",
            "781/781 [==============================] - 23s 30ms/step - loss: 0.7184 - accuracy: 0.7952 - val_loss: 0.7815 - val_accuracy: 0.7860\n",
            "Epoch 13/125\n",
            "781/781 [==============================] - 24s 30ms/step - loss: 0.7195 - accuracy: 0.7945 - val_loss: 0.6737 - val_accuracy: 0.8164\n",
            "Epoch 14/125\n",
            "781/781 [==============================] - 23s 30ms/step - loss: 0.7005 - accuracy: 0.7989 - val_loss: 0.7439 - val_accuracy: 0.8003\n",
            "Epoch 15/125\n",
            "781/781 [==============================] - 24s 31ms/step - loss: 0.6821 - accuracy: 0.8074 - val_loss: 0.6387 - val_accuracy: 0.8287\n",
            "Epoch 16/125\n",
            "781/781 [==============================] - 25s 31ms/step - loss: 0.6846 - accuracy: 0.8096 - val_loss: 0.6783 - val_accuracy: 0.8147\n",
            "Epoch 17/125\n",
            "781/781 [==============================] - 25s 32ms/step - loss: 0.6795 - accuracy: 0.8098 - val_loss: 0.7270 - val_accuracy: 0.8035\n",
            "Epoch 18/125\n",
            "781/781 [==============================] - 24s 30ms/step - loss: 0.6780 - accuracy: 0.8083 - val_loss: 0.7341 - val_accuracy: 0.8030\n",
            "Epoch 19/125\n",
            "781/781 [==============================] - 23s 30ms/step - loss: 0.6795 - accuracy: 0.8108 - val_loss: 0.6267 - val_accuracy: 0.8358\n",
            "Epoch 20/125\n",
            "781/781 [==============================] - 23s 30ms/step - loss: 0.6678 - accuracy: 0.8142 - val_loss: 0.6293 - val_accuracy: 0.8355\n",
            "Epoch 21/125\n",
            "781/781 [==============================] - 24s 30ms/step - loss: 0.6608 - accuracy: 0.8186 - val_loss: 0.6982 - val_accuracy: 0.8159\n",
            "Epoch 22/125\n",
            "781/781 [==============================] - 23s 30ms/step - loss: 0.6545 - accuracy: 0.8208 - val_loss: 0.6198 - val_accuracy: 0.8357\n",
            "Epoch 23/125\n",
            "781/781 [==============================] - 23s 30ms/step - loss: 0.6577 - accuracy: 0.8200 - val_loss: 0.6185 - val_accuracy: 0.8414\n",
            "Epoch 24/125\n",
            "781/781 [==============================] - 23s 30ms/step - loss: 0.6486 - accuracy: 0.8259 - val_loss: 0.6462 - val_accuracy: 0.8357\n",
            "Epoch 25/125\n",
            "781/781 [==============================] - 23s 30ms/step - loss: 0.6442 - accuracy: 0.8281 - val_loss: 0.6257 - val_accuracy: 0.8357\n",
            "Epoch 26/125\n",
            "781/781 [==============================] - 23s 30ms/step - loss: 0.6452 - accuracy: 0.8276 - val_loss: 0.6391 - val_accuracy: 0.8390\n",
            "Epoch 27/125\n",
            "781/781 [==============================] - 23s 30ms/step - loss: 0.6425 - accuracy: 0.8291 - val_loss: 0.6239 - val_accuracy: 0.8392\n",
            "Epoch 28/125\n",
            "781/781 [==============================] - 23s 30ms/step - loss: 0.6328 - accuracy: 0.8301 - val_loss: 0.6175 - val_accuracy: 0.8445\n",
            "Epoch 29/125\n",
            "781/781 [==============================] - 23s 29ms/step - loss: 0.6293 - accuracy: 0.8347 - val_loss: 0.6125 - val_accuracy: 0.8435\n",
            "Epoch 30/125\n",
            "781/781 [==============================] - 23s 30ms/step - loss: 0.6342 - accuracy: 0.8312 - val_loss: 0.6199 - val_accuracy: 0.8442\n",
            "Epoch 31/125\n",
            "781/781 [==============================] - 23s 30ms/step - loss: 0.6292 - accuracy: 0.8328 - val_loss: 0.6073 - val_accuracy: 0.8424\n",
            "Epoch 32/125\n",
            "781/781 [==============================] - 23s 30ms/step - loss: 0.6264 - accuracy: 0.8362 - val_loss: 0.6257 - val_accuracy: 0.8417\n",
            "Epoch 33/125\n",
            "781/781 [==============================] - 23s 30ms/step - loss: 0.6288 - accuracy: 0.8344 - val_loss: 0.6283 - val_accuracy: 0.8389\n",
            "Epoch 34/125\n",
            "781/781 [==============================] - 24s 30ms/step - loss: 0.6216 - accuracy: 0.8339 - val_loss: 0.6478 - val_accuracy: 0.8386\n",
            "Epoch 35/125\n",
            "781/781 [==============================] - 23s 30ms/step - loss: 0.6234 - accuracy: 0.8367 - val_loss: 0.6314 - val_accuracy: 0.8362\n",
            "Epoch 36/125\n",
            "781/781 [==============================] - 23s 29ms/step - loss: 0.6258 - accuracy: 0.8343 - val_loss: 0.5958 - val_accuracy: 0.8530\n",
            "Epoch 37/125\n",
            "781/781 [==============================] - 23s 29ms/step - loss: 0.6208 - accuracy: 0.8400 - val_loss: 0.6386 - val_accuracy: 0.8396\n",
            "Epoch 38/125\n",
            "781/781 [==============================] - 24s 31ms/step - loss: 0.6149 - accuracy: 0.8399 - val_loss: 0.6390 - val_accuracy: 0.8402\n",
            "Epoch 39/125\n",
            "781/781 [==============================] - 23s 30ms/step - loss: 0.6017 - accuracy: 0.8447 - val_loss: 0.6162 - val_accuracy: 0.8473\n",
            "Epoch 40/125\n",
            "781/781 [==============================] - 23s 30ms/step - loss: 0.6145 - accuracy: 0.8415 - val_loss: 0.5857 - val_accuracy: 0.8507\n",
            "Epoch 41/125\n",
            "781/781 [==============================] - 23s 30ms/step - loss: 0.6028 - accuracy: 0.8448 - val_loss: 0.6178 - val_accuracy: 0.8452\n",
            "Epoch 42/125\n",
            "781/781 [==============================] - 23s 30ms/step - loss: 0.6148 - accuracy: 0.8396 - val_loss: 0.5635 - val_accuracy: 0.8584\n",
            "Epoch 43/125\n",
            "781/781 [==============================] - 23s 30ms/step - loss: 0.6063 - accuracy: 0.8418 - val_loss: 0.5932 - val_accuracy: 0.8517\n",
            "Epoch 44/125\n",
            "781/781 [==============================] - 23s 29ms/step - loss: 0.6070 - accuracy: 0.8424 - val_loss: 0.6621 - val_accuracy: 0.8390\n",
            "Epoch 45/125\n",
            "781/781 [==============================] - 23s 30ms/step - loss: 0.6006 - accuracy: 0.8448 - val_loss: 0.6678 - val_accuracy: 0.8353\n",
            "Epoch 46/125\n",
            "781/781 [==============================] - 23s 30ms/step - loss: 0.5972 - accuracy: 0.8458 - val_loss: 0.6359 - val_accuracy: 0.8435\n",
            "Epoch 47/125\n",
            "781/781 [==============================] - 23s 30ms/step - loss: 0.6026 - accuracy: 0.8436 - val_loss: 0.5977 - val_accuracy: 0.8518\n",
            "Epoch 48/125\n",
            "781/781 [==============================] - 23s 30ms/step - loss: 0.5945 - accuracy: 0.8462 - val_loss: 0.6106 - val_accuracy: 0.8492\n",
            "Epoch 49/125\n",
            "781/781 [==============================] - 24s 30ms/step - loss: 0.5945 - accuracy: 0.8484 - val_loss: 0.6360 - val_accuracy: 0.8455\n",
            "Epoch 50/125\n",
            "781/781 [==============================] - 23s 30ms/step - loss: 0.6015 - accuracy: 0.8470 - val_loss: 0.5596 - val_accuracy: 0.8656\n",
            "Epoch 51/125\n",
            "781/781 [==============================] - 23s 30ms/step - loss: 0.5942 - accuracy: 0.8475 - val_loss: 0.5954 - val_accuracy: 0.8549\n",
            "Epoch 52/125\n",
            "781/781 [==============================] - 23s 30ms/step - loss: 0.5934 - accuracy: 0.8468 - val_loss: 0.5755 - val_accuracy: 0.8595\n",
            "Epoch 53/125\n",
            "781/781 [==============================] - 24s 30ms/step - loss: 0.5945 - accuracy: 0.8491 - val_loss: 0.5921 - val_accuracy: 0.8555\n",
            "Epoch 54/125\n",
            "781/781 [==============================] - 23s 30ms/step - loss: 0.5978 - accuracy: 0.8452 - val_loss: 0.6130 - val_accuracy: 0.8540\n",
            "Epoch 55/125\n",
            "781/781 [==============================] - 23s 30ms/step - loss: 0.5873 - accuracy: 0.8537 - val_loss: 0.5886 - val_accuracy: 0.8583\n",
            "Epoch 56/125\n",
            "781/781 [==============================] - 23s 30ms/step - loss: 0.5895 - accuracy: 0.8492 - val_loss: 0.6010 - val_accuracy: 0.8550\n",
            "Epoch 57/125\n",
            "781/781 [==============================] - 23s 30ms/step - loss: 0.5849 - accuracy: 0.8510 - val_loss: 0.5673 - val_accuracy: 0.8599\n",
            "Epoch 58/125\n",
            "781/781 [==============================] - 23s 29ms/step - loss: 0.5749 - accuracy: 0.8541 - val_loss: 0.5763 - val_accuracy: 0.8595\n",
            "Epoch 59/125\n",
            "781/781 [==============================] - 23s 30ms/step - loss: 0.5803 - accuracy: 0.8536 - val_loss: 0.6257 - val_accuracy: 0.8487\n",
            "Epoch 60/125\n",
            "781/781 [==============================] - 23s 29ms/step - loss: 0.5915 - accuracy: 0.8474 - val_loss: 0.6275 - val_accuracy: 0.8486\n",
            "Epoch 61/125\n",
            "781/781 [==============================] - 23s 30ms/step - loss: 0.5742 - accuracy: 0.8551 - val_loss: 0.6381 - val_accuracy: 0.8435\n",
            "Epoch 62/125\n",
            "781/781 [==============================] - 23s 30ms/step - loss: 0.5811 - accuracy: 0.8523 - val_loss: 0.5810 - val_accuracy: 0.8599\n",
            "Epoch 63/125\n",
            "781/781 [==============================] - 23s 30ms/step - loss: 0.5840 - accuracy: 0.8520 - val_loss: 0.6001 - val_accuracy: 0.8515\n",
            "Epoch 64/125\n",
            "781/781 [==============================] - 23s 29ms/step - loss: 0.5821 - accuracy: 0.8521 - val_loss: 0.7138 - val_accuracy: 0.8212\n",
            "Epoch 65/125\n",
            "781/781 [==============================] - 23s 30ms/step - loss: 0.5861 - accuracy: 0.8518 - val_loss: 0.5745 - val_accuracy: 0.8586\n",
            "Epoch 66/125\n",
            "781/781 [==============================] - 23s 30ms/step - loss: 0.5873 - accuracy: 0.8511 - val_loss: 0.5754 - val_accuracy: 0.8657\n",
            "Epoch 67/125\n",
            "781/781 [==============================] - 23s 30ms/step - loss: 0.5780 - accuracy: 0.8551 - val_loss: 0.5572 - val_accuracy: 0.8680\n",
            "Epoch 68/125\n",
            "781/781 [==============================] - 23s 29ms/step - loss: 0.5807 - accuracy: 0.8537 - val_loss: 0.6520 - val_accuracy: 0.8416\n",
            "Epoch 69/125\n",
            "781/781 [==============================] - 23s 30ms/step - loss: 0.5752 - accuracy: 0.8556 - val_loss: 0.6044 - val_accuracy: 0.8541\n",
            "Epoch 70/125\n",
            "781/781 [==============================] - 23s 30ms/step - loss: 0.5724 - accuracy: 0.8555 - val_loss: 0.6317 - val_accuracy: 0.8469\n",
            "Epoch 71/125\n",
            "781/781 [==============================] - 23s 30ms/step - loss: 0.5737 - accuracy: 0.8544 - val_loss: 0.6370 - val_accuracy: 0.8443\n",
            "Epoch 72/125\n",
            "781/781 [==============================] - 23s 30ms/step - loss: 0.5778 - accuracy: 0.8542 - val_loss: 0.5953 - val_accuracy: 0.8575\n",
            "Epoch 73/125\n",
            "781/781 [==============================] - 23s 30ms/step - loss: 0.5770 - accuracy: 0.8557 - val_loss: 0.5987 - val_accuracy: 0.8521\n",
            "Epoch 74/125\n",
            "781/781 [==============================] - 23s 30ms/step - loss: 0.5704 - accuracy: 0.8552 - val_loss: 0.5881 - val_accuracy: 0.8577\n",
            "Epoch 75/125\n",
            "781/781 [==============================] - 23s 30ms/step - loss: 0.5757 - accuracy: 0.8534 - val_loss: 0.5957 - val_accuracy: 0.8540\n",
            "Epoch 76/125\n",
            "781/781 [==============================] - 23s 30ms/step - loss: 0.5723 - accuracy: 0.8555 - val_loss: 0.5872 - val_accuracy: 0.8549\n",
            "Epoch 77/125\n",
            "781/781 [==============================] - 23s 30ms/step - loss: 0.5402 - accuracy: 0.8676 - val_loss: 0.5651 - val_accuracy: 0.8635\n",
            "Epoch 78/125\n",
            "781/781 [==============================] - 23s 30ms/step - loss: 0.5076 - accuracy: 0.8764 - val_loss: 0.5520 - val_accuracy: 0.8680\n",
            "Epoch 79/125\n",
            "781/781 [==============================] - 23s 30ms/step - loss: 0.5019 - accuracy: 0.8787 - val_loss: 0.5225 - val_accuracy: 0.8749\n",
            "Epoch 80/125\n",
            "781/781 [==============================] - 24s 30ms/step - loss: 0.5019 - accuracy: 0.8774 - val_loss: 0.5808 - val_accuracy: 0.8611\n",
            "Epoch 81/125\n",
            "781/781 [==============================] - 23s 30ms/step - loss: 0.4960 - accuracy: 0.8796 - val_loss: 0.5249 - val_accuracy: 0.8747\n",
            "Epoch 82/125\n",
            "781/781 [==============================] - 23s 30ms/step - loss: 0.4846 - accuracy: 0.8794 - val_loss: 0.5323 - val_accuracy: 0.8700\n",
            "Epoch 83/125\n",
            "781/781 [==============================] - 23s 30ms/step - loss: 0.4906 - accuracy: 0.8764 - val_loss: 0.4883 - val_accuracy: 0.8858\n",
            "Epoch 84/125\n",
            "781/781 [==============================] - 23s 30ms/step - loss: 0.4824 - accuracy: 0.8771 - val_loss: 0.5149 - val_accuracy: 0.8770\n",
            "Epoch 85/125\n",
            "781/781 [==============================] - 23s 30ms/step - loss: 0.4778 - accuracy: 0.8798 - val_loss: 0.5062 - val_accuracy: 0.8804\n",
            "Epoch 86/125\n",
            "781/781 [==============================] - 23s 30ms/step - loss: 0.4696 - accuracy: 0.8841 - val_loss: 0.4949 - val_accuracy: 0.8791\n",
            "Epoch 87/125\n",
            "781/781 [==============================] - 23s 30ms/step - loss: 0.4688 - accuracy: 0.8810 - val_loss: 0.4938 - val_accuracy: 0.8818\n",
            "Epoch 88/125\n",
            "781/781 [==============================] - 23s 30ms/step - loss: 0.4700 - accuracy: 0.8831 - val_loss: 0.5345 - val_accuracy: 0.8668\n",
            "Epoch 89/125\n",
            "781/781 [==============================] - 23s 30ms/step - loss: 0.4664 - accuracy: 0.8804 - val_loss: 0.5057 - val_accuracy: 0.8772\n",
            "Epoch 90/125\n",
            "781/781 [==============================] - 23s 30ms/step - loss: 0.4695 - accuracy: 0.8803 - val_loss: 0.4653 - val_accuracy: 0.8858\n",
            "Epoch 91/125\n",
            "781/781 [==============================] - 23s 30ms/step - loss: 0.4682 - accuracy: 0.8804 - val_loss: 0.4896 - val_accuracy: 0.8793\n",
            "Epoch 92/125\n",
            "781/781 [==============================] - 23s 30ms/step - loss: 0.4593 - accuracy: 0.8831 - val_loss: 0.5145 - val_accuracy: 0.8746\n",
            "Epoch 93/125\n",
            "781/781 [==============================] - 24s 30ms/step - loss: 0.4606 - accuracy: 0.8828 - val_loss: 0.4859 - val_accuracy: 0.8782\n",
            "Epoch 94/125\n",
            "781/781 [==============================] - 23s 30ms/step - loss: 0.4628 - accuracy: 0.8798 - val_loss: 0.5143 - val_accuracy: 0.8747\n",
            "Epoch 95/125\n",
            "781/781 [==============================] - 23s 30ms/step - loss: 0.4575 - accuracy: 0.8830 - val_loss: 0.5025 - val_accuracy: 0.8762\n",
            "Epoch 96/125\n",
            "781/781 [==============================] - 23s 30ms/step - loss: 0.4596 - accuracy: 0.8806 - val_loss: 0.5296 - val_accuracy: 0.8695\n",
            "Epoch 97/125\n",
            "781/781 [==============================] - 24s 31ms/step - loss: 0.4561 - accuracy: 0.8833 - val_loss: 0.4872 - val_accuracy: 0.8809\n",
            "Epoch 98/125\n",
            "781/781 [==============================] - 23s 30ms/step - loss: 0.4510 - accuracy: 0.8860 - val_loss: 0.5040 - val_accuracy: 0.8766\n",
            "Epoch 99/125\n",
            "781/781 [==============================] - 23s 30ms/step - loss: 0.4533 - accuracy: 0.8831 - val_loss: 0.5188 - val_accuracy: 0.8729\n",
            "Epoch 100/125\n",
            "781/781 [==============================] - 23s 30ms/step - loss: 0.4550 - accuracy: 0.8829 - val_loss: 0.4948 - val_accuracy: 0.8785\n",
            "Epoch 101/125\n",
            "781/781 [==============================] - 23s 30ms/step - loss: 0.4468 - accuracy: 0.8858 - val_loss: 0.5036 - val_accuracy: 0.8772\n",
            "Epoch 102/125\n",
            "781/781 [==============================] - 23s 29ms/step - loss: 0.4361 - accuracy: 0.8876 - val_loss: 0.4731 - val_accuracy: 0.8861\n",
            "Epoch 103/125\n",
            "781/781 [==============================] - 23s 30ms/step - loss: 0.4316 - accuracy: 0.8897 - val_loss: 0.4691 - val_accuracy: 0.8873\n",
            "Epoch 104/125\n",
            "781/781 [==============================] - 23s 30ms/step - loss: 0.4187 - accuracy: 0.8941 - val_loss: 0.4624 - val_accuracy: 0.8874\n",
            "Epoch 105/125\n",
            "781/781 [==============================] - 23s 30ms/step - loss: 0.4207 - accuracy: 0.8938 - val_loss: 0.4688 - val_accuracy: 0.8864\n",
            "Epoch 106/125\n",
            "781/781 [==============================] - 23s 30ms/step - loss: 0.4189 - accuracy: 0.8936 - val_loss: 0.4629 - val_accuracy: 0.8855\n",
            "Epoch 107/125\n",
            "781/781 [==============================] - 23s 30ms/step - loss: 0.4232 - accuracy: 0.8905 - val_loss: 0.4579 - val_accuracy: 0.8911\n",
            "Epoch 108/125\n",
            "781/781 [==============================] - 24s 30ms/step - loss: 0.4052 - accuracy: 0.8980 - val_loss: 0.4505 - val_accuracy: 0.8904\n",
            "Epoch 109/125\n",
            "781/781 [==============================] - 24s 30ms/step - loss: 0.4173 - accuracy: 0.8928 - val_loss: 0.4640 - val_accuracy: 0.8866\n",
            "Epoch 110/125\n",
            "781/781 [==============================] - 24s 31ms/step - loss: 0.4124 - accuracy: 0.8934 - val_loss: 0.4693 - val_accuracy: 0.8869\n",
            "Epoch 111/125\n",
            "781/781 [==============================] - 25s 32ms/step - loss: 0.4039 - accuracy: 0.8960 - val_loss: 0.4482 - val_accuracy: 0.8898\n",
            "Epoch 112/125\n",
            "781/781 [==============================] - 24s 30ms/step - loss: 0.4108 - accuracy: 0.8947 - val_loss: 0.4712 - val_accuracy: 0.8839\n",
            "Epoch 113/125\n",
            "781/781 [==============================] - 24s 30ms/step - loss: 0.4041 - accuracy: 0.8959 - val_loss: 0.4371 - val_accuracy: 0.8936\n",
            "Epoch 114/125\n",
            "781/781 [==============================] - 24s 30ms/step - loss: 0.4047 - accuracy: 0.8981 - val_loss: 0.4504 - val_accuracy: 0.8882\n",
            "Epoch 115/125\n",
            "781/781 [==============================] - 24s 30ms/step - loss: 0.3991 - accuracy: 0.8979 - val_loss: 0.4661 - val_accuracy: 0.8837\n",
            "Epoch 116/125\n",
            "781/781 [==============================] - 24s 30ms/step - loss: 0.4016 - accuracy: 0.8973 - val_loss: 0.4497 - val_accuracy: 0.8882\n",
            "Epoch 117/125\n",
            "781/781 [==============================] - 24s 30ms/step - loss: 0.3978 - accuracy: 0.8988 - val_loss: 0.4434 - val_accuracy: 0.8904\n",
            "Epoch 118/125\n",
            "781/781 [==============================] - 24s 30ms/step - loss: 0.3965 - accuracy: 0.8972 - val_loss: 0.4527 - val_accuracy: 0.8868\n",
            "Epoch 119/125\n",
            "781/781 [==============================] - 24s 31ms/step - loss: 0.3994 - accuracy: 0.8958 - val_loss: 0.4377 - val_accuracy: 0.8919\n",
            "Epoch 120/125\n",
            "781/781 [==============================] - 24s 31ms/step - loss: 0.4004 - accuracy: 0.8974 - val_loss: 0.4320 - val_accuracy: 0.8939\n",
            "Epoch 121/125\n",
            "781/781 [==============================] - 24s 31ms/step - loss: 0.3952 - accuracy: 0.8971 - val_loss: 0.4328 - val_accuracy: 0.8912\n",
            "Epoch 122/125\n",
            "781/781 [==============================] - 24s 30ms/step - loss: 0.3977 - accuracy: 0.8957 - val_loss: 0.4595 - val_accuracy: 0.8873\n",
            "Epoch 123/125\n",
            "781/781 [==============================] - 24s 30ms/step - loss: 0.3905 - accuracy: 0.8976 - val_loss: 0.4701 - val_accuracy: 0.8833\n",
            "Epoch 124/125\n",
            "781/781 [==============================] - 24s 30ms/step - loss: 0.3961 - accuracy: 0.8974 - val_loss: 0.4496 - val_accuracy: 0.8886\n",
            "Epoch 125/125\n",
            "781/781 [==============================] - 24s 30ms/step - loss: 0.3842 - accuracy: 0.9015 - val_loss: 0.4358 - val_accuracy: 0.8936\n"
          ],
          "name": "stdout"
        },
        {
          "output_type": "execute_result",
          "data": {
            "text/plain": [
              "<tensorflow.python.keras.callbacks.History at 0x7f24c4e2abe0>"
            ]
          },
          "metadata": {
            "tags": []
          },
          "execution_count": 7
        }
      ]
    },
    {
      "cell_type": "code",
      "metadata": {
        "colab": {
          "base_uri": "https://localhost:8080/"
        },
        "id": "XqS3p7tzxJwc",
        "outputId": "0541b2cf-35c2-4288-9ff6-b5858167bb74"
      },
      "source": [
        "#testing\n",
        "scores = model.evaluate(x_test, y_test, batch_size=128, verbose=1)\n",
        "print(f'\\nTest accuracy: {scores[1]*100:.2f}%, loss: {scores[0]:.2f}')"
      ],
      "execution_count": null,
      "outputs": [
        {
          "output_type": "stream",
          "text": [
            "79/79 [==============================] - 0s 5ms/step - loss: 0.4358 - accuracy: 0.8936\n",
            "\n",
            "Test accuracy: 89.36%, loss: 0.44\n"
          ],
          "name": "stdout"
        }
      ]
    },
    {
      "cell_type": "code",
      "metadata": {
        "id": "1r2AFVpNyEWU"
      },
      "source": [
        ""
      ],
      "execution_count": null,
      "outputs": []
    },
    {
      "cell_type": "code",
      "metadata": {
        "id": "_TrMe-VSyETh"
      },
      "source": [
        ""
      ],
      "execution_count": null,
      "outputs": []
    }
  ]
}