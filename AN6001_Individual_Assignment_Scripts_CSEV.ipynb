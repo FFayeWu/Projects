{
  "nbformat": 4,
  "nbformat_minor": 0,
  "metadata": {
    "colab": {
      "name": "AN6001_Final_Individual_Assignment.ipynb",
      "provenance": [],
      "collapsed_sections": [],
      "toc_visible": true
    },
    "kernelspec": {
      "name": "python3",
      "display_name": "Python 3"
    }
  },
  "cells": [
    {
      "cell_type": "markdown",
      "metadata": {
        "id": "zKkiCQUE95ig"
      },
      "source": [
        "# Data Preprocessing"
      ]
    },
    {
      "cell_type": "markdown",
      "metadata": {
        "id": "k6Cm_hgNptcK"
      },
      "source": [
        "This part is to check for missing values and the type of each column"
      ]
    },
    {
      "cell_type": "code",
      "metadata": {
        "id": "nNKffcjU9T2N"
      },
      "source": [
        "import pandas as pd\n",
        "import numpy as np\n",
        "from sklearn.model_selection import train_test_split\n",
        "from sklearn import linear_model\n",
        "from sklearn.metrics import confusion_matrix, accuracy_score, mean_squared_error\n",
        "from sklearn import tree\n",
        "from sklearn.tree import DecisionTreeClassifier\n",
        "from sklearn.ensemble import RandomForestClassifier\n",
        "from keras.models import Sequential\n",
        "from keras.layers import Dense, Dropout\n",
        "from sklearn.metrics import classification_report\n",
        "import matplotlib.pyplot as plt\n",
        "import seaborn as sns"
      ],
      "execution_count": null,
      "outputs": []
    },
    {
      "cell_type": "code",
      "metadata": {
        "id": "84hEjzlA1CtJ",
        "outputId": "dd9ba5c5-703c-41c5-bc22-5b09fa99350c",
        "colab": {
          "base_uri": "https://localhost:8080/",
          "height": 34
        }
      },
      "source": [
        "from google.colab import drive\n",
        "drive.mount(\"/content/drive\")"
      ],
      "execution_count": null,
      "outputs": [
        {
          "output_type": "stream",
          "text": [
            "Mounted at /content/drive\n"
          ],
          "name": "stdout"
        }
      ]
    },
    {
      "cell_type": "code",
      "metadata": {
        "id": "X2UEAil61VoZ",
        "outputId": "f2dac69a-d545-41c8-cd64-2250ae521079",
        "colab": {
          "base_uri": "https://localhost:8080/",
          "height": 258
        }
      },
      "source": [
        "# import data\n",
        "NCDB = pd.read_csv(\"/content/drive/My Drive/NCDB_2014.csv\")\n",
        "#NCDB = pd.read_csv(\"NCDB_2014.csv\")\n",
        "df = NCDB.copy()\n",
        "df.head()"
      ],
      "execution_count": null,
      "outputs": [
        {
          "output_type": "stream",
          "text": [
            "/usr/local/lib/python3.6/dist-packages/IPython/core/interactiveshell.py:2718: DtypeWarning: Columns (1,2,5,12) have mixed types.Specify dtype option on import or set low_memory=False.\n",
            "  interactivity=interactivity, compiler=compiler, result=result)\n"
          ],
          "name": "stderr"
        },
        {
          "output_type": "execute_result",
          "data": {
            "text/html": [
              "<div>\n",
              "<style scoped>\n",
              "    .dataframe tbody tr th:only-of-type {\n",
              "        vertical-align: middle;\n",
              "    }\n",
              "\n",
              "    .dataframe tbody tr th {\n",
              "        vertical-align: top;\n",
              "    }\n",
              "\n",
              "    .dataframe thead th {\n",
              "        text-align: right;\n",
              "    }\n",
              "</style>\n",
              "<table border=\"1\" class=\"dataframe\">\n",
              "  <thead>\n",
              "    <tr style=\"text-align: right;\">\n",
              "      <th></th>\n",
              "      <th>C_YEAR</th>\n",
              "      <th>C_MNTH</th>\n",
              "      <th>C_WDAY</th>\n",
              "      <th>C_HOUR</th>\n",
              "      <th>C_SEV</th>\n",
              "      <th>C_VEHS</th>\n",
              "      <th>C_CONF</th>\n",
              "      <th>C_RCFG</th>\n",
              "      <th>C_WTHR</th>\n",
              "      <th>C_RSUR</th>\n",
              "      <th>C_RALN</th>\n",
              "      <th>C_TRAF</th>\n",
              "      <th>V_ID</th>\n",
              "      <th>V_TYPE</th>\n",
              "      <th>V_YEAR</th>\n",
              "      <th>P_ID</th>\n",
              "      <th>P_SEX</th>\n",
              "      <th>P_AGE</th>\n",
              "      <th>P_PSN</th>\n",
              "      <th>P_ISEV</th>\n",
              "      <th>P_SAFE</th>\n",
              "      <th>P_USER</th>\n",
              "    </tr>\n",
              "  </thead>\n",
              "  <tbody>\n",
              "    <tr>\n",
              "      <th>0</th>\n",
              "      <td>2014</td>\n",
              "      <td>1</td>\n",
              "      <td>1</td>\n",
              "      <td>10</td>\n",
              "      <td>2</td>\n",
              "      <td>1</td>\n",
              "      <td>02</td>\n",
              "      <td>03</td>\n",
              "      <td>1</td>\n",
              "      <td>3</td>\n",
              "      <td>2</td>\n",
              "      <td>18</td>\n",
              "      <td>1</td>\n",
              "      <td>01</td>\n",
              "      <td>UUUU</td>\n",
              "      <td>01</td>\n",
              "      <td>M</td>\n",
              "      <td>75</td>\n",
              "      <td>11</td>\n",
              "      <td>2</td>\n",
              "      <td>NN</td>\n",
              "      <td>1</td>\n",
              "    </tr>\n",
              "    <tr>\n",
              "      <th>1</th>\n",
              "      <td>2014</td>\n",
              "      <td>1</td>\n",
              "      <td>1</td>\n",
              "      <td>12</td>\n",
              "      <td>2</td>\n",
              "      <td>1</td>\n",
              "      <td>04</td>\n",
              "      <td>UU</td>\n",
              "      <td>1</td>\n",
              "      <td>5</td>\n",
              "      <td>1</td>\n",
              "      <td>UU</td>\n",
              "      <td>1</td>\n",
              "      <td>01</td>\n",
              "      <td>UUUU</td>\n",
              "      <td>01</td>\n",
              "      <td>F</td>\n",
              "      <td>21</td>\n",
              "      <td>11</td>\n",
              "      <td>2</td>\n",
              "      <td>02</td>\n",
              "      <td>1</td>\n",
              "    </tr>\n",
              "    <tr>\n",
              "      <th>2</th>\n",
              "      <td>2014</td>\n",
              "      <td>1</td>\n",
              "      <td>1</td>\n",
              "      <td>00</td>\n",
              "      <td>2</td>\n",
              "      <td>1</td>\n",
              "      <td>03</td>\n",
              "      <td>UU</td>\n",
              "      <td>7</td>\n",
              "      <td>3</td>\n",
              "      <td>1</td>\n",
              "      <td>UU</td>\n",
              "      <td>1</td>\n",
              "      <td>01</td>\n",
              "      <td>UUUU</td>\n",
              "      <td>01</td>\n",
              "      <td>F</td>\n",
              "      <td>34</td>\n",
              "      <td>11</td>\n",
              "      <td>2</td>\n",
              "      <td>02</td>\n",
              "      <td>1</td>\n",
              "    </tr>\n",
              "    <tr>\n",
              "      <th>3</th>\n",
              "      <td>2014</td>\n",
              "      <td>1</td>\n",
              "      <td>1</td>\n",
              "      <td>17</td>\n",
              "      <td>2</td>\n",
              "      <td>2</td>\n",
              "      <td>21</td>\n",
              "      <td>UU</td>\n",
              "      <td>1</td>\n",
              "      <td>1</td>\n",
              "      <td>1</td>\n",
              "      <td>18</td>\n",
              "      <td>1</td>\n",
              "      <td>01</td>\n",
              "      <td>UUUU</td>\n",
              "      <td>01</td>\n",
              "      <td>F</td>\n",
              "      <td>50</td>\n",
              "      <td>11</td>\n",
              "      <td>2</td>\n",
              "      <td>02</td>\n",
              "      <td>1</td>\n",
              "    </tr>\n",
              "    <tr>\n",
              "      <th>4</th>\n",
              "      <td>2014</td>\n",
              "      <td>1</td>\n",
              "      <td>1</td>\n",
              "      <td>17</td>\n",
              "      <td>2</td>\n",
              "      <td>2</td>\n",
              "      <td>21</td>\n",
              "      <td>UU</td>\n",
              "      <td>1</td>\n",
              "      <td>1</td>\n",
              "      <td>1</td>\n",
              "      <td>18</td>\n",
              "      <td>2</td>\n",
              "      <td>01</td>\n",
              "      <td>UUUU</td>\n",
              "      <td>01</td>\n",
              "      <td>M</td>\n",
              "      <td>63</td>\n",
              "      <td>11</td>\n",
              "      <td>1</td>\n",
              "      <td>NN</td>\n",
              "      <td>1</td>\n",
              "    </tr>\n",
              "  </tbody>\n",
              "</table>\n",
              "</div>"
            ],
            "text/plain": [
              "   C_YEAR C_MNTH C_WDAY C_HOUR  C_SEV  ... P_AGE P_PSN P_ISEV P_SAFE P_USER\n",
              "0    2014      1      1     10      2  ...    75    11      2     NN      1\n",
              "1    2014      1      1     12      2  ...    21    11      2     02      1\n",
              "2    2014      1      1     00      2  ...    34    11      2     02      1\n",
              "3    2014      1      1     17      2  ...    50    11      2     02      1\n",
              "4    2014      1      1     17      2  ...    63    11      1     NN      1\n",
              "\n",
              "[5 rows x 22 columns]"
            ]
          },
          "metadata": {
            "tags": []
          },
          "execution_count": 4
        }
      ]
    },
    {
      "cell_type": "code",
      "metadata": {
        "id": "KM2Tqr974c6o"
      },
      "source": [
        "# replace unrelated strings with nan in order to easily drop\n",
        "import numpy as np\n",
        "droplist = [\"U\",\"X\",\"UU\",\"XX\",\"NN\",\"NNNN\",\"UUUU\",\"XXXX\",\"N\"]\n",
        "for value in droplist:\n",
        "  df.replace(value, np.nan,inplace=True)"
      ],
      "execution_count": null,
      "outputs": []
    },
    {
      "cell_type": "code",
      "metadata": {
        "id": "3NJsk1WN4c1V",
        "outputId": "74fe6471-0c94-40af-e64e-b129dd4296dc",
        "colab": {
          "base_uri": "https://localhost:8080/",
          "height": 408
        }
      },
      "source": [
        "# check for new data\n",
        "df.head()\n",
        "df.dropna(inplace=True)\n",
        "df.reset_index(drop=True, inplace=True)\n",
        "df.dtypes"
      ],
      "execution_count": null,
      "outputs": [
        {
          "output_type": "execute_result",
          "data": {
            "text/plain": [
              "C_YEAR     int64\n",
              "C_MNTH    object\n",
              "C_WDAY    object\n",
              "C_HOUR    object\n",
              "C_SEV      int64\n",
              "C_VEHS    object\n",
              "C_CONF    object\n",
              "C_RCFG    object\n",
              "C_WTHR    object\n",
              "C_RSUR    object\n",
              "C_RALN    object\n",
              "C_TRAF    object\n",
              "V_ID      object\n",
              "V_TYPE    object\n",
              "V_YEAR    object\n",
              "P_ID      object\n",
              "P_SEX     object\n",
              "P_AGE     object\n",
              "P_PSN     object\n",
              "P_ISEV    object\n",
              "P_SAFE    object\n",
              "P_USER    object\n",
              "dtype: object"
            ]
          },
          "metadata": {
            "tags": []
          },
          "execution_count": 6
        }
      ]
    },
    {
      "cell_type": "markdown",
      "metadata": {
        "id": "EMsdoNDNIYMO"
      },
      "source": [
        "# Visualization"
      ]
    },
    {
      "cell_type": "code",
      "metadata": {
        "id": "q-TaMlvln33K",
        "outputId": "c7eac65b-35a9-469d-a852-ba78e7d582ce",
        "colab": {
          "base_uri": "https://localhost:8080/",
          "height": 34
        }
      },
      "source": [
        "# check for each column\n",
        "df.C_YEAR.unique()\n",
        "# have only one value, can drop"
      ],
      "execution_count": null,
      "outputs": [
        {
          "output_type": "execute_result",
          "data": {
            "text/plain": [
              "array([2014])"
            ]
          },
          "metadata": {
            "tags": []
          },
          "execution_count": 7
        }
      ]
    },
    {
      "cell_type": "code",
      "metadata": {
        "id": "MF69V5FU93lQ",
        "outputId": "52f33c92-002a-425a-95d2-358adddd9990",
        "colab": {
          "base_uri": "https://localhost:8080/",
          "height": 51
        }
      },
      "source": [
        "df.C_MNTH.unique() \n",
        "# [ 1,  2,  3,  4,  5,  6,  7,  8,  9, 10, 11, 12, '12']\n",
        "# '12' and 12 are different because of data type\n",
        "df.C_MNTH = df.C_MNTH.astype(str)\n",
        "df.C_MNTH.unique()"
      ],
      "execution_count": null,
      "outputs": [
        {
          "output_type": "execute_result",
          "data": {
            "text/plain": [
              "array(['1', '2', '3', '4', '5', '6', '7', '8', '9', '10', '11', '12'],\n",
              "      dtype=object)"
            ]
          },
          "metadata": {
            "tags": []
          },
          "execution_count": 8
        }
      ]
    },
    {
      "cell_type": "code",
      "metadata": {
        "id": "fSqoXKbPIWk1",
        "outputId": "2e562676-b6dd-464e-fe51-05ec04e289e6",
        "colab": {
          "base_uri": "https://localhost:8080/",
          "height": 489
        }
      },
      "source": [
        "# C_MNTH\n",
        "f,ax=plt.subplots(1,2,figsize=(18,8))\n",
        "colors = ['burlywood','darkorange','orange','wheat','navajowhite','moccasin','blanchedalmond','gold','goldenrod','cornsilk','papayawhip','khaki']\n",
        "df['C_MNTH'].value_counts().plot.bar(color=colors,ax=ax[0])\n",
        "ax[0].set_title('Month Distribution for collision')\n",
        "ax[0].set_ylabel('count')\n",
        "sns.countplot(data=df,x='C_MNTH',hue='C_SEV',ax=ax[1])\n",
        "ax[1].set_title('Month: Fatalties vs Non-fatalties')\n",
        "ax[1].set_ylabel('count');"
      ],
      "execution_count": null,
      "outputs": [
        {
          "output_type": "display_data",
          "data": {
            "image/png": "[encoded data removed]",
            "text/plain": [
              "<Figure size 1296x576 with 2 Axes>"
            ]
          },
          "metadata": {
            "tags": [],
            "needs_background": "light"
          }
        }
      ]
    },
    {
      "cell_type": "code",
      "metadata": {
        "id": "c3F4ZlSz93pz",
        "outputId": "5a288f3b-8be4-454e-fd15-975c78f45888",
        "colab": {
          "base_uri": "https://localhost:8080/",
          "height": 34
        }
      },
      "source": [
        "df.C_WDAY.unique()\n",
        "#[1, 2, 3, 4, 5, 6, 7, '6', '7']\n",
        "df.C_WDAY = df.C_WDAY.astype(str)\n",
        "df.C_WDAY.unique()"
      ],
      "execution_count": null,
      "outputs": [
        {
          "output_type": "execute_result",
          "data": {
            "text/plain": [
              "array(['1', '2', '3', '4', '5', '6', '7'], dtype=object)"
            ]
          },
          "metadata": {
            "tags": []
          },
          "execution_count": 9
        }
      ]
    },
    {
      "cell_type": "code",
      "metadata": {
        "id": "BZU6vw-kLOu2",
        "outputId": "960a6a20-6d0e-48c2-dfdd-80c9071c5d6f",
        "colab": {
          "base_uri": "https://localhost:8080/",
          "height": 489
        }
      },
      "source": [
        "# C_WDAY\n",
        "f,ax=plt.subplots(1,2,figsize=(18,8))\n",
        "colors = ['burlywood','darkorange','orange','wheat','navajowhite','moccasin','blanchedalmond']\n",
        "df['C_WDAY'].value_counts().plot.bar(color=colors,ax=ax[0])\n",
        "ax[0].set_title('Week Distribution for collision')\n",
        "ax[0].set_ylabel('count')\n",
        "sns.countplot(data=df,x='C_WDAY',hue='C_SEV',ax=ax[1])\n",
        "ax[1].set_title('Week: Fatalties vs Non-fatalties')\n",
        "ax[1].set_ylabel('count');"
      ],
      "execution_count": null,
      "outputs": [
        {
          "output_type": "display_data",
          "data": {
            "image/png": "[encoded data removed]",
            "text/plain": [
              "<Figure size 1296x576 with 2 Axes>"
            ]
          },
          "metadata": {
            "tags": [],
            "needs_background": "light"
          }
        }
      ]
    },
    {
      "cell_type": "code",
      "metadata": {
        "id": "LcAxOMuU93nh",
        "outputId": "c4ad8401-46be-4324-95f4-24c6027ceefc",
        "colab": {
          "base_uri": "https://localhost:8080/",
          "height": 68
        }
      },
      "source": [
        "df.C_HOUR.unique()"
      ],
      "execution_count": null,
      "outputs": [
        {
          "output_type": "execute_result",
          "data": {
            "text/plain": [
              "array(['22', '19', '10', '14', '11', '15', '12', '00', '18', '20', '17',\n",
              "       '06', '13', '07', '16', '04', '08', '09', '23', '21', '05', '03',\n",
              "       '02', '01'], dtype=object)"
            ]
          },
          "metadata": {
            "tags": []
          },
          "execution_count": 10
        }
      ]
    },
    {
      "cell_type": "code",
      "metadata": {
        "id": "y8wVxStQNVSS",
        "outputId": "b73c7c91-e8d8-4dfb-a2e9-60546d88bc77",
        "colab": {
          "base_uri": "https://localhost:8080/",
          "height": 489
        }
      },
      "source": [
        "# C_HOUR\n",
        "f,ax=plt.subplots(1,2,figsize=(18,8))\n",
        "colors = ['burlywood','darkorange','orange','wheat','navajowhite','moccasin','blanchedalmond','gold','goldenrod','cornsilk','papayawhip','khaki']\n",
        "df['C_HOUR'].value_counts().plot.bar(color=colors,ax=ax[0])\n",
        "ax[0].set_title('Hour Distribution for collision')\n",
        "ax[0].set_ylabel('count')\n",
        "sns.countplot(data=df,x='C_HOUR',hue='C_SEV',ax=ax[1])\n",
        "ax[1].set_title('Hour: Fatalties vs Non-fatalties')\n",
        "ax[1].set_ylabel('count');"
      ],
      "execution_count": null,
      "outputs": [
        {
          "output_type": "display_data",
          "data": {
            "image/png": "[encoded data removed]",
            "text/plain": [
              "<Figure size 1296x576 with 2 Axes>"
            ]
          },
          "metadata": {
            "tags": [],
            "needs_background": "light"
          }
        }
      ]
    },
    {
      "cell_type": "code",
      "metadata": {
        "id": "7iQ5Azh8oVIc",
        "outputId": "b662e7e9-72c8-44d5-a114-7c2afb7480c5",
        "colab": {
          "base_uri": "https://localhost:8080/",
          "height": 139
        }
      },
      "source": [
        "df.C_SEV.unique()\n",
        "for i in range(len(df.C_SEV)):\n",
        "  if df.C_SEV[i] == 2:\n",
        "    df.C_SEV[i] = 0\n",
        "df.C_SEV.unique()\n",
        "\n",
        "#import numpy as np\n",
        "#np.mean(df['C_SEV'])\n",
        "#0.01415369467617738"
      ],
      "execution_count": null,
      "outputs": [
        {
          "output_type": "stream",
          "text": [
            "/usr/local/lib/python3.6/dist-packages/ipykernel_launcher.py:4: SettingWithCopyWarning: \n",
            "A value is trying to be set on a copy of a slice from a DataFrame\n",
            "\n",
            "See the caveats in the documentation: https://pandas.pydata.org/pandas-docs/stable/user_guide/indexing.html#returning-a-view-versus-a-copy\n",
            "  after removing the cwd from sys.path.\n"
          ],
          "name": "stderr"
        },
        {
          "output_type": "execute_result",
          "data": {
            "text/plain": [
              "array([0, 1])"
            ]
          },
          "metadata": {
            "tags": []
          },
          "execution_count": 11
        }
      ]
    },
    {
      "cell_type": "code",
      "metadata": {
        "id": "V-XcMXyd93jA",
        "outputId": "4549aadb-e66f-460b-fd42-5fd78eaedd9b",
        "colab": {
          "base_uri": "https://localhost:8080/",
          "height": 122
        }
      },
      "source": [
        "df.C_VEHS.unique()\n",
        "#[1, 2, 3, 4, 6, 5, 9, 11, 51, 10, 7, 22, 21, 14, 13, 15, 57, 8, 17, 43, 20, 36, 37, 18, 12, 16, '02', '01', '04', '03', '05', '06','07', '09', 26]\n",
        "df.C_VEHS = pd.to_numeric(df.C_VEHS)\n",
        "for i in range(len(df.C_VEHS)):\n",
        "  if df.C_VEHS[i] > 4:\n",
        "    df.C_VEHS[i] = 4\n",
        "df.C_VEHS = df.C_VEHS.astype(str)"
      ],
      "execution_count": null,
      "outputs": [
        {
          "output_type": "stream",
          "text": [
            "/usr/local/lib/python3.6/dist-packages/ipykernel_launcher.py:6: SettingWithCopyWarning: \n",
            "A value is trying to be set on a copy of a slice from a DataFrame\n",
            "\n",
            "See the caveats in the documentation: https://pandas.pydata.org/pandas-docs/stable/user_guide/indexing.html#returning-a-view-versus-a-copy\n",
            "  \n"
          ],
          "name": "stderr"
        }
      ]
    },
    {
      "cell_type": "code",
      "metadata": {
        "id": "aKyO5kHRQCWK",
        "outputId": "8a37d113-853e-4025-d6eb-138ddb7e15f8",
        "colab": {
          "base_uri": "https://localhost:8080/",
          "height": 486
        }
      },
      "source": [
        "# C_VEHS\n",
        "f,ax=plt.subplots(1,2,figsize=(18,8))\n",
        "colors = ['burlywood','darkorange','orange','wheat','navajowhite','moccasin','blanchedalmond','gold','goldenrod','cornsilk','papayawhip','khaki']\n",
        "df['C_VEHS'].value_counts().plot.bar(color=colors,ax=ax[0])\n",
        "ax[0].set_title('Number of vehicles related for collision')\n",
        "ax[0].set_ylabel('count')\n",
        "sns.countplot(data=df,x='C_VEHS',hue='C_SEV',ax=ax[1])\n",
        "ax[1].set_title('Number of vehicles: Fatalties vs Non-fatalties')\n",
        "ax[1].set_ylabel('count');"
      ],
      "execution_count": null,
      "outputs": [
        {
          "output_type": "display_data",
          "data": {
            "image/png": "[encoded data removed]",
            "text/plain": [
              "<Figure size 1296x576 with 2 Axes>"
            ]
          },
          "metadata": {
            "tags": [],
            "needs_background": "light"
          }
        }
      ]
    },
    {
      "cell_type": "code",
      "metadata": {
        "id": "TFAffROae4RP",
        "outputId": "c6b9f5ad-a1f0-4a17-d539-d376374f20fd",
        "colab": {
          "base_uri": "https://localhost:8080/",
          "height": 51
        }
      },
      "source": [
        "df.C_CONF.unique()"
      ],
      "execution_count": null,
      "outputs": [
        {
          "output_type": "execute_result",
          "data": {
            "text/plain": [
              "array(['03', '41', '35', '04', '21', '33', '31', '23', '05', '32', '02',\n",
              "       '24', '34', 'QQ', '22', '06', '36', '25', '01'], dtype=object)"
            ]
          },
          "metadata": {
            "tags": []
          },
          "execution_count": 13
        }
      ]
    },
    {
      "cell_type": "code",
      "metadata": {
        "id": "xM7Hay5wRU8c",
        "outputId": "202ebb64-3309-4ee4-e108-3a4fba3f5f61",
        "colab": {
          "base_uri": "https://localhost:8080/",
          "height": 489
        }
      },
      "source": [
        "# C_CONF\n",
        "f,ax=plt.subplots(1,2,figsize=(18,8))\n",
        "colors = ['burlywood','darkorange','orange','wheat','navajowhite','moccasin','blanchedalmond','gold','goldenrod','cornsilk','papayawhip','khaki']\n",
        "df['C_CONF'].value_counts().plot.bar(color=colors,ax=ax[0])\n",
        "ax[0].set_title('Collision Configuration')\n",
        "ax[0].set_ylabel('count')\n",
        "sns.countplot(data=df,x='C_CONF',hue='C_SEV',ax=ax[1])\n",
        "ax[1].set_title('Collision configuration: Fatalties vs Non-fatalties')\n",
        "ax[1].set_ylabel('count');"
      ],
      "execution_count": null,
      "outputs": [
        {
          "output_type": "display_data",
          "data": {
            "image/png": "[encoded data removed]",
            "text/plain": [
              "<Figure size 1296x576 with 2 Axes>"
            ]
          },
          "metadata": {
            "tags": [],
            "needs_background": "light"
          }
        }
      ]
    },
    {
      "cell_type": "code",
      "metadata": {
        "id": "4e8Toz5lfLuz",
        "outputId": "9d4f6b00-eb64-4ee6-ddbb-e6af49ea4520",
        "colab": {
          "base_uri": "https://localhost:8080/",
          "height": 51
        }
      },
      "source": [
        "df.C_RCFG.unique()"
      ],
      "execution_count": null,
      "outputs": [
        {
          "output_type": "execute_result",
          "data": {
            "text/plain": [
              "array(['03', '02', '01', 'QQ', '05', '04', '09', '06', '08', '10', '07'],\n",
              "      dtype=object)"
            ]
          },
          "metadata": {
            "tags": []
          },
          "execution_count": 14
        }
      ]
    },
    {
      "cell_type": "code",
      "metadata": {
        "id": "tyRbodrUSF1I",
        "outputId": "c0f66dff-8b66-4195-98ea-8ec14bd0fa76",
        "colab": {
          "base_uri": "https://localhost:8080/",
          "height": 489
        }
      },
      "source": [
        "# C_RCFG\n",
        "f,ax=plt.subplots(1,2,figsize=(18,8))\n",
        "colors = ['burlywood','darkorange','orange','wheat','navajowhite','moccasin','blanchedalmond','gold','goldenrod','cornsilk','papayawhip','khaki']\n",
        "df['C_RCFG'].value_counts().plot.bar(color=colors,ax=ax[0])\n",
        "ax[0].set_title('Roadway configuration for collision')\n",
        "ax[0].set_ylabel('count')\n",
        "sns.countplot(data=df,x='C_RCFG',hue='C_SEV',ax=ax[1])\n",
        "ax[1].set_title('Roadway configuration: Fatalties vs Non-fatalties')\n",
        "ax[1].set_ylabel('count');"
      ],
      "execution_count": null,
      "outputs": [
        {
          "output_type": "display_data",
          "data": {
            "image/png": "[encoded data removed]",
            "text/plain": [
              "<Figure size 1296x576 with 2 Axes>"
            ]
          },
          "metadata": {
            "tags": [],
            "needs_background": "light"
          }
        }
      ]
    },
    {
      "cell_type": "code",
      "metadata": {
        "id": "nE2k8ePRfW4n",
        "outputId": "05e3b1a5-9edc-4e6b-a5cd-29c1d66af794",
        "colab": {
          "base_uri": "https://localhost:8080/",
          "height": 34
        }
      },
      "source": [
        "df.C_WTHR.unique()"
      ],
      "execution_count": null,
      "outputs": [
        {
          "output_type": "execute_result",
          "data": {
            "text/plain": [
              "array(['5', '1', '2', '4', '3', '7', '6', 'Q'], dtype=object)"
            ]
          },
          "metadata": {
            "tags": []
          },
          "execution_count": 15
        }
      ]
    },
    {
      "cell_type": "code",
      "metadata": {
        "id": "3zyNdHKaSkVS",
        "outputId": "df1920bd-35be-449e-9ee9-bee83f3c1d83",
        "colab": {
          "base_uri": "https://localhost:8080/",
          "height": 486
        }
      },
      "source": [
        "# C_WTHR\n",
        "f,ax=plt.subplots(1,2,figsize=(18,8))\n",
        "colors = ['burlywood','darkorange','orange','wheat','navajowhite','moccasin','blanchedalmond','gold','goldenrod','cornsilk','papayawhip','khaki']\n",
        "df['C_WTHR'].value_counts().plot.bar(color=colors,ax=ax[0])\n",
        "ax[0].set_title('Weather for collision')\n",
        "ax[0].set_ylabel('count')\n",
        "sns.countplot(data=df,x='C_WTHR',hue='C_SEV',ax=ax[1])\n",
        "ax[1].set_title('Weather: Fatalties vs Non-fatalties')\n",
        "ax[1].set_ylabel('count');"
      ],
      "execution_count": null,
      "outputs": [
        {
          "output_type": "display_data",
          "data": {
            "image/png": "[encoded data removed]",
            "text/plain": [
              "<Figure size 1296x576 with 2 Axes>"
            ]
          },
          "metadata": {
            "tags": [],
            "needs_background": "light"
          }
        }
      ]
    },
    {
      "cell_type": "code",
      "metadata": {
        "id": "zzO8n4lHfcF2",
        "outputId": "157a0eaf-5108-42c0-c6e2-cadfb5cb6e8a",
        "colab": {
          "base_uri": "https://localhost:8080/",
          "height": 34
        }
      },
      "source": [
        "df.C_RSUR.unique()"
      ],
      "execution_count": null,
      "outputs": [
        {
          "output_type": "execute_result",
          "data": {
            "text/plain": [
              "array(['5', '3', '2', '9', '1', '4', '6', 'Q', '7', '8'], dtype=object)"
            ]
          },
          "metadata": {
            "tags": []
          },
          "execution_count": 16
        }
      ]
    },
    {
      "cell_type": "code",
      "metadata": {
        "id": "kjiZSP4IStHN",
        "outputId": "c932b3db-00d8-45fa-f071-b3f9ab66fa52",
        "colab": {
          "base_uri": "https://localhost:8080/",
          "height": 486
        }
      },
      "source": [
        "# C_RSUR\n",
        "f,ax=plt.subplots(1,2,figsize=(18,8))\n",
        "colors = ['burlywood','darkorange','orange','wheat','navajowhite','moccasin','blanchedalmond','gold','goldenrod','cornsilk','papayawhip','khaki']\n",
        "df['C_RSUR'].value_counts().plot.bar(color=colors,ax=ax[0])\n",
        "ax[0].set_title('Road surface for collision')\n",
        "ax[0].set_ylabel('count')\n",
        "sns.countplot(data=df,x='C_RSUR',hue='C_SEV',ax=ax[1])\n",
        "ax[1].set_title('Road surface: Fatalties vs Non-fatalties')\n",
        "ax[1].set_ylabel('count');"
      ],
      "execution_count": null,
      "outputs": [
        {
          "output_type": "display_data",
          "data": {
            "image/png": "[encoded data removed]",
            "text/plain": [
              "<Figure size 1296x576 with 2 Axes>"
            ]
          },
          "metadata": {
            "tags": [],
            "needs_background": "light"
          }
        }
      ]
    },
    {
      "cell_type": "code",
      "metadata": {
        "id": "CkPBVn9YfoVn",
        "outputId": "f795b1ca-5e31-4256-921a-ea8951813e5a",
        "colab": {
          "base_uri": "https://localhost:8080/",
          "height": 34
        }
      },
      "source": [
        "df.C_RALN.unique()"
      ],
      "execution_count": null,
      "outputs": [
        {
          "output_type": "execute_result",
          "data": {
            "text/plain": [
              "array(['5', '1', '2', '4', '3', '6', 'Q'], dtype=object)"
            ]
          },
          "metadata": {
            "tags": []
          },
          "execution_count": 17
        }
      ]
    },
    {
      "cell_type": "code",
      "metadata": {
        "id": "wgpLXSabS5xf",
        "outputId": "178bfba5-7fd7-4384-c180-6267953ac4f0",
        "colab": {
          "base_uri": "https://localhost:8080/",
          "height": 486
        }
      },
      "source": [
        "# C_RALN\n",
        "f,ax=plt.subplots(1,2,figsize=(18,8))\n",
        "colors = ['burlywood','darkorange','orange','wheat','navajowhite','moccasin','blanchedalmond','gold','goldenrod','cornsilk','papayawhip','khaki']\n",
        "df['C_RALN'].value_counts().plot.bar(color=colors,ax=ax[0])\n",
        "ax[0].set_title('Road alignment for collision')\n",
        "ax[0].set_ylabel('count')\n",
        "sns.countplot(data=df,x='C_RALN',hue='C_SEV',ax=ax[1])\n",
        "ax[1].set_title('Road alignment: Fatalties vs Non-fatalties')\n",
        "ax[1].set_ylabel('count');"
      ],
      "execution_count": null,
      "outputs": [
        {
          "output_type": "display_data",
          "data": {
            "image/png": "[encoded data removed]",
            "text/plain": [
              "<Figure size 1296x576 with 2 Axes>"
            ]
          },
          "metadata": {
            "tags": [],
            "needs_background": "light"
          }
        }
      ]
    },
    {
      "cell_type": "code",
      "metadata": {
        "id": "1j1eFqRofrQ-",
        "outputId": "7c096156-76a2-4ed6-a863-45c3174a17ff",
        "colab": {
          "base_uri": "https://localhost:8080/",
          "height": 51
        }
      },
      "source": [
        "df.C_TRAF.unique()"
      ],
      "execution_count": null,
      "outputs": [
        {
          "output_type": "execute_result",
          "data": {
            "text/plain": [
              "array(['18', '03', '12', '01', '15', '04', 'QQ', '02', '08', '11', '07',\n",
              "       '06', '10', '16', '13', '17', '05', '09'], dtype=object)"
            ]
          },
          "metadata": {
            "tags": []
          },
          "execution_count": 18
        }
      ]
    },
    {
      "cell_type": "code",
      "metadata": {
        "id": "vOn8aRGgTDdH",
        "outputId": "be723e51-3f67-4644-8ff5-c80e56f7e7c3",
        "colab": {
          "base_uri": "https://localhost:8080/",
          "height": 486
        }
      },
      "source": [
        "# C_TRAF\n",
        "f,ax=plt.subplots(1,2,figsize=(18,8))\n",
        "colors = ['burlywood','darkorange','orange','wheat','navajowhite','moccasin','blanchedalmond','gold','goldenrod','cornsilk','papayawhip','khaki']\n",
        "df['C_TRAF'].value_counts().plot.bar(color=colors,ax=ax[0])\n",
        "ax[0].set_title('Road traffic for collision')\n",
        "ax[0].set_ylabel('count')\n",
        "sns.countplot(data=df,x='C_TRAF',hue='C_SEV',ax=ax[1])\n",
        "ax[1].set_title('Traffic control: Fatalties vs Non-fatalties')\n",
        "ax[1].set_ylabel('count');"
      ],
      "execution_count": null,
      "outputs": [
        {
          "output_type": "display_data",
          "data": {
            "image/png": "[encoded data removed]",
            "text/plain": [
              "<Figure size 1296x576 with 2 Axes>"
            ]
          },
          "metadata": {
            "tags": [],
            "needs_background": "light"
          }
        }
      ]
    },
    {
      "cell_type": "code",
      "metadata": {
        "id": "qeLxmgO8f1eP",
        "outputId": "42d8d90a-898a-4677-f3e9-e9c74b66576f",
        "colab": {
          "base_uri": "https://localhost:8080/",
          "height": 102
        }
      },
      "source": [
        "df.V_ID.unique()\n",
        "df.V_ID = pd.to_numeric(df.V_ID).astype(str)\n",
        "df.V_ID.unique()\n",
        "# unique number to identify vehicle, can drop"
      ],
      "execution_count": null,
      "outputs": [
        {
          "output_type": "execute_result",
          "data": {
            "text/plain": [
              "array(['1', '2', '3', '4', '5', '6', '7', '8', '9', '10', '11', '12',\n",
              "       '13', '14', '15', '16', '17', '18', '19', '20', '21', '22', '23',\n",
              "       '24', '25', '26', '27', '28', '29', '30', '31', '32', '33', '34',\n",
              "       '37', '38', '39', '40', '42', '43', '44', '45', '46', '47', '51',\n",
              "       '52', '35', '36'], dtype=object)"
            ]
          },
          "metadata": {
            "tags": []
          },
          "execution_count": 19
        }
      ]
    },
    {
      "cell_type": "code",
      "metadata": {
        "id": "cGGKsOJJnRBD",
        "outputId": "11e46953-da9b-4bea-d943-7d34d4d3ab4a",
        "colab": {
          "base_uri": "https://localhost:8080/",
          "height": 51
        }
      },
      "source": [
        "df.V_TYPE.unique()"
      ],
      "execution_count": null,
      "outputs": [
        {
          "output_type": "execute_result",
          "data": {
            "text/plain": [
              "array(['01', '08', '05', '07', '06', '11', '09', '14', '10', '17', '21',\n",
              "       '23', '18'], dtype=object)"
            ]
          },
          "metadata": {
            "tags": []
          },
          "execution_count": 20
        }
      ]
    },
    {
      "cell_type": "code",
      "metadata": {
        "id": "tlK3SbZLTViD",
        "outputId": "20541884-d71a-44e4-cdef-6d28857b3f9f",
        "colab": {
          "base_uri": "https://localhost:8080/",
          "height": 486
        }
      },
      "source": [
        "# V_TYPE\n",
        "f,ax=plt.subplots(1,2,figsize=(18,8))\n",
        "colors = ['burlywood','darkorange','orange','wheat','navajowhite','moccasin','blanchedalmond','gold','goldenrod','cornsilk','papayawhip','khaki']\n",
        "df['V_TYPE'].value_counts().plot.bar(color=colors,ax=ax[0])\n",
        "ax[0].set_title('Vehicle type for collision')\n",
        "ax[0].set_ylabel('count')\n",
        "sns.countplot(data=df,x='V_TYPE',hue='C_SEV',ax=ax[1])\n",
        "ax[1].set_title('Vehicle type: Fatalties vs Non-fatalties')\n",
        "ax[1].set_ylabel('count');"
      ],
      "execution_count": null,
      "outputs": [
        {
          "output_type": "display_data",
          "data": {
            "image/png": "[encoded data removed]",
            "text/plain": [
              "<Figure size 1296x576 with 2 Axes>"
            ]
          },
          "metadata": {
            "tags": [],
            "needs_background": "light"
          }
        }
      ]
    },
    {
      "cell_type": "code",
      "metadata": {
        "id": "69Ea0_RLnRFZ",
        "outputId": "9218434e-3d85-406b-9f07-df3072a88ee8",
        "colab": {
          "base_uri": "https://localhost:8080/",
          "height": 136
        }
      },
      "source": [
        "df.V_YEAR.unique()\n",
        "df.V_YEAR = pd.to_numeric(df.V_YEAR)\n",
        "df.V_YEAR.unique()"
      ],
      "execution_count": null,
      "outputs": [
        {
          "output_type": "execute_result",
          "data": {
            "text/plain": [
              "array([2008, 2007, 2006, 2014, 1987, 2012, 2000, 1994, 2003, 2011, 2004,\n",
              "       2005, 2009, 2013, 1998, 2001, 2002, 1999, 2010, 1996, 1989, 1997,\n",
              "       1995, 1991, 1993, 1992, 1984, 1988, 1990, 1986, 1985, 1982, 1973,\n",
              "       1979, 1983, 1978, 1981, 1969, 1976, 1968, 1980, 1974, 2015, 1951,\n",
              "       1975, 1977, 1970, 1963, 1967, 1972, 1971, 1956, 1962, 1957, 1911,\n",
              "       1915, 1929, 1966, 1960, 1954, 1930, 1952, 1965, 1927, 1961, 1958,\n",
              "       1959, 1916])"
            ]
          },
          "metadata": {
            "tags": []
          },
          "execution_count": 21
        }
      ]
    },
    {
      "cell_type": "code",
      "metadata": {
        "id": "DlXDPcA6T37S",
        "outputId": "6426b0f7-8911-407a-ddb6-945b44bde238",
        "colab": {
          "base_uri": "https://localhost:8080/",
          "height": 598
        }
      },
      "source": [
        "# Vehicle model year - group\n",
        "Non_Fatalties = df[df['C_SEV']==0]\n",
        "Fatalties = df[df['C_SEV']==1]\n",
        "\n",
        "plt.subplots(figsize=(18,8))\n",
        "sns.distplot(Non_Fatalties['V_YEAR'])\n",
        "sns.distplot(Fatalties['V_YEAR'])\n",
        "plt.title('Vehichle model year:Fatalities and non-Fatalities')\n",
        "plt.legend([0,1],title='Fatalties')\n",
        "plt.ylabel('percentage')\n",
        "\n",
        "# From visualization, we can see that this variable is not significant because for the two situations, the distributions are almost the same."
      ],
      "execution_count": null,
      "outputs": [
        {
          "output_type": "stream",
          "text": [
            "/usr/local/lib/python3.6/dist-packages/seaborn/distributions.py:2551: FutureWarning: `distplot` is a deprecated function and will be removed in a future version. Please adapt your code to use either `displot` (a figure-level function with similar flexibility) or `histplot` (an axes-level function for histograms).\n",
            "  warnings.warn(msg, FutureWarning)\n",
            "/usr/local/lib/python3.6/dist-packages/seaborn/distributions.py:2551: FutureWarning: `distplot` is a deprecated function and will be removed in a future version. Please adapt your code to use either `displot` (a figure-level function with similar flexibility) or `histplot` (an axes-level function for histograms).\n",
            "  warnings.warn(msg, FutureWarning)\n"
          ],
          "name": "stderr"
        },
        {
          "output_type": "execute_result",
          "data": {
            "text/plain": [
              "Text(0, 0.5, 'percentage')"
            ]
          },
          "metadata": {
            "tags": []
          },
          "execution_count": 22
        },
        {
          "output_type": "display_data",
          "data": {
            "image/png": "[encoded data removed]",
            "text/plain": [
              "<Figure size 1296x576 with 1 Axes>"
            ]
          },
          "metadata": {
            "tags": [],
            "needs_background": "light"
          }
        }
      ]
    },
    {
      "cell_type": "code",
      "metadata": {
        "id": "Rwgmc5j8nRDC",
        "outputId": "33c8c468-6697-48c7-d285-37cf43eb4a97",
        "colab": {
          "base_uri": "https://localhost:8080/",
          "height": 170
        }
      },
      "source": [
        "df.P_ID.unique()\n",
        "# unique number to indenty person, can drop"
      ],
      "execution_count": null,
      "outputs": [
        {
          "output_type": "execute_result",
          "data": {
            "text/plain": [
              "array(['01', '02', '03', '04', '06', '07', '05', '08', '09', '10', '11',\n",
              "       '12', '13', '14', '15', '16', '17', '18', '19', '20', '21', '22',\n",
              "       '23', '26', '27', '28', '29', '30', '31', '24', '25', '32', '33',\n",
              "       '34', '35', '36', '37', '38', '39', '40', '41', '42', '43', '44',\n",
              "       '45', '46', '47', '48', '49', '50', '51', '52', '53', '54', '55',\n",
              "       '56', '57', '58', '59', '60', '61', '62', '63', '64', '65', '66',\n",
              "       '67', '68', '69', '70', '71', '72', '73', '74', '75', '76', '77',\n",
              "       '78', '79', '80', '81', '82', '83', '84', '85', '86', '87', '88',\n",
              "       '89', '90', '91', '92', '93'], dtype=object)"
            ]
          },
          "metadata": {
            "tags": []
          },
          "execution_count": 23
        }
      ]
    },
    {
      "cell_type": "code",
      "metadata": {
        "id": "w3NNNK-YnQ-y",
        "outputId": "51f7ca6c-36c1-4401-94a9-305f2bf4fed6",
        "colab": {
          "base_uri": "https://localhost:8080/",
          "height": 34
        }
      },
      "source": [
        "df.P_SEX.unique()"
      ],
      "execution_count": null,
      "outputs": [
        {
          "output_type": "execute_result",
          "data": {
            "text/plain": [
              "array(['M', 'F'], dtype=object)"
            ]
          },
          "metadata": {
            "tags": []
          },
          "execution_count": 24
        }
      ]
    },
    {
      "cell_type": "code",
      "metadata": {
        "id": "vvRadwSMnmj0",
        "outputId": "1b2459be-68e6-4fb1-eff7-9681d1b0898c",
        "colab": {
          "base_uri": "https://localhost:8080/",
          "height": 119
        }
      },
      "source": [
        "df.P_AGE.unique()\n",
        "df.P_AGE = pd.to_numeric(df.P_AGE)\n",
        "df.P_AGE.unique()"
      ],
      "execution_count": null,
      "outputs": [
        {
          "output_type": "execute_result",
          "data": {
            "text/plain": [
              "array([19, 22, 33, 37, 35, 56, 58, 30, 25, 54, 31, 36, 48, 24, 39,  2, 40,\n",
              "       27, 41, 16, 20, 51, 43, 38, 34, 23, 49, 28, 50, 74, 52, 57, 61, 84,\n",
              "       66,  4, 32, 68, 26, 21, 59, 46, 42, 72, 44,  1, 63,  7, 71, 65, 55,\n",
              "       83, 29, 45, 69, 62,  8, 47,  9, 53, 17, 18, 14, 82, 80, 64, 78, 77,\n",
              "       87, 15, 75, 88, 10, 13, 67, 12, 73, 70, 81, 60, 79, 76,  6, 11,  3,\n",
              "        5, 89, 86, 85, 96, 90, 93, 92, 91, 94, 99, 97, 98, 95])"
            ]
          },
          "metadata": {
            "tags": []
          },
          "execution_count": 25
        }
      ]
    },
    {
      "cell_type": "code",
      "metadata": {
        "id": "5mCiXt7Ho2k2",
        "outputId": "0ad8acee-bade-42a1-b49c-8628b5cb5a95",
        "colab": {
          "base_uri": "https://localhost:8080/",
          "height": 51
        }
      },
      "source": [
        "df.P_PSN.unique()"
      ],
      "execution_count": null,
      "outputs": [
        {
          "output_type": "execute_result",
          "data": {
            "text/plain": [
              "array(['11', '13', '12', '21', '96', '23', '22', '32', '33', '97', '31',\n",
              "       '98', 'QQ'], dtype=object)"
            ]
          },
          "metadata": {
            "tags": []
          },
          "execution_count": 26
        }
      ]
    },
    {
      "cell_type": "code",
      "metadata": {
        "id": "m97ZZKz-nm0f",
        "outputId": "2f56b59e-b5f7-4aad-bb55-1cc0cc4dfc98",
        "colab": {
          "base_uri": "https://localhost:8080/",
          "height": 34
        }
      },
      "source": [
        "df.P_ISEV.unique()"
      ],
      "execution_count": null,
      "outputs": [
        {
          "output_type": "execute_result",
          "data": {
            "text/plain": [
              "array(['2', '1', '3'], dtype=object)"
            ]
          },
          "metadata": {
            "tags": []
          },
          "execution_count": 27
        }
      ]
    },
    {
      "cell_type": "code",
      "metadata": {
        "id": "PViq_atInmx2",
        "outputId": "279276d8-eec0-447f-c478-c437f33a7ca1",
        "colab": {
          "base_uri": "https://localhost:8080/",
          "height": 34
        }
      },
      "source": [
        "df.P_SAFE.unique()"
      ],
      "execution_count": null,
      "outputs": [
        {
          "output_type": "execute_result",
          "data": {
            "text/plain": [
              "array(['02', '01', '13', 'QQ', '12', '09'], dtype=object)"
            ]
          },
          "metadata": {
            "tags": []
          },
          "execution_count": 28
        }
      ]
    },
    {
      "cell_type": "code",
      "metadata": {
        "id": "lBEBajsRnmmC",
        "outputId": "be0f42f8-b1b7-4222-8e1c-95af623a9c26",
        "colab": {
          "base_uri": "https://localhost:8080/",
          "height": 34
        }
      },
      "source": [
        "df.P_USER.unique()"
      ],
      "execution_count": null,
      "outputs": [
        {
          "output_type": "execute_result",
          "data": {
            "text/plain": [
              "array(['1', '2', '5', '4'], dtype=object)"
            ]
          },
          "metadata": {
            "tags": []
          },
          "execution_count": 29
        }
      ]
    },
    {
      "cell_type": "code",
      "metadata": {
        "id": "d7kNW-oROi71"
      },
      "source": [
        "# export the cleaned file for visualization\n",
        "# df.to_csv(\"cleaned_NCDB.csv\")"
      ],
      "execution_count": null,
      "outputs": []
    },
    {
      "cell_type": "markdown",
      "metadata": {
        "id": "ZYZ9jh1xxa1B"
      },
      "source": [
        "There are two major concerns for the problem:\n",
        "\n",
        "\n",
        "1.   Considering the collision level and vehicle situation, whether the accident will cause fatalties?\n",
        "2.   Considering personal safety, whether the accident will cause fatalties?\n",
        "\n"
      ]
    },
    {
      "cell_type": "markdown",
      "metadata": {
        "id": "tJoyguA6vwBy"
      },
      "source": [
        "# Logistic Regression"
      ]
    },
    {
      "cell_type": "markdown",
      "metadata": {
        "id": "mfxnCEFE_UrG"
      },
      "source": [
        ""
      ]
    },
    {
      "cell_type": "code",
      "metadata": {
        "id": "cWl3PGlr3sbs"
      },
      "source": [
        "# deal with categorical variables\n",
        "df_c = df.copy()\n",
        "df_c = pd.get_dummies(df_c, columns = ['C_MNTH','C_WDAY','C_HOUR','C_RCFG','C_WTHR','C_RSUR','C_RALN','C_TRAF','V_TYPE'])\n",
        "# df_c.head()\n",
        "\n",
        "# sample data so as to be balanced \n",
        "df1 = df_c[df_c.C_SEV == 1] # 2645\n",
        "df2 = df_c[df_c.C_SEV == 0].sample(n = 2645, replace = False, random_state = 2020)\n",
        "dfc = pd.concat([df1, df2], ignore_index=True)\n",
        "# dfc\n",
        "\n",
        "# define X and y\n",
        "# to analyse the relationship between fatalties and collision level and vehicle situation\n",
        "y = dfc['C_SEV']\n",
        "X = dfc[dfc.columns[~dfc.columns.isin(['C_YEAR','C_SEV','C_VEHS','C_CONF','V_ID','V_YEAR','P_ID','P_SEX','P_AGE','P_PSN','P_ISEV','P_SAFE','P_USER'])]]\n",
        "\n",
        "# train and test split\n",
        "X_train, X_test, y_train, y_test = train_test_split(X, y, test_size=0.30, random_state=2020)"
      ],
      "execution_count": null,
      "outputs": []
    },
    {
      "cell_type": "code",
      "metadata": {
        "id": "dS6LtUmKv5UI",
        "outputId": "50064643-6df6-4718-abf7-7f03295a35ff",
        "colab": {
          "base_uri": "https://localhost:8080/",
          "height": 506
        }
      },
      "source": [
        "lr_classifier = linear_model.LogisticRegression(random_state=2020)\n",
        "lr_classifier.fit(X_train, y_train)\n",
        "y_pred = lr_classifier.predict(X_test)\n",
        "cm = confusion_matrix(y_test,y_pred)\n",
        "#print(f\"Accuracy: {accuracy_score(y_test, y_pred)*100:.2f}%\")\n",
        "\n",
        "# plot confusion matrix \n",
        "plt.figure(figsize=(5,5))\n",
        "sns.heatmap(cm, annot=True, linewidth=0.5, fmt='.0f', cmap='Blues')\n",
        "plt.title(f'Accuracy for Logistic Regression: {accuracy_score(y_test, y_pred)*100:.2f}%')\n",
        "plt.xlabel('Predict label')\n",
        "plt.ylabel('True label')\n",
        "plt.show()"
      ],
      "execution_count": null,
      "outputs": [
        {
          "output_type": "stream",
          "text": [
            "/usr/local/lib/python3.6/dist-packages/sklearn/linear_model/_logistic.py:940: ConvergenceWarning: lbfgs failed to converge (status=1):\n",
            "STOP: TOTAL NO. of ITERATIONS REACHED LIMIT.\n",
            "\n",
            "Increase the number of iterations (max_iter) or scale the data as shown in:\n",
            "    https://scikit-learn.org/stable/modules/preprocessing.html\n",
            "Please also refer to the documentation for alternative solver options:\n",
            "    https://scikit-learn.org/stable/modules/linear_model.html#logistic-regression\n",
            "  extra_warning_msg=_LOGISTIC_SOLVER_CONVERGENCE_MSG)\n"
          ],
          "name": "stderr"
        },
        {
          "output_type": "display_data",
          "data": {
            "image/png": "[encoded data removed]",
            "text/plain": [
              "<Figure size 360x360 with 2 Axes>"
            ]
          },
          "metadata": {
            "tags": [],
            "needs_background": "light"
          }
        }
      ]
    },
    {
      "cell_type": "code",
      "metadata": {
        "id": "TuASw1IPv5SD",
        "outputId": "90924e6a-8ddd-43f9-ef18-1515ddc37e43",
        "colab": {
          "base_uri": "https://localhost:8080/",
          "height": 374
        }
      },
      "source": [
        "# optimization\n",
        "accuracy_score1 = []\n",
        "accuracy_score2 = []\n",
        "for i in np.linspace(0.05, 10, 19):\n",
        "    lr = linear_model.LogisticRegression(penalty=\"l2\", solver = \"liblinear\", C = i, max_iter=1000)    \n",
        "    lr = lr.fit(X_train, y_train)\n",
        "    accuracy_score1.append(accuracy_score(lr.predict(X_train), y_train))\n",
        "    accuracy_score2.append(accuracy_score(lr.predict(X_test),y_test))\n",
        " \n",
        "graph = [accuracy_score1, accuracy_score2]\n",
        "color = [\"green\",\"yellow\"]\n",
        "label = [\"Train\",\"Test\"]\n",
        "\n",
        "plt.figure(figsize=(6,6))\n",
        "for i in range(len(graph)):\n",
        "    plt.plot(np.linspace(0.05,10, 19),graph[i], color[i], label = label[i])\n",
        "plt.show()\n",
        "\n",
        "## from the picture, we can see that c = 0.6 may be the best value"
      ],
      "execution_count": null,
      "outputs": [
        {
          "output_type": "display_data",
          "data": {
            "image/png": "[encoded data removed]",
            "text/plain": [
              "<Figure size 432x432 with 1 Axes>"
            ]
          },
          "metadata": {
            "tags": [],
            "needs_background": "light"
          }
        }
      ]
    },
    {
      "cell_type": "code",
      "metadata": {
        "id": "qUcBbytCBVqF",
        "outputId": "22c117ba-fb00-41fe-d9cb-32bf0b7bd433",
        "colab": {
          "base_uri": "https://localhost:8080/",
          "height": 350
        }
      },
      "source": [
        "lr_classifier = linear_model.LogisticRegression(C=0.6,random_state=2020)\n",
        "lr_classifier.fit(X_train, y_train)\n",
        "y_pred = lr_classifier.predict(X_test)\n",
        "cm = confusion_matrix(y_test,y_pred)\n",
        "#print(f\"Accuracy: {accuracy_score(y_test, y_pred)*100:.2f}%\")\n",
        "\n",
        "# plot confusion matrix\n",
        "plt.figure(figsize=(5,5))\n",
        "sns.heatmap(cm, annot=True, linewidth=0.5, fmt='.0f', cmap='Blues')\n",
        "plt.title(f'Accuracy for Logistic Regression: {accuracy_score(y_test, y_pred)*100:.2f}%')\n",
        "plt.xlabel('Predict label')\n",
        "plt.ylabel('True label')\n",
        "plt.show()"
      ],
      "execution_count": null,
      "outputs": [
        {
          "output_type": "display_data",
          "data": {
            "image/png": "[encoded data removed]",
            "text/plain": [
              "<Figure size 360x360 with 2 Axes>"
            ]
          },
          "metadata": {
            "tags": [],
            "needs_background": "light"
          }
        }
      ]
    },
    {
      "cell_type": "code",
      "metadata": {
        "id": "Y7JSf9fy04bX"
      },
      "source": [
        "# real 1 predicted as 0 is more series"
      ],
      "execution_count": null,
      "outputs": []
    },
    {
      "cell_type": "markdown",
      "metadata": {
        "id": "le7nAISlvyUl"
      },
      "source": [
        "# Decision Tree"
      ]
    },
    {
      "cell_type": "code",
      "metadata": {
        "id": "42vSJQCDv5yJ",
        "outputId": "0586dbd6-987c-45a1-b964-3bccc0b36d0c",
        "colab": {
          "base_uri": "https://localhost:8080/",
          "height": 350
        }
      },
      "source": [
        "y = dfc['C_SEV']\n",
        "X = dfc[dfc.columns[~dfc.columns.isin(['C_YEAR','C_SEV','C_VEHS','C_CONF','V_ID','V_YEAR','P_ID','P_SEX','P_AGE','P_PSN','P_ISEV','P_SAFE','P_USER'])]]\n",
        "X_train, X_test, y_train, y_test = train_test_split(X, y, test_size=0.30, random_state=2020)\n",
        "\n",
        "# build the model\n",
        "dt_classifier = tree.DecisionTreeClassifier(random_state=2020)\n",
        "dt_classifier = dt_classifier.fit(X_train, y_train)\n",
        "y_pred = dt_classifier.predict(X_test)\n",
        "cm = confusion_matrix(y_test,y_pred)\n",
        "#print(f\"Accuracy: {accuracy_score(y_test, y_pred)*100:.2f}%\")\n",
        "\n",
        "# plot confusion matrix\n",
        "dt_cm = confusion_matrix(y_test, y_pred)\n",
        "plt.figure(figsize=(5,5))\n",
        "sns.heatmap(dt_cm, annot=True, linewidth=0.5, fmt='.0f', cmap='Blues')\n",
        "plt.title(f'Accuracy for Decision Tree: {accuracy_score(y_test, y_pred)*100:.2f}%')\n",
        "plt.xlabel('Predict label')\n",
        "plt.ylabel('True label')\n",
        "plt.show()"
      ],
      "execution_count": null,
      "outputs": [
        {
          "output_type": "display_data",
          "data": {
            "image/png": "[encoded data removed]",
            "text/plain": [
              "<Figure size 360x360 with 2 Axes>"
            ]
          },
          "metadata": {
            "tags": [],
            "needs_background": "light"
          }
        }
      ]
    },
    {
      "cell_type": "code",
      "metadata": {
        "id": "MX5mscREv50q"
      },
      "source": [
        "#tree.plot_tree(dt_classifier) "
      ],
      "execution_count": null,
      "outputs": []
    },
    {
      "cell_type": "code",
      "metadata": {
        "id": "22DD-7tnv5wD",
        "outputId": "491f42e0-18b9-49aa-97be-a1a8ded1656e",
        "colab": {
          "base_uri": "https://localhost:8080/",
          "height": 312
        }
      },
      "source": [
        "# return the effective alphas and the corresponding total leaf impurities at each step of the pruning process\n",
        "clf=dt_classifier\n",
        "path = clf.cost_complexity_pruning_path(X_train, y_train)\n",
        "ccp_alphas, impurities = path.ccp_alphas, path.impurities\n",
        "\n",
        "fig, ax = plt.subplots()\n",
        "ax.plot(ccp_alphas[:-1], impurities[:-1], drawstyle=\"steps-post\")\n",
        "ax.set_xlabel(\"effective alpha\")\n",
        "ax.set_ylabel(\"total impurity of leaves\")\n",
        "ax.set_title(\"Total Impurity vs effective alpha for training set\")"
      ],
      "execution_count": null,
      "outputs": [
        {
          "output_type": "execute_result",
          "data": {
            "text/plain": [
              "Text(0.5, 1.0, 'Total Impurity vs effective alpha for training set')"
            ]
          },
          "metadata": {
            "tags": []
          },
          "execution_count": 38
        },
        {
          "output_type": "display_data",
          "data": {
            "image/png": "[encoded data removed]",
            "text/plain": [
              "<Figure size 432x288 with 1 Axes>"
            ]
          },
          "metadata": {
            "tags": [],
            "needs_background": "light"
          }
        }
      ]
    },
    {
      "cell_type": "code",
      "metadata": {
        "id": "4_YdOcurij4u",
        "outputId": "63544e3c-5c0d-4e2a-f2c2-2ad5561cc79b",
        "colab": {
          "base_uri": "https://localhost:8080/",
          "height": 312
        }
      },
      "source": [
        "clfs = []\n",
        "for ccp_alpha in ccp_alphas:\n",
        "    clf = tree.DecisionTreeClassifier(random_state=2020, ccp_alpha=ccp_alpha)\n",
        "    clf.fit(X_train, y_train)\n",
        "    clfs.append(clf)\n",
        "#print(f\"Number of nodes in the last tree is: {clfs[-1].tree_.node_count} with ccp_alpha: {ccp_alphas[-1]}\")\n",
        "\n",
        "train_scores = [clf.score(X_train, y_train) for clf in clfs]\n",
        "test_scores = [clf.score(X_test, y_test) for clf in clfs]\n",
        "\n",
        "# find the optimal ccp_alpha value for highest accuracy\n",
        "max_index = test_scores.index(max(test_scores))\n",
        "optimal_ccp_alpha = ccp_alphas[max_index]\n",
        "\n",
        "# plot the accuracy for each ccp_alpha value\n",
        "fig, ax = plt.subplots()\n",
        "ax.set_xlabel(\"alpha\")\n",
        "ax.set_ylabel(\"accuracy\")\n",
        "ax.set_title(\"Accuracy vs alpha for training and testing sets\")\n",
        "plt.plot(optimal_ccp_alpha,max(test_scores),marker=\"o\",markersize=8, color=\"orange\")\n",
        "ax.plot(ccp_alphas, train_scores, label=\"train\", drawstyle=\"steps-post\")\n",
        "point = (f\"({optimal_ccp_alpha:.4f},{max(test_scores):.4f})\")\n",
        "ax.annotate(point, xytext = (0.0002,0.8), xy=(optimal_ccp_alpha,max(test_scores)))\n",
        "ax.plot(ccp_alphas, test_scores, label=\"test\", drawstyle=\"steps-post\")\n",
        "ax.legend()\n",
        "plt.xlim(0,0.005)\n",
        "plt.show()\n",
        "\n",
        "\n",
        "print(f\"Optimal ccp_alpha for decision tree is: {optimal_ccp_alpha}, with highest accuracy: {max(test_scores)*100:.2f}%\")"
      ],
      "execution_count": null,
      "outputs": [
        {
          "output_type": "display_data",
          "data": {
            "image/png": "[encoded data removed]",
            "text/plain": [
              "<Figure size 432x288 with 1 Axes>"
            ]
          },
          "metadata": {
            "tags": [],
            "needs_background": "light"
          }
        },
        {
          "output_type": "stream",
          "text": [
            "Optimal ccp_alpha for decision tree is: 0.00014402736519938784, with highest accuracy: 72.97%\n"
          ],
          "name": "stdout"
        }
      ]
    },
    {
      "cell_type": "code",
      "metadata": {
        "id": "VR1dAA9DFy47",
        "outputId": "40184518-b9fd-4955-dcfb-4a21c831aa88",
        "colab": {
          "base_uri": "https://localhost:8080/",
          "height": 295
        }
      },
      "source": [
        "# plot the accuracy for each ccp_alpha value\n",
        "fig, ax = plt.subplots()\n",
        "ax.set_xlabel(\"alpha\")\n",
        "ax.set_ylabel(\"accuracy\")\n",
        "ax.set_title(\"Accuracy vs alpha for training and testing sets\")\n",
        "plt.plot(optimal_ccp_alpha,max(test_scores),marker=\"o\",markersize=8, color=\"orange\")\n",
        "ax.plot(ccp_alphas, train_scores, label=\"train\", drawstyle=\"steps-post\")\n",
        "point = (f\"({optimal_ccp_alpha:.4f},{max(test_scores):.4f})\")\n",
        "ax.annotate(point, xytext = (0.0002,0.76), xy=(optimal_ccp_alpha,max(test_scores)))\n",
        "ax.plot(ccp_alphas, test_scores, label=\"test\", drawstyle=\"steps-post\")\n",
        "ax.legend()\n",
        "plt.xlim(0,0.005)\n",
        "plt.show()"
      ],
      "execution_count": null,
      "outputs": [
        {
          "output_type": "display_data",
          "data": {
            "image/png": "[encoded data removed]",
            "text/plain": [
              "<Figure size 432x288 with 1 Axes>"
            ]
          },
          "metadata": {
            "tags": [],
            "needs_background": "light"
          }
        }
      ]
    },
    {
      "cell_type": "code",
      "metadata": {
        "id": "3gOKKLGtFhuW",
        "outputId": "360ac110-7722-4244-ce09-92a04c3b48e4",
        "colab": {
          "base_uri": "https://localhost:8080/",
          "height": 350
        }
      },
      "source": [
        "# build the model\n",
        "dt_classifier = tree.DecisionTreeClassifier(ccp_alpha=optimal_ccp_alpha,random_state=2020)\n",
        "dt_classifier = dt_classifier.fit(X_train, y_train)\n",
        "y_pred = dt_classifier.predict(X_test)\n",
        "cm = confusion_matrix(y_test,y_pred)\n",
        "#print(f\"Accuracy: {accuracy_score(y_test, y_pred)*100:.2f}%\")\n",
        "\n",
        "# plot confusion matrix\n",
        "dt_cm = confusion_matrix(y_test, y_pred)\n",
        "plt.figure(figsize=(5,5))\n",
        "sns.heatmap(dt_cm, annot=True, linewidth=0.5, fmt='.0f', cmap='Blues')\n",
        "plt.title(f'Accuracy for Decision Tree: {accuracy_score(y_test, y_pred)*100:.2f}%')\n",
        "plt.xlabel('Predict label')\n",
        "plt.ylabel('True label')\n",
        "plt.show()"
      ],
      "execution_count": null,
      "outputs": [
        {
          "output_type": "display_data",
          "data": {
            "image/png": "[encoded data removed]",
            "text/plain": [
              "<Figure size 360x360 with 2 Axes>"
            ]
          },
          "metadata": {
            "tags": [],
            "needs_background": "light"
          }
        }
      ]
    },
    {
      "cell_type": "code",
      "metadata": {
        "id": "45sJHJl5bzzM",
        "outputId": "f118f605-7771-4830-c13d-9afea23a5e17",
        "colab": {
          "base_uri": "https://localhost:8080/",
          "height": 71
        }
      },
      "source": [
        "### generate feature importance through decision tree\n",
        "def select_dt(imp_num):\n",
        "  clf = tree.DecisionTreeClassifier(random_state=2020, ccp_alpha=optimal_ccp_alpha)\n",
        "  clf = clf.fit(X_train, y_train)\n",
        "  dt_fea_imp = pd.DataFrame({'col':list(X_train.columns),\n",
        "                             'imp':clf.feature_importances_})\n",
        "  dt_fea_imp = dt_fea_imp.sort_values('imp',ascending=False).reset_index(drop=True).iloc[:imp_num,:]\n",
        "  dt_select_col = list(dt_fea_imp.col)\n",
        "\n",
        "  return dt_select_col\n",
        "\n",
        "imp_num = 20\n",
        "\n",
        "print(f\"Top {imp_num} most important features selected from decision tree:\")\n",
        "print(select_dt(imp_num))"
      ],
      "execution_count": null,
      "outputs": [
        {
          "output_type": "stream",
          "text": [
            "Top 20 most important features selected from decision tree:\n",
            "['C_TRAF_01', 'C_MNTH_5', 'C_RCFG_01', 'V_TYPE_01', 'C_WDAY_5', 'C_RALN_1', 'C_WDAY_2', 'C_HOUR_15', 'C_MNTH_11', 'C_MNTH_12', 'C_WDAY_1', 'C_MNTH_10', 'C_MNTH_7', 'C_MNTH_8', 'C_HOUR_16', 'C_MNTH_6', 'C_RSUR_2', 'C_HOUR_08', 'C_HOUR_13', 'C_WDAY_7']\n"
          ],
          "name": "stdout"
        }
      ]
    },
    {
      "cell_type": "markdown",
      "metadata": {
        "id": "BjG-rv9E1lym"
      },
      "source": [
        "# Random Forest\n"
      ]
    },
    {
      "cell_type": "code",
      "metadata": {
        "id": "XTxHvnhm2hqR"
      },
      "source": [
        "y = dfc['C_SEV']\n",
        "X = dfc[dfc.columns[~dfc.columns.isin(['C_YEAR','C_SEV','C_VEHS','C_CONF','V_ID','V_YEAR','P_ID','P_SEX','P_AGE','P_PSN','P_ISEV','P_SAFE','P_USER'])]]\n",
        "X_train, X_test, y_train, y_test = train_test_split(X, y, test_size=0.30, random_state=2020)"
      ],
      "execution_count": null,
      "outputs": []
    },
    {
      "cell_type": "code",
      "metadata": {
        "id": "mFLJ6u6A34N5",
        "outputId": "7279a9bf-6b17-43d5-ff72-73b796147329",
        "colab": {
          "base_uri": "https://localhost:8080/",
          "height": 350
        }
      },
      "source": [
        "rf = RandomForestClassifier(n_estimators=100,random_state=2020)\n",
        "rf.fit(X_train, y_train)\n",
        "# prediction\n",
        "y_pred_train = rf.predict(X_train)\n",
        "y_pred = rf.predict(X_test)\n",
        "cm_train = confusion_matrix(y_train, y_pred_train)\n",
        "\n",
        "# print confusion matrix and accuracy for train and testset\n",
        "#print(cm_train)\n",
        "accuracy_train = (cm_train[0,0] + cm_train[1,1]) / sum(sum(cm_train))\n",
        "#print(f\"Accuracy of Trainset for Random Forest: {accuracy_train*100:.2f}%\")\n",
        "\n",
        "cm_test = confusion_matrix(y_test,y_pred)\n",
        "accuracy_test = (cm_test[0,0] + cm_test[1,1]) / sum(sum(cm_test))\n",
        "#print(cm_test)\n",
        "#print(f\"Accuracy of Testset for Random Forest: {accuracy_test*100:.2f}%\")\n",
        "\n",
        "# plot confusion matrix\n",
        "rf_cm = confusion_matrix(y_test, y_pred)\n",
        "plt.figure(figsize=(5,5))\n",
        "sns.heatmap(dt_cm, annot=True, linewidth=0.5, fmt='.0f', cmap='Blues')\n",
        "plt.title(f'Accuracy of Testset for Random Forest: {accuracy_test*100:.2f}%')\n",
        "plt.xlabel('Predict label')\n",
        "plt.ylabel('True label')\n",
        "plt.show()"
      ],
      "execution_count": null,
      "outputs": [
        {
          "output_type": "display_data",
          "data": {
            "image/png": "[encoded data removed]",
            "text/plain": [
              "<Figure size 360x360 with 2 Axes>"
            ]
          },
          "metadata": {
            "tags": [],
            "needs_background": "light"
          }
        }
      ]
    },
    {
      "cell_type": "code",
      "metadata": {
        "id": "ckELfStm_lB5",
        "outputId": "38f397ec-6869-4d9a-94e8-020c7b9cccd6",
        "colab": {
          "base_uri": "https://localhost:8080/",
          "height": 71
        }
      },
      "source": [
        "### generate feature importance through random forest\n",
        "def select_rf(imp_num):\n",
        "  rf = RandomForestClassifier(n_estimators=100,random_state=2020)\n",
        "  rf = rf.fit(X_train, y_train)\n",
        "  rf_fea_imp = pd.DataFrame({'col':list(X_train.columns),\n",
        "                            'imp':rf.feature_importances_})\n",
        "  rf_fea_imp = rf_fea_imp.sort_values('imp',ascending=False).reset_index(drop=True).iloc[:imp_num,:]\n",
        "  rf_select_col = list(rf_fea_imp.col)\n",
        "\n",
        "  return rf_select_col\n",
        "\n",
        "imp_num = 20\n",
        "\n",
        "print(f\"Top {imp_num} most important features selected from random forest:\")\n",
        "print(select_rf(imp_num))"
      ],
      "execution_count": null,
      "outputs": [
        {
          "output_type": "stream",
          "text": [
            "Top 20 most important features selected from random forest:\n",
            "['C_TRAF_18', 'C_TRAF_01', 'C_RCFG_01', 'V_TYPE_01', 'C_WDAY_5', 'C_WDAY_4', 'C_RALN_1', 'C_WDAY_1', 'C_RCFG_02', 'C_HOUR_16', 'C_HOUR_15', 'C_MNTH_5', 'C_HOUR_13', 'C_WDAY_6', 'C_HOUR_17', 'C_WTHR_1', 'C_MNTH_9', 'C_WDAY_7', 'C_MNTH_7', 'C_WDAY_3']\n"
          ],
          "name": "stdout"
        }
      ]
    },
    {
      "cell_type": "markdown",
      "metadata": {
        "id": "j9eObNSQvz2q"
      },
      "source": [
        "# Neural Network"
      ]
    },
    {
      "cell_type": "code",
      "metadata": {
        "id": "FLyd4DK4v6NN"
      },
      "source": [
        "# create model\n",
        "# use one hidden layer with 10 neurons\n",
        "# set dependent and independent variables\n",
        "y = dfc['C_SEV']\n",
        "X = dfc[dfc.columns[~dfc.columns.isin(['C_YEAR','C_SEV','C_VEHS','C_CONF','V_ID','V_YEAR','P_ID','P_SEX','P_AGE','P_PSN','P_ISEV','P_SAFE','P_USER'])]]\n",
        "X_train, X_test, y_train, y_test = train_test_split(X, y, test_size=0.30, random_state=2020)\n",
        "model = Sequential()\n",
        "model.add(Dense(10, input_dim=110, activation='relu'))\n",
        "model.add(Dropout(0.2))\n",
        "model.add(Dense(10, activation='relu'))\n",
        "model.add(Dropout(0.2))\n",
        "model.add(Dense(1, activation='sigmoid'))\n"
      ],
      "execution_count": null,
      "outputs": []
    },
    {
      "cell_type": "code",
      "metadata": {
        "id": "Q6h7h77PiukQ",
        "outputId": "bb781bf4-35b1-4132-e5a1-257ebfdba970",
        "colab": {
          "base_uri": "https://localhost:8080/",
          "height": 1000
        }
      },
      "source": [
        "model.compile(loss='binary_crossentropy', optimizer='Adamax', metrics=['accuracy'])\n",
        "# Fit the model\n",
        "# set different values from epochs and batch_size to see the changes in accuracy\n",
        "model.fit(X_train, y_train, epochs=100, batch_size=1)\n",
        "# evaluate the model\n",
        "scores = model.evaluate(X_test, y_test)\n",
        "print(scores)\n",
        "print(\"Keras: \\n%s: %.2f%%\" % (model.metrics_names[1], scores[1]*100))\n",
        "\n",
        "predictions = model.predict(X_test)\n",
        "#print(predictions)\n",
        "#print('predictions shape:', predictions.shape)\n",
        "\n",
        "y_pred = (predictions > 0.38)\n",
        "y_pred=y_pred*1 #convert to 0,1 instead of True False\n",
        "matrix = confusion_matrix(y_test, y_pred)\n",
        "#print(matrix)\n",
        "\n",
        "# plot confustion_matrix\n",
        "plt.figure(figsize=(5,5))\n",
        "sns.heatmap(matrix, annot=True, linewidth=0.5, fmt='.0f', cmap='Blues')\n",
        "plt.title(f'Accuracy for Neural Network: {scores[1]*100:.2f}%')\n",
        "plt.xlabel('Predict label')\n",
        "plt.ylabel('True label')\n",
        "plt.show()"
      ],
      "execution_count": null,
      "outputs": [
        {
          "output_type": "stream",
          "text": [
            "Epoch 1/100\n",
            "3703/3703 [==============================] - 4s 1ms/step - loss: 0.6826 - accuracy: 0.5747\n",
            "Epoch 2/100\n",
            "3703/3703 [==============================] - 4s 1ms/step - loss: 0.6628 - accuracy: 0.6176\n",
            "Epoch 3/100\n",
            "3703/3703 [==============================] - 4s 1ms/step - loss: 0.6527 - accuracy: 0.6241\n",
            "Epoch 4/100\n",
            "3703/3703 [==============================] - 4s 1ms/step - loss: 0.6391 - accuracy: 0.6416\n",
            "Epoch 5/100\n",
            "3703/3703 [==============================] - 4s 1ms/step - loss: 0.6386 - accuracy: 0.6419\n",
            "Epoch 6/100\n",
            "3703/3703 [==============================] - 4s 1ms/step - loss: 0.6328 - accuracy: 0.6395\n",
            "Epoch 7/100\n",
            "3703/3703 [==============================] - 4s 1ms/step - loss: 0.6360 - accuracy: 0.6500\n",
            "Epoch 8/100\n",
            "3703/3703 [==============================] - 4s 1ms/step - loss: 0.6230 - accuracy: 0.6605\n",
            "Epoch 9/100\n",
            "3703/3703 [==============================] - 4s 1ms/step - loss: 0.6214 - accuracy: 0.6711\n",
            "Epoch 10/100\n",
            "3703/3703 [==============================] - 4s 1ms/step - loss: 0.6149 - accuracy: 0.6654\n",
            "Epoch 11/100\n",
            "3703/3703 [==============================] - 4s 1ms/step - loss: 0.6134 - accuracy: 0.6738\n",
            "Epoch 12/100\n",
            "3703/3703 [==============================] - 4s 1ms/step - loss: 0.6116 - accuracy: 0.6722\n",
            "Epoch 13/100\n",
            "3703/3703 [==============================] - 4s 1ms/step - loss: 0.6055 - accuracy: 0.6792\n",
            "Epoch 14/100\n",
            "3703/3703 [==============================] - 4s 1ms/step - loss: 0.6011 - accuracy: 0.6846\n",
            "Epoch 15/100\n",
            "3703/3703 [==============================] - 4s 1ms/step - loss: 0.5967 - accuracy: 0.6859\n",
            "Epoch 16/100\n",
            "3703/3703 [==============================] - 4s 1ms/step - loss: 0.5989 - accuracy: 0.6767\n",
            "Epoch 17/100\n",
            "3703/3703 [==============================] - 4s 1ms/step - loss: 0.5937 - accuracy: 0.6862\n",
            "Epoch 18/100\n",
            "3703/3703 [==============================] - 4s 1ms/step - loss: 0.5952 - accuracy: 0.6946\n",
            "Epoch 19/100\n",
            "3703/3703 [==============================] - 4s 1ms/step - loss: 0.5919 - accuracy: 0.6900\n",
            "Epoch 20/100\n",
            "3703/3703 [==============================] - 4s 1ms/step - loss: 0.5906 - accuracy: 0.6981\n",
            "Epoch 21/100\n",
            "3703/3703 [==============================] - 4s 1ms/step - loss: 0.5822 - accuracy: 0.7027\n",
            "Epoch 22/100\n",
            "3703/3703 [==============================] - 4s 1ms/step - loss: 0.5845 - accuracy: 0.7016\n",
            "Epoch 23/100\n",
            "3703/3703 [==============================] - 4s 1ms/step - loss: 0.5826 - accuracy: 0.7019\n",
            "Epoch 24/100\n",
            "3703/3703 [==============================] - 4s 1ms/step - loss: 0.5783 - accuracy: 0.7067\n",
            "Epoch 25/100\n",
            "3703/3703 [==============================] - 4s 1ms/step - loss: 0.5803 - accuracy: 0.7027\n",
            "Epoch 26/100\n",
            "3703/3703 [==============================] - 4s 1ms/step - loss: 0.5772 - accuracy: 0.7083\n",
            "Epoch 27/100\n",
            "3703/3703 [==============================] - 4s 1ms/step - loss: 0.5791 - accuracy: 0.7067\n",
            "Epoch 28/100\n",
            "3703/3703 [==============================] - 4s 1ms/step - loss: 0.5774 - accuracy: 0.7011\n",
            "Epoch 29/100\n",
            "3703/3703 [==============================] - 4s 1ms/step - loss: 0.5752 - accuracy: 0.6959\n",
            "Epoch 30/100\n",
            "3703/3703 [==============================] - 4s 1ms/step - loss: 0.5736 - accuracy: 0.7081\n",
            "Epoch 31/100\n",
            "3703/3703 [==============================] - 4s 1ms/step - loss: 0.5704 - accuracy: 0.7078\n",
            "Epoch 32/100\n",
            "3703/3703 [==============================] - 5s 1ms/step - loss: 0.5710 - accuracy: 0.7143\n",
            "Epoch 33/100\n",
            "3703/3703 [==============================] - 6s 2ms/step - loss: 0.5644 - accuracy: 0.7119\n",
            "Epoch 34/100\n",
            "3703/3703 [==============================] - 5s 1ms/step - loss: 0.5661 - accuracy: 0.7200\n",
            "Epoch 35/100\n",
            "3703/3703 [==============================] - 6s 2ms/step - loss: 0.5619 - accuracy: 0.7229\n",
            "Epoch 36/100\n",
            "3703/3703 [==============================] - 5s 1ms/step - loss: 0.5582 - accuracy: 0.7229\n",
            "Epoch 37/100\n",
            "3703/3703 [==============================] - 6s 2ms/step - loss: 0.5614 - accuracy: 0.7183\n",
            "Epoch 38/100\n",
            "3703/3703 [==============================] - 4s 1ms/step - loss: 0.5646 - accuracy: 0.7205\n",
            "Epoch 39/100\n",
            "3703/3703 [==============================] - 4s 1ms/step - loss: 0.5625 - accuracy: 0.7262\n",
            "Epoch 40/100\n",
            "3703/3703 [==============================] - 4s 1ms/step - loss: 0.5530 - accuracy: 0.7289\n",
            "Epoch 41/100\n",
            "3703/3703 [==============================] - 4s 1ms/step - loss: 0.5576 - accuracy: 0.7305\n",
            "Epoch 42/100\n",
            "3703/3703 [==============================] - 4s 1ms/step - loss: 0.5586 - accuracy: 0.7243\n",
            "Epoch 43/100\n",
            "3703/3703 [==============================] - 4s 1ms/step - loss: 0.5527 - accuracy: 0.7262\n",
            "Epoch 44/100\n",
            "3703/3703 [==============================] - 4s 1ms/step - loss: 0.5546 - accuracy: 0.7237\n",
            "Epoch 45/100\n",
            "3703/3703 [==============================] - 4s 1ms/step - loss: 0.5518 - accuracy: 0.7283\n",
            "Epoch 46/100\n",
            "3703/3703 [==============================] - 4s 995us/step - loss: 0.5479 - accuracy: 0.7281\n",
            "Epoch 47/100\n",
            "3703/3703 [==============================] - 4s 1ms/step - loss: 0.5448 - accuracy: 0.7337\n",
            "Epoch 48/100\n",
            "3703/3703 [==============================] - 4s 1ms/step - loss: 0.5496 - accuracy: 0.7299\n",
            "Epoch 49/100\n",
            "3703/3703 [==============================] - 4s 1ms/step - loss: 0.5430 - accuracy: 0.7351\n",
            "Epoch 50/100\n",
            "3703/3703 [==============================] - 4s 1ms/step - loss: 0.5446 - accuracy: 0.7394\n",
            "Epoch 51/100\n",
            "3703/3703 [==============================] - 4s 1ms/step - loss: 0.5421 - accuracy: 0.7310\n",
            "Epoch 52/100\n",
            "3703/3703 [==============================] - 4s 1ms/step - loss: 0.5366 - accuracy: 0.7394\n",
            "Epoch 53/100\n",
            "3703/3703 [==============================] - 4s 1ms/step - loss: 0.5479 - accuracy: 0.7351\n",
            "Epoch 54/100\n",
            "3703/3703 [==============================] - 4s 1ms/step - loss: 0.5419 - accuracy: 0.7389\n",
            "Epoch 55/100\n",
            "3703/3703 [==============================] - 4s 1ms/step - loss: 0.5398 - accuracy: 0.7397\n",
            "Epoch 56/100\n",
            "3703/3703 [==============================] - 4s 1ms/step - loss: 0.5386 - accuracy: 0.7397\n",
            "Epoch 57/100\n",
            "3703/3703 [==============================] - 4s 1ms/step - loss: 0.5376 - accuracy: 0.7399\n",
            "Epoch 58/100\n",
            "3703/3703 [==============================] - 4s 1ms/step - loss: 0.5348 - accuracy: 0.7381\n",
            "Epoch 59/100\n",
            "3703/3703 [==============================] - 4s 1ms/step - loss: 0.5357 - accuracy: 0.7399\n",
            "Epoch 60/100\n",
            "3703/3703 [==============================] - 4s 1ms/step - loss: 0.5332 - accuracy: 0.7418\n",
            "Epoch 61/100\n",
            "3703/3703 [==============================] - 4s 1ms/step - loss: 0.5389 - accuracy: 0.7362\n",
            "Epoch 62/100\n",
            "3703/3703 [==============================] - 4s 1ms/step - loss: 0.5326 - accuracy: 0.7502\n",
            "Epoch 63/100\n",
            "3703/3703 [==============================] - 4s 1ms/step - loss: 0.5346 - accuracy: 0.7426\n",
            "Epoch 64/100\n",
            "3703/3703 [==============================] - 4s 1ms/step - loss: 0.5348 - accuracy: 0.7416\n",
            "Epoch 65/100\n",
            "3703/3703 [==============================] - 4s 1ms/step - loss: 0.5261 - accuracy: 0.7494\n",
            "Epoch 66/100\n",
            "3703/3703 [==============================] - 4s 1ms/step - loss: 0.5309 - accuracy: 0.7408\n",
            "Epoch 67/100\n",
            "3703/3703 [==============================] - 4s 1ms/step - loss: 0.5254 - accuracy: 0.7518\n",
            "Epoch 68/100\n",
            "3703/3703 [==============================] - 4s 1ms/step - loss: 0.5347 - accuracy: 0.7440\n",
            "Epoch 69/100\n",
            "3703/3703 [==============================] - 4s 1ms/step - loss: 0.5178 - accuracy: 0.7532\n",
            "Epoch 70/100\n",
            "3703/3703 [==============================] - 4s 1ms/step - loss: 0.5273 - accuracy: 0.7478\n",
            "Epoch 71/100\n",
            "3703/3703 [==============================] - 4s 1ms/step - loss: 0.5349 - accuracy: 0.7386\n",
            "Epoch 72/100\n",
            "3703/3703 [==============================] - 4s 1ms/step - loss: 0.5244 - accuracy: 0.7437\n",
            "Epoch 73/100\n",
            "3703/3703 [==============================] - 4s 1ms/step - loss: 0.5209 - accuracy: 0.7599\n",
            "Epoch 74/100\n",
            "3703/3703 [==============================] - 4s 1ms/step - loss: 0.5223 - accuracy: 0.7497\n",
            "Epoch 75/100\n",
            "3703/3703 [==============================] - 4s 1ms/step - loss: 0.5223 - accuracy: 0.7494\n",
            "Epoch 76/100\n",
            "3703/3703 [==============================] - 4s 1ms/step - loss: 0.5220 - accuracy: 0.7567\n",
            "Epoch 77/100\n",
            "3703/3703 [==============================] - 4s 1ms/step - loss: 0.5173 - accuracy: 0.7516\n",
            "Epoch 78/100\n",
            "3703/3703 [==============================] - 4s 1ms/step - loss: 0.5269 - accuracy: 0.7507\n",
            "Epoch 79/100\n",
            "3703/3703 [==============================] - 4s 1ms/step - loss: 0.5152 - accuracy: 0.7564\n",
            "Epoch 80/100\n",
            "3703/3703 [==============================] - 4s 1ms/step - loss: 0.5180 - accuracy: 0.7524\n",
            "Epoch 81/100\n",
            "3703/3703 [==============================] - 4s 1ms/step - loss: 0.5116 - accuracy: 0.7545\n",
            "Epoch 82/100\n",
            "3703/3703 [==============================] - 4s 1ms/step - loss: 0.5229 - accuracy: 0.7494\n",
            "Epoch 83/100\n",
            "3703/3703 [==============================] - 4s 1ms/step - loss: 0.5171 - accuracy: 0.7543\n",
            "Epoch 84/100\n",
            "3703/3703 [==============================] - 4s 1ms/step - loss: 0.5229 - accuracy: 0.7526\n",
            "Epoch 85/100\n",
            "3703/3703 [==============================] - 4s 1ms/step - loss: 0.5156 - accuracy: 0.7572\n",
            "Epoch 86/100\n",
            "3703/3703 [==============================] - 4s 1ms/step - loss: 0.5197 - accuracy: 0.7456\n",
            "Epoch 87/100\n",
            "3703/3703 [==============================] - 4s 1ms/step - loss: 0.5132 - accuracy: 0.7642\n",
            "Epoch 88/100\n",
            "3703/3703 [==============================] - 4s 1ms/step - loss: 0.5099 - accuracy: 0.7580\n",
            "Epoch 89/100\n",
            "3703/3703 [==============================] - 4s 1ms/step - loss: 0.5103 - accuracy: 0.7572\n",
            "Epoch 90/100\n",
            "3703/3703 [==============================] - 4s 1ms/step - loss: 0.5091 - accuracy: 0.7597\n",
            "Epoch 91/100\n",
            "3703/3703 [==============================] - 4s 1ms/step - loss: 0.5050 - accuracy: 0.7629\n",
            "Epoch 92/100\n",
            "3703/3703 [==============================] - 4s 1ms/step - loss: 0.5087 - accuracy: 0.7583\n",
            "Epoch 93/100\n",
            "3703/3703 [==============================] - 4s 1ms/step - loss: 0.5069 - accuracy: 0.7586\n",
            "Epoch 94/100\n",
            "3703/3703 [==============================] - 4s 1ms/step - loss: 0.5039 - accuracy: 0.7543\n",
            "Epoch 95/100\n",
            "3703/3703 [==============================] - 4s 1ms/step - loss: 0.5071 - accuracy: 0.7575\n",
            "Epoch 96/100\n",
            "3703/3703 [==============================] - 4s 1ms/step - loss: 0.5083 - accuracy: 0.7615\n",
            "Epoch 97/100\n",
            "3703/3703 [==============================] - 4s 1ms/step - loss: 0.5061 - accuracy: 0.7553\n",
            "Epoch 98/100\n",
            "3703/3703 [==============================] - 4s 1ms/step - loss: 0.5039 - accuracy: 0.7624\n",
            "Epoch 99/100\n",
            "3703/3703 [==============================] - 4s 1ms/step - loss: 0.4955 - accuracy: 0.7740\n",
            "Epoch 100/100\n",
            "3703/3703 [==============================] - 4s 1ms/step - loss: 0.5100 - accuracy: 0.7586\n",
            "50/50 [==============================] - 0s 850us/step - loss: 0.6181 - accuracy: 0.6799\n",
            "[0.6181256175041199, 0.6798991560935974]\n",
            "Keras: \n",
            "accuracy: 67.99%\n"
          ],
          "name": "stdout"
        },
        {
          "output_type": "display_data",
          "data": {
            "image/png": "[encoded data removed]",
            "text/plain": [
              "<Figure size 360x360 with 2 Axes>"
            ]
          },
          "metadata": {
            "tags": [],
            "needs_background": "light"
          }
        }
      ]
    },
    {
      "cell_type": "code",
      "metadata": {
        "id": "3QgfnhNaiufH"
      },
      "source": [
        ""
      ],
      "execution_count": null,
      "outputs": []
    },
    {
      "cell_type": "markdown",
      "metadata": {
        "id": "5h7zXPXkv2S8"
      },
      "source": [
        "# Conclusion"
      ]
    },
    {
      "cell_type": "markdown",
      "metadata": {
        "id": "6yHBoGZoep7c"
      },
      "source": [
        ""
      ]
    },
    {
      "cell_type": "markdown",
      "metadata": {
        "id": "yaT51f4neqBN"
      },
      "source": [
        ""
      ]
    },
    {
      "cell_type": "markdown",
      "metadata": {
        "id": "R9T6siaOep5G"
      },
      "source": [
        ""
      ]
    },
    {
      "cell_type": "code",
      "metadata": {
        "id": "FOceFLCjv6lb"
      },
      "source": [
        ""
      ],
      "execution_count": null,
      "outputs": []
    },
    {
      "cell_type": "code",
      "metadata": {
        "id": "lziUBSL-v6jB"
      },
      "source": [
        ""
      ],
      "execution_count": null,
      "outputs": []
    }
  ]
}