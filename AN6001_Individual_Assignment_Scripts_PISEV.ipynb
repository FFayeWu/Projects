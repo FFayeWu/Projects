{
  "nbformat": 4,
  "nbformat_minor": 0,
  "metadata": {
    "colab": {
      "name": "AN6001_Final_PISEV.ipynb",
      "provenance": [],
      "collapsed_sections": [],
      "toc_visible": true
    },
    "kernelspec": {
      "name": "python3",
      "display_name": "Python 3"
    }
  },
  "cells": [
    {
      "cell_type": "markdown",
      "metadata": {
        "id": "zKkiCQUE95ig"
      },
      "source": [
        "# Data Preprocessing"
      ]
    },
    {
      "cell_type": "markdown",
      "metadata": {
        "id": "k6Cm_hgNptcK"
      },
      "source": [
        "This part is to check for missing values and the type of each column"
      ]
    },
    {
      "cell_type": "code",
      "metadata": {
        "id": "nNKffcjU9T2N"
      },
      "source": [
        "import pandas as pd\n",
        "import numpy as np\n",
        "from sklearn import preprocessing\n",
        "from sklearn.model_selection import train_test_split\n",
        "from sklearn import linear_model\n",
        "from sklearn.metrics import confusion_matrix, accuracy_score, mean_squared_error\n",
        "from sklearn import tree\n",
        "from sklearn.tree import DecisionTreeClassifier\n",
        "from sklearn.ensemble import RandomForestClassifier\n",
        "from xgboost import XGBClassifier\n",
        "from keras.models import Sequential\n",
        "from keras.layers import Dense, Dropout\n",
        "from sklearn.metrics import classification_report\n",
        "import matplotlib.pyplot as plt\n",
        "import seaborn as sns"
      ],
      "execution_count": null,
      "outputs": []
    },
    {
      "cell_type": "code",
      "metadata": {
        "id": "84hEjzlA1CtJ",
        "outputId": "fda776f3-2c44-4ea5-bf17-fa15ab9bd011",
        "colab": {
          "base_uri": "https://localhost:8080/",
          "height": 34
        }
      },
      "source": [
        "from google.colab import drive\n",
        "drive.mount(\"/content/drive\")"
      ],
      "execution_count": null,
      "outputs": [
        {
          "output_type": "stream",
          "text": [
            "Mounted at /content/drive\n"
          ],
          "name": "stdout"
        }
      ]
    },
    {
      "cell_type": "code",
      "metadata": {
        "id": "X2UEAil61VoZ",
        "outputId": "f6b02a32-d043-4327-ad3d-8c10e5183b03",
        "colab": {
          "base_uri": "https://localhost:8080/",
          "height": 258
        }
      },
      "source": [
        "# import data\n",
        "NCDB = pd.read_csv(\"/content/drive/My Drive/NCDB_2014.csv\")\n",
        "#NCDB = pd.read_csv(\"NCDB_2014.csv\")\n",
        "df = NCDB.copy()\n",
        "df.head()"
      ],
      "execution_count": null,
      "outputs": [
        {
          "output_type": "stream",
          "text": [
            "/usr/local/lib/python3.6/dist-packages/IPython/core/interactiveshell.py:2718: DtypeWarning: Columns (1,2,5,12) have mixed types.Specify dtype option on import or set low_memory=False.\n",
            "  interactivity=interactivity, compiler=compiler, result=result)\n"
          ],
          "name": "stderr"
        },
        {
          "output_type": "execute_result",
          "data": {
            "text/html": [
              "<div>\n",
              "<style scoped>\n",
              "    .dataframe tbody tr th:only-of-type {\n",
              "        vertical-align: middle;\n",
              "    }\n",
              "\n",
              "    .dataframe tbody tr th {\n",
              "        vertical-align: top;\n",
              "    }\n",
              "\n",
              "    .dataframe thead th {\n",
              "        text-align: right;\n",
              "    }\n",
              "</style>\n",
              "<table border=\"1\" class=\"dataframe\">\n",
              "  <thead>\n",
              "    <tr style=\"text-align: right;\">\n",
              "      <th></th>\n",
              "      <th>C_YEAR</th>\n",
              "      <th>C_MNTH</th>\n",
              "      <th>C_WDAY</th>\n",
              "      <th>C_HOUR</th>\n",
              "      <th>C_SEV</th>\n",
              "      <th>C_VEHS</th>\n",
              "      <th>C_CONF</th>\n",
              "      <th>C_RCFG</th>\n",
              "      <th>C_WTHR</th>\n",
              "      <th>C_RSUR</th>\n",
              "      <th>C_RALN</th>\n",
              "      <th>C_TRAF</th>\n",
              "      <th>V_ID</th>\n",
              "      <th>V_TYPE</th>\n",
              "      <th>V_YEAR</th>\n",
              "      <th>P_ID</th>\n",
              "      <th>P_SEX</th>\n",
              "      <th>P_AGE</th>\n",
              "      <th>P_PSN</th>\n",
              "      <th>P_ISEV</th>\n",
              "      <th>P_SAFE</th>\n",
              "      <th>P_USER</th>\n",
              "    </tr>\n",
              "  </thead>\n",
              "  <tbody>\n",
              "    <tr>\n",
              "      <th>0</th>\n",
              "      <td>2014</td>\n",
              "      <td>1</td>\n",
              "      <td>1</td>\n",
              "      <td>10</td>\n",
              "      <td>2</td>\n",
              "      <td>1</td>\n",
              "      <td>02</td>\n",
              "      <td>03</td>\n",
              "      <td>1</td>\n",
              "      <td>3</td>\n",
              "      <td>2</td>\n",
              "      <td>18</td>\n",
              "      <td>1</td>\n",
              "      <td>01</td>\n",
              "      <td>UUUU</td>\n",
              "      <td>01</td>\n",
              "      <td>M</td>\n",
              "      <td>75</td>\n",
              "      <td>11</td>\n",
              "      <td>2</td>\n",
              "      <td>NN</td>\n",
              "      <td>1</td>\n",
              "    </tr>\n",
              "    <tr>\n",
              "      <th>1</th>\n",
              "      <td>2014</td>\n",
              "      <td>1</td>\n",
              "      <td>1</td>\n",
              "      <td>12</td>\n",
              "      <td>2</td>\n",
              "      <td>1</td>\n",
              "      <td>04</td>\n",
              "      <td>UU</td>\n",
              "      <td>1</td>\n",
              "      <td>5</td>\n",
              "      <td>1</td>\n",
              "      <td>UU</td>\n",
              "      <td>1</td>\n",
              "      <td>01</td>\n",
              "      <td>UUUU</td>\n",
              "      <td>01</td>\n",
              "      <td>F</td>\n",
              "      <td>21</td>\n",
              "      <td>11</td>\n",
              "      <td>2</td>\n",
              "      <td>02</td>\n",
              "      <td>1</td>\n",
              "    </tr>\n",
              "    <tr>\n",
              "      <th>2</th>\n",
              "      <td>2014</td>\n",
              "      <td>1</td>\n",
              "      <td>1</td>\n",
              "      <td>00</td>\n",
              "      <td>2</td>\n",
              "      <td>1</td>\n",
              "      <td>03</td>\n",
              "      <td>UU</td>\n",
              "      <td>7</td>\n",
              "      <td>3</td>\n",
              "      <td>1</td>\n",
              "      <td>UU</td>\n",
              "      <td>1</td>\n",
              "      <td>01</td>\n",
              "      <td>UUUU</td>\n",
              "      <td>01</td>\n",
              "      <td>F</td>\n",
              "      <td>34</td>\n",
              "      <td>11</td>\n",
              "      <td>2</td>\n",
              "      <td>02</td>\n",
              "      <td>1</td>\n",
              "    </tr>\n",
              "    <tr>\n",
              "      <th>3</th>\n",
              "      <td>2014</td>\n",
              "      <td>1</td>\n",
              "      <td>1</td>\n",
              "      <td>17</td>\n",
              "      <td>2</td>\n",
              "      <td>2</td>\n",
              "      <td>21</td>\n",
              "      <td>UU</td>\n",
              "      <td>1</td>\n",
              "      <td>1</td>\n",
              "      <td>1</td>\n",
              "      <td>18</td>\n",
              "      <td>1</td>\n",
              "      <td>01</td>\n",
              "      <td>UUUU</td>\n",
              "      <td>01</td>\n",
              "      <td>F</td>\n",
              "      <td>50</td>\n",
              "      <td>11</td>\n",
              "      <td>2</td>\n",
              "      <td>02</td>\n",
              "      <td>1</td>\n",
              "    </tr>\n",
              "    <tr>\n",
              "      <th>4</th>\n",
              "      <td>2014</td>\n",
              "      <td>1</td>\n",
              "      <td>1</td>\n",
              "      <td>17</td>\n",
              "      <td>2</td>\n",
              "      <td>2</td>\n",
              "      <td>21</td>\n",
              "      <td>UU</td>\n",
              "      <td>1</td>\n",
              "      <td>1</td>\n",
              "      <td>1</td>\n",
              "      <td>18</td>\n",
              "      <td>2</td>\n",
              "      <td>01</td>\n",
              "      <td>UUUU</td>\n",
              "      <td>01</td>\n",
              "      <td>M</td>\n",
              "      <td>63</td>\n",
              "      <td>11</td>\n",
              "      <td>1</td>\n",
              "      <td>NN</td>\n",
              "      <td>1</td>\n",
              "    </tr>\n",
              "  </tbody>\n",
              "</table>\n",
              "</div>"
            ],
            "text/plain": [
              "   C_YEAR C_MNTH C_WDAY C_HOUR  C_SEV  ... P_AGE P_PSN P_ISEV P_SAFE P_USER\n",
              "0    2014      1      1     10      2  ...    75    11      2     NN      1\n",
              "1    2014      1      1     12      2  ...    21    11      2     02      1\n",
              "2    2014      1      1     00      2  ...    34    11      2     02      1\n",
              "3    2014      1      1     17      2  ...    50    11      2     02      1\n",
              "4    2014      1      1     17      2  ...    63    11      1     NN      1\n",
              "\n",
              "[5 rows x 22 columns]"
            ]
          },
          "metadata": {
            "tags": []
          },
          "execution_count": 4
        }
      ]
    },
    {
      "cell_type": "code",
      "metadata": {
        "id": "KM2Tqr974c6o"
      },
      "source": [
        "# replace unrelated strings with nan in order to easily drop\n",
        "import numpy as np\n",
        "droplist = [\"U\",\"X\",\"UU\",\"XX\",\"NN\",\"NNNN\",\"UUUU\",\"XXXX\",\"N\"]\n",
        "for value in droplist:\n",
        "  df.replace(value, np.nan,inplace=True)"
      ],
      "execution_count": null,
      "outputs": []
    },
    {
      "cell_type": "code",
      "metadata": {
        "id": "3NJsk1WN4c1V",
        "outputId": "29bc9146-88f2-4d53-db51-cc964bb900f1",
        "colab": {
          "base_uri": "https://localhost:8080/",
          "height": 408
        }
      },
      "source": [
        "# check for new data\n",
        "df.head()\n",
        "df.dropna(inplace=True)\n",
        "df.reset_index(drop=True, inplace=True)\n",
        "df.dtypes"
      ],
      "execution_count": null,
      "outputs": [
        {
          "output_type": "execute_result",
          "data": {
            "text/plain": [
              "C_YEAR     int64\n",
              "C_MNTH    object\n",
              "C_WDAY    object\n",
              "C_HOUR    object\n",
              "C_SEV      int64\n",
              "C_VEHS    object\n",
              "C_CONF    object\n",
              "C_RCFG    object\n",
              "C_WTHR    object\n",
              "C_RSUR    object\n",
              "C_RALN    object\n",
              "C_TRAF    object\n",
              "V_ID      object\n",
              "V_TYPE    object\n",
              "V_YEAR    object\n",
              "P_ID      object\n",
              "P_SEX     object\n",
              "P_AGE     object\n",
              "P_PSN     object\n",
              "P_ISEV    object\n",
              "P_SAFE    object\n",
              "P_USER    object\n",
              "dtype: object"
            ]
          },
          "metadata": {
            "tags": []
          },
          "execution_count": 6
        }
      ]
    },
    {
      "cell_type": "code",
      "metadata": {
        "id": "q-TaMlvln33K",
        "outputId": "e8a50c6f-7cc7-48ce-f2e7-76bd9ead4674",
        "colab": {
          "base_uri": "https://localhost:8080/",
          "height": 207
        }
      },
      "source": [
        "# check for each column\n",
        "df.C_YEAR.unique()\n",
        "# have only one value, can drop\n",
        "\n",
        "df.C_MNTH.unique()\n",
        "# [ 1,  2,  3,  4,  5,  6,  7,  8,  9, 10, 11, 12, '12']\n",
        "# '12' and 12 are different because of data type\n",
        "df.C_MNTH = df.C_MNTH.astype(str)\n",
        "df.C_MNTH.unique()\n",
        "\n",
        "df.C_WDAY.unique()\n",
        "#[1, 2, 3, 4, 5, 6, 7, '6', '7']\n",
        "df.C_WDAY = df.C_WDAY.astype(str)\n",
        "df.C_WDAY.unique()\n",
        "\n",
        "#df.C_HOUR.unique()\n",
        "#df.C_SEV.unique()\n",
        "\n",
        "df.C_VEHS.unique()\n",
        "#[1, 2, 3, 4, 6, 5, 9, 11, 51, 10, 7, 22, 21, 14, 13, 15, 57, 8, 17, 43, 20, 36, 37, 18, 12, 16, '02', '01', '04', '03', '05', '06','07', '09', 26]\n",
        "df.C_VEHS = pd.to_numeric(df.C_VEHS)\n",
        "for i in range(len(df.C_VEHS)):\n",
        "  if df.C_VEHS[i] > 4:\n",
        "    df.C_VEHS[i] = 4\n",
        "df.C_VEHS = df.C_VEHS.astype(str)\n",
        "\n",
        "#df.C_CONF.unique()\n",
        "#df.C_RCFG.unique()\n",
        "#df.C_WTHR.unique()\n",
        "#df.C_RSUR.unique()\n",
        "#df.C_RALN.unique()\n",
        "#df.C_TRAF.unique()\n",
        "\n",
        "#df.V_ID.unique()\n",
        "#df.V_ID = pd.to_numeric(df.V_ID).astype(str)\n",
        "#df.V_ID.unique()\n",
        "# unique number to identify vehicle, can drop\n",
        "#df.V_TYPE.unique()\n",
        "\n",
        "#df.V_YEAR.unique()\n",
        "#df.V_YEAR = pd.to_numeric(df.V_YEAR)\n",
        "#df.V_YEAR.unique()\n",
        "#df.P_ID.unique()\n",
        "# unique number to indenty person, can drop\n",
        "#df.P_SEX.unique()\n",
        "\n",
        "df.P_AGE.unique()\n",
        "df.P_AGE = pd.to_numeric(df.P_AGE)\n",
        "df.P_AGE.unique()\n",
        "\n",
        "#df.P_PSN.unique()\n",
        "#df.P_ISEV.unique()\n",
        "#df.P_SAFE.unique()\n",
        "#df.P_USER.unique()"
      ],
      "execution_count": null,
      "outputs": [
        {
          "output_type": "stream",
          "text": [
            "/usr/local/lib/python3.6/dist-packages/ipykernel_launcher.py:24: SettingWithCopyWarning: \n",
            "A value is trying to be set on a copy of a slice from a DataFrame\n",
            "\n",
            "See the caveats in the documentation: https://pandas.pydata.org/pandas-docs/stable/user_guide/indexing.html#returning-a-view-versus-a-copy\n"
          ],
          "name": "stderr"
        },
        {
          "output_type": "execute_result",
          "data": {
            "text/plain": [
              "array([19, 22, 33, 37, 35, 56, 58, 30, 25, 54, 31, 36, 48, 24, 39,  2, 40,\n",
              "       27, 41, 16, 20, 51, 43, 38, 34, 23, 49, 28, 50, 74, 52, 57, 61, 84,\n",
              "       66,  4, 32, 68, 26, 21, 59, 46, 42, 72, 44,  1, 63,  7, 71, 65, 55,\n",
              "       83, 29, 45, 69, 62,  8, 47,  9, 53, 17, 18, 14, 82, 80, 64, 78, 77,\n",
              "       87, 15, 75, 88, 10, 13, 67, 12, 73, 70, 81, 60, 79, 76,  6, 11,  3,\n",
              "        5, 89, 86, 85, 96, 90, 93, 92, 91, 94, 99, 97, 98, 95])"
            ]
          },
          "metadata": {
            "tags": []
          },
          "execution_count": 7
        }
      ]
    },
    {
      "cell_type": "code",
      "metadata": {
        "id": "SYdRkbe0EexM",
        "outputId": "7490c99d-de87-4e2c-cf42-a964b9b9348f",
        "colab": {
          "base_uri": "https://localhost:8080/",
          "height": 241
        }
      },
      "source": [
        "# processing y\n",
        "df.P_ISEV = pd.to_numeric(df.P_ISEV)\n",
        "\n",
        "for i in range(len(df.P_ISEV)):\n",
        "  if df.P_ISEV[i] == 3:\n",
        "    df.P_ISEV[i] = 1\n",
        "  else:\n",
        "    df.P_ISEV[i] = 0\n",
        "df.P_ISEV.unique()\n",
        "\n",
        "# age group - 14 (from visualization)\n",
        "df['P_AGEG'] = pd.cut(df.P_AGE, [-1,14,28,42,56,70,84,99], labels=['0-14','15-28','29-42','43-56','57-70','71-84','85-99'])\n",
        "df['P_AGEG'].unique()"
      ],
      "execution_count": null,
      "outputs": [
        {
          "output_type": "stream",
          "text": [
            "/usr/local/lib/python3.6/dist-packages/ipykernel_launcher.py:8: SettingWithCopyWarning: \n",
            "A value is trying to be set on a copy of a slice from a DataFrame\n",
            "\n",
            "See the caveats in the documentation: https://pandas.pydata.org/pandas-docs/stable/user_guide/indexing.html#returning-a-view-versus-a-copy\n",
            "  \n",
            "/usr/local/lib/python3.6/dist-packages/ipykernel_launcher.py:6: SettingWithCopyWarning: \n",
            "A value is trying to be set on a copy of a slice from a DataFrame\n",
            "\n",
            "See the caveats in the documentation: https://pandas.pydata.org/pandas-docs/stable/user_guide/indexing.html#returning-a-view-versus-a-copy\n",
            "  \n"
          ],
          "name": "stderr"
        },
        {
          "output_type": "execute_result",
          "data": {
            "text/plain": [
              "['15-28', '29-42', '43-56', '57-70', '0-14', '71-84', '85-99']\n",
              "Categories (7, object): ['0-14' < '15-28' < '29-42' < '43-56' < '57-70' < '71-84' < '85-99']"
            ]
          },
          "metadata": {
            "tags": []
          },
          "execution_count": 8
        }
      ]
    },
    {
      "cell_type": "markdown",
      "metadata": {
        "id": "ZYZ9jh1xxa1B"
      },
      "source": [
        "There are two major concerns for the problem:\n",
        "\n",
        "\n",
        "1.   Considering the collision level and vehicle situation, whether the accident will cause fatalties?\n",
        "2.   Considering personal safety, whether the accident will cause fatalties?\n",
        "\n"
      ]
    },
    {
      "cell_type": "markdown",
      "metadata": {
        "id": "tJoyguA6vwBy"
      },
      "source": [
        "# Logistic Regression"
      ]
    },
    {
      "cell_type": "markdown",
      "metadata": {
        "id": "mfxnCEFE_UrG"
      },
      "source": [
        ""
      ]
    },
    {
      "cell_type": "code",
      "metadata": {
        "id": "cWl3PGlr3sbs"
      },
      "source": [
        "# deal with categorical variables\n",
        "df_c = df.copy()\n",
        "df_c = pd.get_dummies(df_c, columns = ['C_MNTH','C_WDAY','C_HOUR','C_RCFG','C_WTHR','C_RSUR','C_RALN','C_TRAF','V_TYPE','P_SEX','P_PSN','P_SAFE','P_USER','P_AGEG'])\n",
        "# df_c.head()\n",
        "\n",
        "# sample data so as to be balanced \n",
        "df1 = df_c[df_c.P_ISEV == 1] # 1067\n",
        "df2 = df_c[df_c.P_ISEV == 0].sample(n = 1067, replace = False, random_state = 2020)\n",
        "dfc = pd.concat([df1, df2], ignore_index=True)\n",
        "# dfc\n",
        "\n",
        "# define X and y\n",
        "# to analyse the relationship between fatalties and collision level and vehicle situation\n",
        "y = dfc['P_ISEV']\n",
        "X = dfc[dfc.columns[~dfc.columns.isin(['C_YEAR','C_SEV','C_VEHS','C_CONF','V_ID','V_YEAR','P_ID','P_ISEV','P_AGE'])]]\n",
        "\n",
        "# train and test split\n",
        "X_train, X_test, y_train, y_test = train_test_split(X, y, test_size=0.30, random_state=2020)"
      ],
      "execution_count": null,
      "outputs": []
    },
    {
      "cell_type": "code",
      "metadata": {
        "id": "dS6LtUmKv5UI",
        "outputId": "17f2b51c-f98a-4f05-89d4-0acf285b232d",
        "colab": {
          "base_uri": "https://localhost:8080/",
          "height": 506
        }
      },
      "source": [
        "lr_classifier = linear_model.LogisticRegression(random_state=2020)\n",
        "lr_classifier.fit(X_train, y_train)\n",
        "y_pred = lr_classifier.predict(X_test)\n",
        "cm = confusion_matrix(y_test,y_pred)\n",
        "#print(f\"Accuracy: {accuracy_score(y_test, y_pred)*100:.2f}%\")\n",
        "\n",
        "# plot confusion matrix \n",
        "plt.figure(figsize=(5,5))\n",
        "sns.heatmap(cm, annot=True, linewidth=0.5, fmt='.0f', cmap='Blues')\n",
        "plt.title(f'Accuracy for Logistic Regression: {accuracy_score(y_test, y_pred)*100:.2f}%')\n",
        "plt.xlabel('Predict label')\n",
        "plt.ylabel('True label')\n",
        "plt.show()"
      ],
      "execution_count": null,
      "outputs": [
        {
          "output_type": "stream",
          "text": [
            "/usr/local/lib/python3.6/dist-packages/sklearn/linear_model/_logistic.py:940: ConvergenceWarning: lbfgs failed to converge (status=1):\n",
            "STOP: TOTAL NO. of ITERATIONS REACHED LIMIT.\n",
            "\n",
            "Increase the number of iterations (max_iter) or scale the data as shown in:\n",
            "    https://scikit-learn.org/stable/modules/preprocessing.html\n",
            "Please also refer to the documentation for alternative solver options:\n",
            "    https://scikit-learn.org/stable/modules/linear_model.html#logistic-regression\n",
            "  extra_warning_msg=_LOGISTIC_SOLVER_CONVERGENCE_MSG)\n"
          ],
          "name": "stderr"
        },
        {
          "output_type": "display_data",
          "data": {
            "image/png": "[encoded data removed]",
            "text/plain": [
              "<Figure size 360x360 with 2 Axes>"
            ]
          },
          "metadata": {
            "tags": [],
            "needs_background": "light"
          }
        }
      ]
    },
    {
      "cell_type": "code",
      "metadata": {
        "id": "TuASw1IPv5SD",
        "outputId": "a10fde54-aba5-4cb4-fb96-4382ef875a2b",
        "colab": {
          "base_uri": "https://localhost:8080/",
          "height": 374
        }
      },
      "source": [
        "# optimization\n",
        "accuracy_score1 = []\n",
        "accuracy_score2 = []\n",
        "for i in np.linspace(0.05, 10, 19):\n",
        "    lr = linear_model.LogisticRegression(penalty=\"l2\", solver = \"liblinear\", C = i, max_iter=1000)    \n",
        "    lr = lr.fit(X_train, y_train)\n",
        "    accuracy_score1.append(accuracy_score(lr.predict(X_train), y_train))\n",
        "    accuracy_score2.append(accuracy_score(lr.predict(X_test),y_test))\n",
        " \n",
        "graph = [accuracy_score1, accuracy_score2]\n",
        "color = [\"green\",\"yellow\"]\n",
        "label = [\"Train\",\"Test\"]\n",
        "\n",
        "plt.figure(figsize=(6,6))\n",
        "for i in range(len(graph)):\n",
        "    plt.plot(np.linspace(0.05,10, 19),graph[i], color[i], label = label[i])\n",
        "plt.show()\n",
        "\n",
        "## from the picture, we can see that c = 8 may be the best value"
      ],
      "execution_count": null,
      "outputs": [
        {
          "output_type": "display_data",
          "data": {
            "image/png": "[encoded data removed]",
            "text/plain": [
              "<Figure size 432x432 with 1 Axes>"
            ]
          },
          "metadata": {
            "tags": [],
            "needs_background": "light"
          }
        }
      ]
    },
    {
      "cell_type": "code",
      "metadata": {
        "id": "qUcBbytCBVqF",
        "outputId": "51fa4e91-39a0-416c-d4b4-93e4354929bf",
        "colab": {
          "base_uri": "https://localhost:8080/",
          "height": 659
        }
      },
      "source": [
        "lr_classifier = linear_model.LogisticRegression(C=7,random_state=2020)\n",
        "lr_classifier.fit(X_train, y_train)\n",
        "y_pred = lr_classifier.predict(X_test)\n",
        "cm = confusion_matrix(y_test,y_pred)\n",
        "#print(f\"Accuracy: {accuracy_score(y_test, y_pred)*100:.2f}%\")\n",
        "\n",
        "# plot confusion matrix\n",
        "plt.figure(figsize=(5,5))\n",
        "sns.heatmap(cm, annot=True, linewidth=0.5, fmt='.0f', cmap='Blues')\n",
        "plt.title(f'Accuracy for Logistic Regression: {accuracy_score(y_test, y_pred)*100:.2f}%')\n",
        "plt.xlabel('Predict label')\n",
        "plt.ylabel('True label')\n",
        "plt.show()\n",
        "print(classification_report(y_test,y_pred))"
      ],
      "execution_count": null,
      "outputs": [
        {
          "output_type": "stream",
          "text": [
            "/usr/local/lib/python3.6/dist-packages/sklearn/linear_model/_logistic.py:940: ConvergenceWarning: lbfgs failed to converge (status=1):\n",
            "STOP: TOTAL NO. of ITERATIONS REACHED LIMIT.\n",
            "\n",
            "Increase the number of iterations (max_iter) or scale the data as shown in:\n",
            "    https://scikit-learn.org/stable/modules/preprocessing.html\n",
            "Please also refer to the documentation for alternative solver options:\n",
            "    https://scikit-learn.org/stable/modules/linear_model.html#logistic-regression\n",
            "  extra_warning_msg=_LOGISTIC_SOLVER_CONVERGENCE_MSG)\n"
          ],
          "name": "stderr"
        },
        {
          "output_type": "display_data",
          "data": {
            "image/png": "[encoded data removed]",
            "text/plain": [
              "<Figure size 360x360 with 2 Axes>"
            ]
          },
          "metadata": {
            "tags": [],
            "needs_background": "light"
          }
        },
        {
          "output_type": "stream",
          "text": [
            "              precision    recall  f1-score   support\n",
            "\n",
            "           0       0.75      0.76      0.76       337\n",
            "           1       0.73      0.72      0.73       304\n",
            "\n",
            "    accuracy                           0.74       641\n",
            "   macro avg       0.74      0.74      0.74       641\n",
            "weighted avg       0.74      0.74      0.74       641\n",
            "\n"
          ],
          "name": "stdout"
        }
      ]
    },
    {
      "cell_type": "code",
      "metadata": {
        "id": "_IzuMcJBUZLX",
        "outputId": "17a5a4ae-449b-4fb3-df75-64eb1c7bea6d",
        "colab": {
          "base_uri": "https://localhost:8080/",
          "height": 605
        }
      },
      "source": [
        "lr_fea_imp = pd.DataFrame({'col':list(X_train.columns),\n",
        "                           'imp':lr_classifier.coef_[0]})\n",
        "lr_fea_imp = lr_fea_imp.sort_values('imp',ascending=False).reset_index(drop=True)\n",
        "lr_select_fea = lr_fea_imp.iloc[:20,:]\n",
        "lr_select_col = list(lr_select_fea.col)\n",
        "# plot feature importance\n",
        "fig, ax = plt.subplots()\n",
        "ax.barh(range(len(lr_select_fea)), lr_select_fea.imp)\n",
        "ax.set_yticks(range(len(lr_select_fea)))\n",
        "ax.set_yticklabels(lr_select_col)"
      ],
      "execution_count": null,
      "outputs": [
        {
          "output_type": "execute_result",
          "data": {
            "text/plain": [
              "[Text(0, 0, 'P_PSN_33'),\n",
              " Text(0, 0, 'P_AGEG_85-99'),\n",
              " Text(0, 0, 'C_TRAF_15'),\n",
              " Text(0, 0, 'C_WTHR_7'),\n",
              " Text(0, 0, 'C_HOUR_01'),\n",
              " Text(0, 0, 'P_USER_4'),\n",
              " Text(0, 0, 'V_TYPE_17'),\n",
              " Text(0, 0, 'C_TRAF_12'),\n",
              " Text(0, 0, 'P_SAFE_09'),\n",
              " Text(0, 0, 'P_SAFE_01'),\n",
              " Text(0, 0, 'C_TRAF_02'),\n",
              " Text(0, 0, 'C_RALN_6'),\n",
              " Text(0, 0, 'C_RCFG_09'),\n",
              " Text(0, 0, 'C_RSUR_8'),\n",
              " Text(0, 0, 'P_AGEG_71-84'),\n",
              " Text(0, 0, 'V_TYPE_06'),\n",
              " Text(0, 0, 'C_HOUR_05'),\n",
              " Text(0, 0, 'C_HOUR_00'),\n",
              " Text(0, 0, 'C_RSUR_Q'),\n",
              " Text(0, 0, 'C_RCFG_05')]"
            ]
          },
          "metadata": {
            "tags": []
          },
          "execution_count": 32
        },
        {
          "output_type": "display_data",
          "data": {
            "image/png": "[encoded data removed]",
            "text/plain": [
              "<Figure size 432x288 with 1 Axes>"
            ]
          },
          "metadata": {
            "tags": [],
            "needs_background": "light"
          }
        }
      ]
    },
    {
      "cell_type": "code",
      "metadata": {
        "id": "Y7JSf9fy04bX"
      },
      "source": [
        "# real 1 predicted as 0 is more series"
      ],
      "execution_count": null,
      "outputs": []
    },
    {
      "cell_type": "markdown",
      "metadata": {
        "id": "le7nAISlvyUl"
      },
      "source": [
        "# Decision Tree"
      ]
    },
    {
      "cell_type": "code",
      "metadata": {
        "id": "42vSJQCDv5yJ",
        "outputId": "eca94a56-4b55-436d-ba40-d55431116fd2",
        "colab": {
          "base_uri": "https://localhost:8080/",
          "height": 350
        }
      },
      "source": [
        "y = dfc['P_ISEV']\n",
        "X = dfc[dfc.columns[~dfc.columns.isin(['C_YEAR','C_SEV','C_VEHS','C_CONF','V_ID','V_YEAR','P_ID','P_ISEV','P_AGE'])]]\n",
        "X_train, X_test, y_train, y_test = train_test_split(X, y, test_size=0.30, random_state=2020)\n",
        "\n",
        "# build the model\n",
        "dt_classifier = tree.DecisionTreeClassifier(random_state=2020)\n",
        "dt_classifier = dt_classifier.fit(X_train, y_train)\n",
        "y_pred = dt_classifier.predict(X_test)\n",
        "cm = confusion_matrix(y_test,y_pred)\n",
        "#print(f\"Accuracy: {accuracy_score(y_test, y_pred)*100:.2f}%\")\n",
        "\n",
        "# plot confusion matrix\n",
        "dt_cm = confusion_matrix(y_test, y_pred)\n",
        "plt.figure(figsize=(5,5))\n",
        "sns.heatmap(dt_cm, annot=True, linewidth=0.5, fmt='.0f', cmap='Blues')\n",
        "plt.title(f'Accuracy for Decision Tree: {accuracy_score(y_test, y_pred)*100:.2f}%')\n",
        "plt.xlabel('Predict label')\n",
        "plt.ylabel('True label')\n",
        "plt.show()\n",
        "\n",
        "#print(f'Accuracy for Decision Tree: {accuracy_score(y_test, y_pred)*100:.2f}%')"
      ],
      "execution_count": null,
      "outputs": [
        {
          "output_type": "display_data",
          "data": {
            "image/png": "[encoded data removed]",
            "text/plain": [
              "<Figure size 360x360 with 2 Axes>"
            ]
          },
          "metadata": {
            "tags": [],
            "needs_background": "light"
          }
        }
      ]
    },
    {
      "cell_type": "code",
      "metadata": {
        "id": "MX5mscREv50q"
      },
      "source": [
        "#tree.plot_tree(dt_classifier) "
      ],
      "execution_count": null,
      "outputs": []
    },
    {
      "cell_type": "code",
      "metadata": {
        "id": "22DD-7tnv5wD",
        "outputId": "f21620bc-c713-4ff6-eafd-6644dd78abb1",
        "colab": {
          "base_uri": "https://localhost:8080/",
          "height": 312
        }
      },
      "source": [
        "# return the effective alphas and the corresponding total leaf impurities at each step of the pruning process\n",
        "clf=dt_classifier\n",
        "path = clf.cost_complexity_pruning_path(X_train, y_train)\n",
        "ccp_alphas, impurities = path.ccp_alphas, path.impurities\n",
        "\n",
        "fig, ax = plt.subplots()\n",
        "ax.plot(ccp_alphas[:-1], impurities[:-1], drawstyle=\"steps-post\")\n",
        "ax.set_xlabel(\"effective alpha\")\n",
        "ax.set_ylabel(\"total impurity of leaves\")\n",
        "ax.set_title(\"Total Impurity vs effective alpha for training set\")"
      ],
      "execution_count": null,
      "outputs": [
        {
          "output_type": "execute_result",
          "data": {
            "text/plain": [
              "Text(0.5, 1.0, 'Total Impurity vs effective alpha for training set')"
            ]
          },
          "metadata": {
            "tags": []
          },
          "execution_count": 59
        },
        {
          "output_type": "display_data",
          "data": {
            "image/png": "[encoded data removed]",
            "text/plain": [
              "<Figure size 432x288 with 1 Axes>"
            ]
          },
          "metadata": {
            "tags": [],
            "needs_background": "light"
          }
        }
      ]
    },
    {
      "cell_type": "code",
      "metadata": {
        "id": "4_YdOcurij4u",
        "outputId": "8119a08f-200f-4e30-93dd-a97fcb12bf0b",
        "colab": {
          "base_uri": "https://localhost:8080/",
          "height": 296
        }
      },
      "source": [
        "clfs = []\n",
        "for ccp_alpha in ccp_alphas:\n",
        "    clf = tree.DecisionTreeClassifier(random_state=2020, ccp_alpha=ccp_alpha)\n",
        "    clf.fit(X_train, y_train)\n",
        "    clfs.append(clf)\n",
        "\n",
        "train_scores = [clf.score(X_train, y_train) for clf in clfs]\n",
        "test_scores = [clf.score(X_test, y_test) for clf in clfs]\n",
        "\n",
        "# find the optimal ccp_alpha value for highest accuracy\n",
        "max_index = test_scores.index(max(test_scores))\n",
        "optimal_ccp_alpha = ccp_alphas[max_index]\n",
        "\n",
        "# plot the accuracy for each ccp_alpha value\n",
        "fig, ax = plt.subplots()\n",
        "ax.set_xlabel(\"alpha\")\n",
        "ax.set_ylabel(\"accuracy\")\n",
        "#ax.set_title(\"Accuracy vs alpha for training and testing sets\")\n",
        "plt.plot(optimal_ccp_alpha,max(test_scores),marker=\"o\",markersize=8, color=\"orange\")\n",
        "ax.plot(ccp_alphas, train_scores, label=\"train\", drawstyle=\"steps-post\")\n",
        "point = (f\"({optimal_ccp_alpha:.4f},{max(test_scores):.4f})\")\n",
        "ax.annotate(point, xytext = (0.002,0.75), xy=(optimal_ccp_alpha,max(test_scores)))\n",
        "ax.plot(ccp_alphas, test_scores, label=\"test\", drawstyle=\"steps-post\")\n",
        "ax.legend()\n",
        "plt.xlim(0,0.005)\n",
        "plt.show()\n",
        "\n",
        "\n",
        "print(f\"Optimal ccp_alpha for decision tree is: {optimal_ccp_alpha}, with highest accuracy: {max(test_scores)*100:.2f}%\")"
      ],
      "execution_count": null,
      "outputs": [
        {
          "output_type": "display_data",
          "data": {
            "image/png": "[encoded data removed]",
            "text/plain": [
              "<Figure size 432x288 with 1 Axes>"
            ]
          },
          "metadata": {
            "tags": [],
            "needs_background": "light"
          }
        },
        {
          "output_type": "stream",
          "text": [
            "Optimal ccp_alpha for decision tree is: 0.0022626507096226525, with highest accuracy: 72.39%\n"
          ],
          "name": "stdout"
        }
      ]
    },
    {
      "cell_type": "code",
      "metadata": {
        "id": "fw9JEIgbhGa0",
        "outputId": "e22aef18-95b5-4564-a143-41092e94fb0b",
        "colab": {
          "base_uri": "https://localhost:8080/",
          "height": 503
        }
      },
      "source": [
        "# build the model\n",
        "dt_classifier = tree.DecisionTreeClassifier(random_state=2020, ccp_alpha=optimal_ccp_alpha)\n",
        "dt_classifier = dt_classifier.fit(X_train, y_train)\n",
        "y_pred = dt_classifier.predict(X_test)\n",
        "cm = confusion_matrix(y_test,y_pred)\n",
        "#print(f\"Accuracy: {accuracy_score(y_test, y_pred)*100:.2f}%\")\n",
        "\n",
        "# plot confusion matrix\n",
        "dt_cm = confusion_matrix(y_test, y_pred)\n",
        "plt.figure(figsize=(5,5))\n",
        "sns.heatmap(dt_cm, annot=True, linewidth=0.5, fmt='.0f', cmap='Blues')\n",
        "plt.title(f'Accuracy for Decision Tree: {accuracy_score(y_test, y_pred)*100:.2f}%')\n",
        "plt.xlabel('Predict label')\n",
        "plt.ylabel('True label')\n",
        "plt.show()\n",
        "\n",
        "#print(f'Accuracy for Decision Tree: {accuracy_score(y_test, y_pred)*100:.2f}%')\n",
        "\n",
        "print(classification_report(y_test,y_pred))"
      ],
      "execution_count": null,
      "outputs": [
        {
          "output_type": "display_data",
          "data": {
            "image/png": "[encoded data removed]",
            "text/plain": [
              "<Figure size 360x360 with 2 Axes>"
            ]
          },
          "metadata": {
            "tags": [],
            "needs_background": "light"
          }
        },
        {
          "output_type": "stream",
          "text": [
            "              precision    recall  f1-score   support\n",
            "\n",
            "           0       0.72      0.79      0.75       337\n",
            "           1       0.74      0.65      0.69       304\n",
            "\n",
            "    accuracy                           0.72       641\n",
            "   macro avg       0.73      0.72      0.72       641\n",
            "weighted avg       0.73      0.72      0.72       641\n",
            "\n"
          ],
          "name": "stdout"
        }
      ]
    },
    {
      "cell_type": "code",
      "metadata": {
        "id": "kKmXzW4kjEb1",
        "outputId": "3875526e-3eca-47b5-a787-cdb9ef01c285",
        "colab": {
          "base_uri": "https://localhost:8080/",
          "height": 71
        }
      },
      "source": [
        "### generate feature importance through decision tree\n",
        "def select_dt(imp_num):\n",
        "  clf = tree.DecisionTreeClassifier(random_state=2020, ccp_alpha=optimal_ccp_alpha)\n",
        "  clf = clf.fit(X_train, y_train)\n",
        "  dt_fea_imp = pd.DataFrame({'col':list(X_train.columns),\n",
        "                             'imp':clf.feature_importances_})\n",
        "  dt_fea_imp = dt_fea_imp.sort_values('imp',ascending=False).reset_index(drop=True).iloc[:imp_num,:]\n",
        "  dt_select_col = list(dt_fea_imp.col)\n",
        "  dt_select_imp = list(dt_fea_imp.imp)\n",
        "\n",
        "  return dt_select_col, dt_select_imp\n",
        "\n",
        "imp_num = 20\n",
        "\n",
        "print(f\"Top {imp_num} most important features selected from decision tree:\")\n",
        "print(select_dt(imp_num)[0])"
      ],
      "execution_count": null,
      "outputs": [
        {
          "output_type": "stream",
          "text": [
            "Top 20 most important features selected from decision tree:\n",
            "['P_SAFE_02', 'C_TRAF_01', 'C_RCFG_01', 'P_AGEG_71-84', 'P_AGEG_85-99', 'P_AGEG_57-70', 'C_RALN_1', 'C_WDAY_2', 'C_WTHR_4', 'P_SEX_M', 'C_HOUR_21', 'C_WDAY_6', 'P_USER_5', 'C_HOUR_15', 'C_TRAF_04', 'C_TRAF_17', 'C_RALN_6', 'V_TYPE_10', 'V_TYPE_09', 'V_TYPE_08']\n"
          ],
          "name": "stdout"
        }
      ]
    },
    {
      "cell_type": "code",
      "metadata": {
        "id": "5nw2lnZ2atBC",
        "outputId": "1ab69b9b-5439-439d-ede9-18c2c0355773",
        "colab": {
          "base_uri": "https://localhost:8080/",
          "height": 605
        }
      },
      "source": [
        "# plot feature importance\n",
        "fig, ax = plt.subplots()\n",
        "ax.barh(range(len(select_dt(imp_num)[0])), select_dt(imp_num)[1])\n",
        "ax.set_yticks(range(len(select_dt(imp_num)[0])))\n",
        "ax.set_yticklabels(select_dt(imp_num)[0])"
      ],
      "execution_count": null,
      "outputs": [
        {
          "output_type": "execute_result",
          "data": {
            "text/plain": [
              "[Text(0, 0, 'P_SAFE_02'),\n",
              " Text(0, 0, 'C_TRAF_01'),\n",
              " Text(0, 0, 'C_RCFG_01'),\n",
              " Text(0, 0, 'P_AGEG_71-84'),\n",
              " Text(0, 0, 'P_AGEG_85-99'),\n",
              " Text(0, 0, 'P_AGEG_57-70'),\n",
              " Text(0, 0, 'C_RALN_1'),\n",
              " Text(0, 0, 'C_WDAY_2'),\n",
              " Text(0, 0, 'C_WTHR_4'),\n",
              " Text(0, 0, 'P_SEX_M'),\n",
              " Text(0, 0, 'C_HOUR_21'),\n",
              " Text(0, 0, 'C_WDAY_6'),\n",
              " Text(0, 0, 'P_USER_5'),\n",
              " Text(0, 0, 'C_HOUR_15'),\n",
              " Text(0, 0, 'C_TRAF_04'),\n",
              " Text(0, 0, 'C_TRAF_17'),\n",
              " Text(0, 0, 'C_RALN_6'),\n",
              " Text(0, 0, 'V_TYPE_10'),\n",
              " Text(0, 0, 'V_TYPE_09'),\n",
              " Text(0, 0, 'V_TYPE_08')]"
            ]
          },
          "metadata": {
            "tags": []
          },
          "execution_count": 44
        },
        {
          "output_type": "display_data",
          "data": {
            "image/png": "[encoded data removed]",
            "text/plain": [
              "<Figure size 432x288 with 1 Axes>"
            ]
          },
          "metadata": {
            "tags": [],
            "needs_background": "light"
          }
        }
      ]
    },
    {
      "cell_type": "markdown",
      "metadata": {
        "id": "BjG-rv9E1lym"
      },
      "source": [
        "# Random Forest\n"
      ]
    },
    {
      "cell_type": "code",
      "metadata": {
        "id": "XTxHvnhm2hqR"
      },
      "source": [
        "y = dfc['P_ISEV']\n",
        "X = dfc[dfc.columns[~dfc.columns.isin(['C_YEAR','C_SEV','C_VEHS','C_CONF','V_ID','V_YEAR','P_ID','P_ISEV','P_AGE'])]]\n",
        "X_train, X_test, y_train, y_test = train_test_split(X, y, test_size=0.30, random_state=2020)"
      ],
      "execution_count": null,
      "outputs": []
    },
    {
      "cell_type": "code",
      "metadata": {
        "id": "mFLJ6u6A34N5",
        "outputId": "04c381c3-b9b4-41bc-9430-a9947b158ac0",
        "colab": {
          "base_uri": "https://localhost:8080/",
          "height": 503
        }
      },
      "source": [
        "rf = RandomForestClassifier(n_estimators=100,random_state=2020)\n",
        "rf.fit(X_train, y_train)\n",
        "# prediction\n",
        "y_pred_train = rf.predict(X_train)\n",
        "y_pred = rf.predict(X_test)\n",
        "cm_train = confusion_matrix(y_train, y_pred_train)\n",
        "\n",
        "# print confusion matrix and accuracy for train and testset\n",
        "#print(cm_train)\n",
        "accuracy_train = (cm_train[0,0] + cm_train[1,1]) / sum(sum(cm_train))\n",
        "#print(f\"Accuracy of Trainset for Random Forest: {accuracy_train*100:.2f}%\")\n",
        "\n",
        "cm_test = confusion_matrix(y_test,y_pred)\n",
        "accuracy_test = (cm_test[0,0] + cm_test[1,1]) / sum(sum(cm_test))\n",
        "#print(cm_test)\n",
        "#print(f\"Accuracy of Testset for Random Forest: {accuracy_test*100:.2f}%\")\n",
        "\n",
        "# plot confusion matrix\n",
        "rf_cm = confusion_matrix(y_test, y_pred)\n",
        "plt.figure(figsize=(5,5))\n",
        "sns.heatmap(rf_cm, annot=True, linewidth=0.5, fmt='.0f', cmap='Blues')\n",
        "plt.title(f'Accuracy of Testset for Random Forest: {accuracy_test*100:.2f}%')\n",
        "plt.xlabel('Predict label')\n",
        "plt.ylabel('True label')\n",
        "plt.show()\n",
        "\n",
        "print(classification_report(y_test, y_pred))"
      ],
      "execution_count": null,
      "outputs": [
        {
          "output_type": "display_data",
          "data": {
            "image/png": "[encoded data removed]",
            "text/plain": [
              "<Figure size 360x360 with 2 Axes>"
            ]
          },
          "metadata": {
            "tags": [],
            "needs_background": "light"
          }
        },
        {
          "output_type": "stream",
          "text": [
            "              precision    recall  f1-score   support\n",
            "\n",
            "           0       0.76      0.80      0.78       337\n",
            "           1       0.76      0.72      0.74       304\n",
            "\n",
            "    accuracy                           0.76       641\n",
            "   macro avg       0.76      0.76      0.76       641\n",
            "weighted avg       0.76      0.76      0.76       641\n",
            "\n"
          ],
          "name": "stdout"
        }
      ]
    },
    {
      "cell_type": "code",
      "metadata": {
        "id": "ckELfStm_lB5",
        "outputId": "c6148842-1c5d-4a09-d048-9148da8a3a5c",
        "colab": {
          "base_uri": "https://localhost:8080/",
          "height": 71
        }
      },
      "source": [
        "### generate feature importance through random forest\n",
        "def select_rf(imp_num):\n",
        "  rf = RandomForestClassifier(n_estimators=100,random_state=2020)\n",
        "  rf = rf.fit(X_train, y_train)\n",
        "  rf_fea_imp = pd.DataFrame({'col':list(X_train.columns),\n",
        "                            'imp':rf.feature_importances_})\n",
        "  rf_fea_imp = rf_fea_imp.sort_values('imp',ascending=False).reset_index(drop=True).iloc[:imp_num,:]\n",
        "  rf_select_col = list(rf_fea_imp.col)\n",
        "  rf_select_imp = list(rf_fea_imp.imp)\n",
        "\n",
        "  return rf_select_col, rf_select_imp\n",
        "\n",
        "imp_num = 20\n",
        "\n",
        "print(f\"Top {imp_num} most important features selected from random forest:\")\n",
        "print(select_rf(imp_num)[0])"
      ],
      "execution_count": null,
      "outputs": [
        {
          "output_type": "stream",
          "text": [
            "Top 20 most important features selected from random forest:\n",
            "['P_SAFE_02', 'C_TRAF_18', 'C_TRAF_01', 'P_SAFE_01', 'C_RCFG_02', 'C_RCFG_01', 'C_RALN_1', 'P_AGEG_71-84', 'P_SEX_M', 'P_AGEG_29-42', 'P_AGEG_43-56', 'C_WTHR_1', 'P_SEX_F', 'C_WDAY_6', 'C_RSUR_1', 'P_AGEG_15-28', 'C_WDAY_5', 'P_AGEG_57-70', 'C_WDAY_2', 'C_WDAY_3']\n"
          ],
          "name": "stdout"
        }
      ]
    },
    {
      "cell_type": "code",
      "metadata": {
        "id": "feZYFuEjcN6C",
        "outputId": "0ba82174-4c88-4c5a-ec99-933ea3551b97",
        "colab": {
          "base_uri": "https://localhost:8080/",
          "height": 605
        }
      },
      "source": [
        "# plot feature importance\n",
        "fig, ax = plt.subplots()\n",
        "ax.barh(range(len(select_rf(imp_num)[0])), select_rf(imp_num)[1])\n",
        "ax.set_yticks(range(len(select_rf(imp_num)[0])))\n",
        "ax.set_yticklabels(select_rf(imp_num)[0])"
      ],
      "execution_count": null,
      "outputs": [
        {
          "output_type": "execute_result",
          "data": {
            "text/plain": [
              "[Text(0, 0, 'P_SAFE_02'),\n",
              " Text(0, 0, 'C_TRAF_18'),\n",
              " Text(0, 0, 'C_TRAF_01'),\n",
              " Text(0, 0, 'P_SAFE_01'),\n",
              " Text(0, 0, 'C_RCFG_02'),\n",
              " Text(0, 0, 'C_RCFG_01'),\n",
              " Text(0, 0, 'C_RALN_1'),\n",
              " Text(0, 0, 'P_AGEG_71-84'),\n",
              " Text(0, 0, 'P_SEX_M'),\n",
              " Text(0, 0, 'P_AGEG_29-42'),\n",
              " Text(0, 0, 'P_AGEG_43-56'),\n",
              " Text(0, 0, 'C_WTHR_1'),\n",
              " Text(0, 0, 'P_SEX_F'),\n",
              " Text(0, 0, 'C_WDAY_6'),\n",
              " Text(0, 0, 'C_RSUR_1'),\n",
              " Text(0, 0, 'P_AGEG_15-28'),\n",
              " Text(0, 0, 'C_WDAY_5'),\n",
              " Text(0, 0, 'P_AGEG_57-70'),\n",
              " Text(0, 0, 'C_WDAY_2'),\n",
              " Text(0, 0, 'C_WDAY_3')]"
            ]
          },
          "metadata": {
            "tags": []
          },
          "execution_count": 48
        },
        {
          "output_type": "display_data",
          "data": {
            "image/png": "[encoded data removed]",
            "text/plain": [
              "<Figure size 432x288 with 1 Axes>"
            ]
          },
          "metadata": {
            "tags": [],
            "needs_background": "light"
          }
        }
      ]
    },
    {
      "cell_type": "markdown",
      "metadata": {
        "id": "o0F1-ENjqh8T"
      },
      "source": [
        "# XGBoost"
      ]
    },
    {
      "cell_type": "code",
      "metadata": {
        "id": "pDAG401tsycb"
      },
      "source": [
        "y = dfc['P_ISEV']\n",
        "X = dfc[dfc.columns[~dfc.columns.isin(['C_YEAR','C_SEV','C_VEHS','C_CONF','V_ID','V_YEAR','P_ID','P_ISEV','P_AGE'])]]\n",
        "X_train, X_test, y_train, y_test = train_test_split(X, y, test_size=0.30, random_state=2020)"
      ],
      "execution_count": null,
      "outputs": []
    },
    {
      "cell_type": "code",
      "metadata": {
        "id": "nvPeIQb5qlet",
        "outputId": "ea957ec5-d435-4a92-c587-41e421cb64ed",
        "colab": {
          "base_uri": "https://localhost:8080/",
          "height": 537
        }
      },
      "source": [
        "xgb = XGBClassifier(n_estimators=100,random_state=2020)\n",
        "xgb.fit(X_train, y_train)\n",
        "y_pred_train = xgb.predict(X_train)\n",
        "cm_train = confusion_matrix(y_train,y_pred_train)\n",
        "#print(cm_train)\n",
        "acc = (cm_train[0,0] + cm_train[1,1]) / sum(sum(cm_train))\n",
        "print(f\"Accuracy of Trainset for XGBoost: {acc*100:.2f}%\")\n",
        "    \n",
        "y_pred = xgb.predict(X_test)\n",
        "cm_pred = confusion_matrix(y_test,y_pred)\n",
        "acc_pred = (cm_pred[0,0] + cm_pred[1,1]) / sum(sum(cm_pred))\n",
        "#print(cm_test)\n",
        "print(f\"Accuracy of Testset for XGBoost: {acc_pred*100:.2f}%\")\n",
        "\n",
        "# plot confusion matrix\n",
        "xgb_cm = confusion_matrix(y_test, y_pred)\n",
        "plt.figure(figsize=(5,5))\n",
        "sns.heatmap(xgb_cm, annot=True, linewidth=0.5, fmt='.0f', cmap='Blues')\n",
        "plt.title(f'Accuracy of Testset for XGBoost: {acc_pred*100:.2f}%')\n",
        "plt.xlabel('Predict label')\n",
        "plt.ylabel('True label')\n",
        "plt.show()\n",
        "\n",
        "print(classification_report(y_test, y_pred))"
      ],
      "execution_count": null,
      "outputs": [
        {
          "output_type": "stream",
          "text": [
            "Accuracy of Trainset for XGBoost: 80.24%\n",
            "Accuracy of Testset for XGBoost: 74.26%\n"
          ],
          "name": "stdout"
        },
        {
          "output_type": "display_data",
          "data": {
            "image/png": "[encoded data removed]",
            "text/plain": [
              "<Figure size 360x360 with 2 Axes>"
            ]
          },
          "metadata": {
            "tags": [],
            "needs_background": "light"
          }
        },
        {
          "output_type": "stream",
          "text": [
            "              precision    recall  f1-score   support\n",
            "\n",
            "           0       0.75      0.77      0.76       337\n",
            "           1       0.74      0.71      0.72       304\n",
            "\n",
            "    accuracy                           0.74       641\n",
            "   macro avg       0.74      0.74      0.74       641\n",
            "weighted avg       0.74      0.74      0.74       641\n",
            "\n"
          ],
          "name": "stdout"
        }
      ]
    },
    {
      "cell_type": "code",
      "metadata": {
        "id": "4nEmLfDoqlWu",
        "outputId": "f7637e82-b557-4ad8-e3d7-c22fbef4d919",
        "colab": {
          "base_uri": "https://localhost:8080/",
          "height": 71
        }
      },
      "source": [
        "### generate feature importance through XGBoost\n",
        "def select_xgb(imp_num):\n",
        "  xgb = RandomForestClassifier(n_estimators=100,random_state=2020)\n",
        "  xgb.fit(X_train, y_train)\n",
        "  xgb_fea_imp = pd.DataFrame({'col':list(X_train.columns),\n",
        "                              'imp':xgb.feature_importances_})\n",
        "  xgb_fea_imp = xgb_fea_imp.sort_values('imp',ascending=False).reset_index(drop=True).iloc[:imp_num,:]\n",
        "  xgb_select_col = list(xgb_fea_imp.col)\n",
        "  xgb_select_imp = list(xgb_fea_imp.imp)\n",
        "\n",
        "  return xgb_select_col, xgb_select_imp\n",
        "\n",
        "imp_num = 20\n",
        "\n",
        "print(f\"Top {imp_num} most important features selected from XGBoost:\")\n",
        "print(select_xgb(imp_num)[0])"
      ],
      "execution_count": null,
      "outputs": [
        {
          "output_type": "stream",
          "text": [
            "Top 20 most important features selected from XGBoost:\n",
            "['P_SAFE_02', 'C_TRAF_18', 'C_TRAF_01', 'P_SAFE_01', 'C_RCFG_02', 'C_RCFG_01', 'C_RALN_1', 'P_AGEG_71-84', 'P_SEX_M', 'P_AGEG_29-42', 'P_AGEG_43-56', 'C_WTHR_1', 'P_SEX_F', 'C_WDAY_6', 'C_RSUR_1', 'P_AGEG_15-28', 'C_WDAY_5', 'P_AGEG_57-70', 'C_WDAY_2', 'C_WDAY_3']\n"
          ],
          "name": "stdout"
        }
      ]
    },
    {
      "cell_type": "code",
      "metadata": {
        "id": "3QgfnhNaiufH",
        "outputId": "c5252931-ba0c-433e-d2fe-e8c3e7570627",
        "colab": {
          "base_uri": "https://localhost:8080/",
          "height": 605
        }
      },
      "source": [
        "# plot feature importance\n",
        "fig, ax = plt.subplots()\n",
        "ax.barh(range(len(select_xgb(imp_num)[0])), select_xgb(imp_num)[1])\n",
        "ax.set_yticks(range(len(select_xgb(imp_num)[0])))\n",
        "ax.set_yticklabels(select_xgb(imp_num)[0])"
      ],
      "execution_count": null,
      "outputs": [
        {
          "output_type": "execute_result",
          "data": {
            "text/plain": [
              "[Text(0, 0, 'P_SAFE_02'),\n",
              " Text(0, 0, 'C_TRAF_18'),\n",
              " Text(0, 0, 'C_TRAF_01'),\n",
              " Text(0, 0, 'P_SAFE_01'),\n",
              " Text(0, 0, 'C_RCFG_02'),\n",
              " Text(0, 0, 'C_RCFG_01'),\n",
              " Text(0, 0, 'C_RALN_1'),\n",
              " Text(0, 0, 'P_AGEG_71-84'),\n",
              " Text(0, 0, 'P_SEX_M'),\n",
              " Text(0, 0, 'P_AGEG_29-42'),\n",
              " Text(0, 0, 'P_AGEG_43-56'),\n",
              " Text(0, 0, 'C_WTHR_1'),\n",
              " Text(0, 0, 'P_SEX_F'),\n",
              " Text(0, 0, 'C_WDAY_6'),\n",
              " Text(0, 0, 'C_RSUR_1'),\n",
              " Text(0, 0, 'P_AGEG_15-28'),\n",
              " Text(0, 0, 'C_WDAY_5'),\n",
              " Text(0, 0, 'P_AGEG_57-70'),\n",
              " Text(0, 0, 'C_WDAY_2'),\n",
              " Text(0, 0, 'C_WDAY_3')]"
            ]
          },
          "metadata": {
            "tags": []
          },
          "execution_count": 53
        },
        {
          "output_type": "display_data",
          "data": {
            "image/png": "[encoded data removed]",
            "text/plain": [
              "<Figure size 432x288 with 1 Axes>"
            ]
          },
          "metadata": {
            "tags": [],
            "needs_background": "light"
          }
        }
      ]
    },
    {
      "cell_type": "markdown",
      "metadata": {
        "id": "yr_ClZyBd4ii"
      },
      "source": [
        "# Neural Network"
      ]
    },
    {
      "cell_type": "code",
      "metadata": {
        "id": "LBU94viYd71j"
      },
      "source": [
        "# create model\n",
        "# use one hidden layer with 10 neurons\n",
        "# set dependent and independent variables\n",
        "y = dfc['P_ISEV']\n",
        "X = dfc[dfc.columns[~dfc.columns.isin(['C_YEAR','C_SEV','C_VEHS','C_CONF','V_ID','V_YEAR','P_ID','P_ISEV','P_AGE'])]]\n",
        "X_train, X_test, y_train, y_test = train_test_split(X, y, test_size=0.30, random_state=2020)\n",
        "model = Sequential()\n",
        "model.add(Dense(10, input_dim=142, activation='relu'))\n",
        "model.add(Dropout(0.2))\n",
        "model.add(Dense(10, activation='relu'))\n",
        "model.add(Dropout(0.2))\n",
        "model.add(Dense(1, activation='sigmoid'))"
      ],
      "execution_count": null,
      "outputs": []
    },
    {
      "cell_type": "code",
      "metadata": {
        "id": "-ws0Eu4AeVYX",
        "outputId": "b73ba85f-d47b-4610-8ce1-69035527e1a5",
        "colab": {
          "base_uri": "https://localhost:8080/",
          "height": 1000
        }
      },
      "source": [
        "model.compile(loss='binary_crossentropy', optimizer='Adamax', metrics=['accuracy'])\n",
        "# Fit the model\n",
        "# set different values from epochs and batch_size to see the changes in accuracy\n",
        "model.fit(X_train, y_train, epochs=100, batch_size=1)\n",
        "# evaluate the model\n",
        "scores = model.evaluate(X_test, y_test)\n",
        "print(scores)\n",
        "print(\"Keras: \\n%s: %.2f%%\" % (model.metrics_names[1], scores[1]*100))\n",
        "\n",
        "predictions = model.predict(X_test)\n",
        "#print(predictions)\n",
        "#print('predictions shape:', predictions.shape)\n",
        "\n",
        "y_pred = (predictions > 0.38)\n",
        "y_pred=y_pred*1 #convert to 0,1 instead of True False\n",
        "matrix = confusion_matrix(y_test, y_pred)\n",
        "#print(matrix)\n",
        "\n",
        "# plot confustion_matrix\n",
        "plt.figure(figsize=(5,5))\n",
        "sns.heatmap(matrix, annot=True, linewidth=0.5, fmt='.0f', cmap='Blues')\n",
        "plt.title(f'Accuracy for Neural Network: {scores[1]*100:.2f}%')\n",
        "plt.xlabel('Predict label')\n",
        "plt.ylabel('True label')\n",
        "plt.show()\n",
        "\n"
      ],
      "execution_count": null,
      "outputs": [
        {
          "output_type": "stream",
          "text": [
            "Epoch 1/100\n",
            "1493/1493 [==============================] - 1s 965us/step - loss: 0.7044 - accuracy: 0.4977\n",
            "Epoch 2/100\n",
            "1493/1493 [==============================] - 1s 956us/step - loss: 0.6730 - accuracy: 0.6021\n",
            "Epoch 3/100\n",
            "1493/1493 [==============================] - 1s 942us/step - loss: 0.6388 - accuracy: 0.6363\n",
            "Epoch 4/100\n",
            "1493/1493 [==============================] - 1s 945us/step - loss: 0.6033 - accuracy: 0.6912\n",
            "Epoch 5/100\n",
            "1493/1493 [==============================] - 1s 952us/step - loss: 0.6081 - accuracy: 0.6678\n",
            "Epoch 6/100\n",
            "1493/1493 [==============================] - 1s 968us/step - loss: 0.5930 - accuracy: 0.6986\n",
            "Epoch 7/100\n",
            "1493/1493 [==============================] - 1s 972us/step - loss: 0.5806 - accuracy: 0.6892\n",
            "Epoch 8/100\n",
            "1493/1493 [==============================] - 1s 963us/step - loss: 0.5668 - accuracy: 0.7187\n",
            "Epoch 9/100\n",
            "1493/1493 [==============================] - 1s 967us/step - loss: 0.5568 - accuracy: 0.7254\n",
            "Epoch 10/100\n",
            "1493/1493 [==============================] - 1s 966us/step - loss: 0.5539 - accuracy: 0.7294\n",
            "Epoch 11/100\n",
            "1493/1493 [==============================] - 1s 927us/step - loss: 0.5499 - accuracy: 0.7187\n",
            "Epoch 12/100\n",
            "1493/1493 [==============================] - 1s 962us/step - loss: 0.5489 - accuracy: 0.7261\n",
            "Epoch 13/100\n",
            "1493/1493 [==============================] - 1s 940us/step - loss: 0.5400 - accuracy: 0.7227\n",
            "Epoch 14/100\n",
            "1493/1493 [==============================] - 1s 957us/step - loss: 0.5414 - accuracy: 0.7328\n",
            "Epoch 15/100\n",
            "1493/1493 [==============================] - 1s 957us/step - loss: 0.5457 - accuracy: 0.7341\n",
            "Epoch 16/100\n",
            "1493/1493 [==============================] - 1s 963us/step - loss: 0.5536 - accuracy: 0.7274\n",
            "Epoch 17/100\n",
            "1493/1493 [==============================] - 1s 975us/step - loss: 0.5363 - accuracy: 0.7368\n",
            "Epoch 18/100\n",
            "1493/1493 [==============================] - 1s 942us/step - loss: 0.5362 - accuracy: 0.7361\n",
            "Epoch 19/100\n",
            "1493/1493 [==============================] - 1s 941us/step - loss: 0.5331 - accuracy: 0.7488\n",
            "Epoch 20/100\n",
            "1493/1493 [==============================] - 1s 957us/step - loss: 0.5201 - accuracy: 0.7455\n",
            "Epoch 21/100\n",
            "1493/1493 [==============================] - 1s 933us/step - loss: 0.5247 - accuracy: 0.7515\n",
            "Epoch 22/100\n",
            "1493/1493 [==============================] - 1s 927us/step - loss: 0.5246 - accuracy: 0.7575\n",
            "Epoch 23/100\n",
            "1493/1493 [==============================] - 1s 930us/step - loss: 0.5185 - accuracy: 0.7488\n",
            "Epoch 24/100\n",
            "1493/1493 [==============================] - 1s 949us/step - loss: 0.5280 - accuracy: 0.7495\n",
            "Epoch 25/100\n",
            "1493/1493 [==============================] - 1s 939us/step - loss: 0.5040 - accuracy: 0.7636\n",
            "Epoch 26/100\n",
            "1493/1493 [==============================] - 1s 953us/step - loss: 0.5068 - accuracy: 0.7629\n",
            "Epoch 27/100\n",
            "1493/1493 [==============================] - 1s 959us/step - loss: 0.5245 - accuracy: 0.7515\n",
            "Epoch 28/100\n",
            "1493/1493 [==============================] - 1s 936us/step - loss: 0.5149 - accuracy: 0.7562\n",
            "Epoch 29/100\n",
            "1493/1493 [==============================] - 1s 973us/step - loss: 0.5116 - accuracy: 0.7555\n",
            "Epoch 30/100\n",
            "1493/1493 [==============================] - 2s 1ms/step - loss: 0.5064 - accuracy: 0.7723\n",
            "Epoch 31/100\n",
            "1493/1493 [==============================] - 2s 2ms/step - loss: 0.5012 - accuracy: 0.7803\n",
            "Epoch 32/100\n",
            "1493/1493 [==============================] - 2s 1ms/step - loss: 0.4990 - accuracy: 0.7810\n",
            "Epoch 33/100\n",
            "1493/1493 [==============================] - 2s 1ms/step - loss: 0.5040 - accuracy: 0.7709\n",
            "Epoch 34/100\n",
            "1493/1493 [==============================] - 1s 941us/step - loss: 0.4990 - accuracy: 0.7736\n",
            "Epoch 35/100\n",
            "1493/1493 [==============================] - 2s 1ms/step - loss: 0.5104 - accuracy: 0.7662\n",
            "Epoch 36/100\n",
            "1493/1493 [==============================] - 1s 960us/step - loss: 0.4995 - accuracy: 0.7790\n",
            "Epoch 37/100\n",
            "1493/1493 [==============================] - 1s 955us/step - loss: 0.5008 - accuracy: 0.7709\n",
            "Epoch 38/100\n",
            "1493/1493 [==============================] - 1s 925us/step - loss: 0.5099 - accuracy: 0.7803\n",
            "Epoch 39/100\n",
            "1493/1493 [==============================] - 1s 938us/step - loss: 0.4972 - accuracy: 0.7810\n",
            "Epoch 40/100\n",
            "1493/1493 [==============================] - 1s 981us/step - loss: 0.4943 - accuracy: 0.7709\n",
            "Epoch 41/100\n",
            "1493/1493 [==============================] - 1s 930us/step - loss: 0.4936 - accuracy: 0.7723\n",
            "Epoch 42/100\n",
            "1493/1493 [==============================] - 1s 940us/step - loss: 0.5016 - accuracy: 0.7823\n",
            "Epoch 43/100\n",
            "1493/1493 [==============================] - 1s 922us/step - loss: 0.4929 - accuracy: 0.7843\n",
            "Epoch 44/100\n",
            "1493/1493 [==============================] - 1s 952us/step - loss: 0.4814 - accuracy: 0.7863\n",
            "Epoch 45/100\n",
            "1493/1493 [==============================] - 1s 948us/step - loss: 0.4924 - accuracy: 0.7843\n",
            "Epoch 46/100\n",
            "1493/1493 [==============================] - 1s 974us/step - loss: 0.4848 - accuracy: 0.7796\n",
            "Epoch 47/100\n",
            "1493/1493 [==============================] - 1s 970us/step - loss: 0.4868 - accuracy: 0.7843\n",
            "Epoch 48/100\n",
            "1493/1493 [==============================] - 1s 959us/step - loss: 0.4696 - accuracy: 0.7917\n",
            "Epoch 49/100\n",
            "1493/1493 [==============================] - 1s 966us/step - loss: 0.4863 - accuracy: 0.7944\n",
            "Epoch 50/100\n",
            "1493/1493 [==============================] - 1s 941us/step - loss: 0.4891 - accuracy: 0.7796\n",
            "Epoch 51/100\n",
            "1493/1493 [==============================] - 1s 959us/step - loss: 0.4825 - accuracy: 0.7917\n",
            "Epoch 52/100\n",
            "1493/1493 [==============================] - 1s 951us/step - loss: 0.4843 - accuracy: 0.7910\n",
            "Epoch 53/100\n",
            "1493/1493 [==============================] - 1s 934us/step - loss: 0.4711 - accuracy: 0.8004\n",
            "Epoch 54/100\n",
            "1493/1493 [==============================] - 1s 944us/step - loss: 0.4688 - accuracy: 0.7997\n",
            "Epoch 55/100\n",
            "1493/1493 [==============================] - 1s 933us/step - loss: 0.4871 - accuracy: 0.7890\n",
            "Epoch 56/100\n",
            "1493/1493 [==============================] - 1s 930us/step - loss: 0.4697 - accuracy: 0.8031\n",
            "Epoch 57/100\n",
            "1493/1493 [==============================] - 1s 974us/step - loss: 0.4937 - accuracy: 0.7890\n",
            "Epoch 58/100\n",
            "1493/1493 [==============================] - 1s 971us/step - loss: 0.4637 - accuracy: 0.7977\n",
            "Epoch 59/100\n",
            "1493/1493 [==============================] - 1s 961us/step - loss: 0.4614 - accuracy: 0.7944\n",
            "Epoch 60/100\n",
            "1493/1493 [==============================] - 1s 934us/step - loss: 0.4654 - accuracy: 0.8071\n",
            "Epoch 61/100\n",
            "1493/1493 [==============================] - 1s 940us/step - loss: 0.4728 - accuracy: 0.7937\n",
            "Epoch 62/100\n",
            "1493/1493 [==============================] - 1s 935us/step - loss: 0.4587 - accuracy: 0.7910\n",
            "Epoch 63/100\n",
            "1493/1493 [==============================] - 1s 956us/step - loss: 0.4639 - accuracy: 0.7937\n",
            "Epoch 64/100\n",
            "1493/1493 [==============================] - 1s 953us/step - loss: 0.4560 - accuracy: 0.8017\n",
            "Epoch 65/100\n",
            "1493/1493 [==============================] - 1s 933us/step - loss: 0.4663 - accuracy: 0.8017\n",
            "Epoch 66/100\n",
            "1493/1493 [==============================] - 1s 966us/step - loss: 0.4641 - accuracy: 0.7930\n",
            "Epoch 67/100\n",
            "1493/1493 [==============================] - 1s 980us/step - loss: 0.4633 - accuracy: 0.7977\n",
            "Epoch 68/100\n",
            "1493/1493 [==============================] - 1s 946us/step - loss: 0.4523 - accuracy: 0.8051\n",
            "Epoch 69/100\n",
            "1493/1493 [==============================] - 1s 959us/step - loss: 0.4422 - accuracy: 0.8091\n",
            "Epoch 70/100\n",
            "1493/1493 [==============================] - 1s 969us/step - loss: 0.4543 - accuracy: 0.8084\n",
            "Epoch 71/100\n",
            "1493/1493 [==============================] - 1s 970us/step - loss: 0.4450 - accuracy: 0.8071\n",
            "Epoch 72/100\n",
            "1493/1493 [==============================] - 1s 961us/step - loss: 0.4593 - accuracy: 0.7977\n",
            "Epoch 73/100\n",
            "1493/1493 [==============================] - 1s 931us/step - loss: 0.4548 - accuracy: 0.8038\n",
            "Epoch 74/100\n",
            "1493/1493 [==============================] - 1s 961us/step - loss: 0.4543 - accuracy: 0.8084\n",
            "Epoch 75/100\n",
            "1493/1493 [==============================] - 1s 944us/step - loss: 0.4373 - accuracy: 0.8145\n",
            "Epoch 76/100\n",
            "1493/1493 [==============================] - 1s 946us/step - loss: 0.4406 - accuracy: 0.8131\n",
            "Epoch 77/100\n",
            "1493/1493 [==============================] - 1s 955us/step - loss: 0.4511 - accuracy: 0.8138\n",
            "Epoch 78/100\n",
            "1493/1493 [==============================] - 1s 946us/step - loss: 0.4405 - accuracy: 0.8078\n",
            "Epoch 79/100\n",
            "1493/1493 [==============================] - 1s 993us/step - loss: 0.4421 - accuracy: 0.8198\n",
            "Epoch 80/100\n",
            "1493/1493 [==============================] - 1s 947us/step - loss: 0.4475 - accuracy: 0.8051\n",
            "Epoch 81/100\n",
            "1493/1493 [==============================] - 1s 961us/step - loss: 0.4392 - accuracy: 0.8125\n",
            "Epoch 82/100\n",
            "1493/1493 [==============================] - 1s 969us/step - loss: 0.4414 - accuracy: 0.8051\n",
            "Epoch 83/100\n",
            "1493/1493 [==============================] - 1s 932us/step - loss: 0.4326 - accuracy: 0.8145\n",
            "Epoch 84/100\n",
            "1493/1493 [==============================] - 1s 964us/step - loss: 0.4409 - accuracy: 0.8058\n",
            "Epoch 85/100\n",
            "1493/1493 [==============================] - 1s 938us/step - loss: 0.4356 - accuracy: 0.8104\n",
            "Epoch 86/100\n",
            "1493/1493 [==============================] - 1s 975us/step - loss: 0.4337 - accuracy: 0.8171\n",
            "Epoch 87/100\n",
            "1493/1493 [==============================] - 1s 949us/step - loss: 0.4202 - accuracy: 0.8279\n",
            "Epoch 88/100\n",
            "1493/1493 [==============================] - 1s 971us/step - loss: 0.4357 - accuracy: 0.8158\n",
            "Epoch 89/100\n",
            "1493/1493 [==============================] - 1s 958us/step - loss: 0.4224 - accuracy: 0.8225\n",
            "Epoch 90/100\n",
            "1493/1493 [==============================] - 1s 970us/step - loss: 0.4300 - accuracy: 0.8145\n",
            "Epoch 91/100\n",
            "1493/1493 [==============================] - 1s 958us/step - loss: 0.4271 - accuracy: 0.8225\n",
            "Epoch 92/100\n",
            "1493/1493 [==============================] - 1s 947us/step - loss: 0.4233 - accuracy: 0.8185\n",
            "Epoch 93/100\n",
            "1493/1493 [==============================] - 1s 958us/step - loss: 0.4328 - accuracy: 0.8084\n",
            "Epoch 94/100\n",
            "1493/1493 [==============================] - 1s 958us/step - loss: 0.4134 - accuracy: 0.8232\n",
            "Epoch 95/100\n",
            "1493/1493 [==============================] - 1s 972us/step - loss: 0.4224 - accuracy: 0.8218\n",
            "Epoch 96/100\n",
            "1493/1493 [==============================] - 1s 944us/step - loss: 0.4278 - accuracy: 0.8151\n",
            "Epoch 97/100\n",
            "1493/1493 [==============================] - 1s 951us/step - loss: 0.4214 - accuracy: 0.8158\n",
            "Epoch 98/100\n",
            "1493/1493 [==============================] - 1s 971us/step - loss: 0.4238 - accuracy: 0.8198\n",
            "Epoch 99/100\n",
            "1493/1493 [==============================] - 1s 959us/step - loss: 0.4212 - accuracy: 0.8245\n",
            "Epoch 100/100\n",
            "1493/1493 [==============================] - 1s 982us/step - loss: 0.4121 - accuracy: 0.8292\n",
            "21/21 [==============================] - 0s 1ms/step - loss: 0.5502 - accuracy: 0.7395\n",
            "[0.5502438545227051, 0.739469587802887]\n",
            "Keras: \n",
            "accuracy: 73.95%\n"
          ],
          "name": "stdout"
        },
        {
          "output_type": "display_data",
          "data": {
            "image/png": "[encoded data removed]",
            "text/plain": [
              "<Figure size 360x360 with 2 Axes>"
            ]
          },
          "metadata": {
            "tags": [],
            "needs_background": "light"
          }
        }
      ]
    },
    {
      "cell_type": "code",
      "metadata": {
        "id": "VpHlAQw5xngZ",
        "outputId": "64e6bcd6-dce5-40a3-d025-e3e273114dc6",
        "colab": {
          "base_uri": "https://localhost:8080/",
          "height": 170
        }
      },
      "source": [
        "print(classification_report(y_test,y_pred))"
      ],
      "execution_count": null,
      "outputs": [
        {
          "output_type": "stream",
          "text": [
            "              precision    recall  f1-score   support\n",
            "\n",
            "           0       0.79      0.69      0.74       337\n",
            "           1       0.70      0.80      0.74       304\n",
            "\n",
            "    accuracy                           0.74       641\n",
            "   macro avg       0.74      0.74      0.74       641\n",
            "weighted avg       0.75      0.74      0.74       641\n",
            "\n"
          ],
          "name": "stdout"
        }
      ]
    },
    {
      "cell_type": "markdown",
      "metadata": {
        "id": "5h7zXPXkv2S8"
      },
      "source": [
        "# Conclusion"
      ]
    },
    {
      "cell_type": "markdown",
      "metadata": {
        "id": "6yHBoGZoep7c"
      },
      "source": [
        ""
      ]
    },
    {
      "cell_type": "markdown",
      "metadata": {
        "id": "yaT51f4neqBN"
      },
      "source": [
        ""
      ]
    },
    {
      "cell_type": "markdown",
      "metadata": {
        "id": "R9T6siaOep5G"
      },
      "source": [
        ""
      ]
    },
    {
      "cell_type": "code",
      "metadata": {
        "id": "FOceFLCjv6lb"
      },
      "source": [
        ""
      ],
      "execution_count": null,
      "outputs": []
    },
    {
      "cell_type": "code",
      "metadata": {
        "id": "lziUBSL-v6jB"
      },
      "source": [
        ""
      ],
      "execution_count": null,
      "outputs": []
    }
  ]
}